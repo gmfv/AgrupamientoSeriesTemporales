{
 "cells": [
  {
   "cell_type": "code",
   "execution_count": 11,
   "metadata": {},
   "outputs": [],
   "source": [
    "import glob\n",
    "import os\n",
    "import matplotlib.pyplot as plt\n",
    "import numpy as np\n",
    "import pandas as pd\n",
    "import seaborn as sns\n",
    "from sklearn.preprocessing import MinMaxScaler\n",
    "scaler = MinMaxScaler()\n",
    "\n",
    "my_path = os.path.abspath('')\n",
    "my_path = my_path.split('\\\\')\n",
    "my_path_py = \"\\\\\".join(my_path[:-1])"
   ]
  },
  {
   "cell_type": "code",
   "execution_count": 12,
   "metadata": {},
   "outputs": [],
   "source": [
    "DF_TOTAL_T=pd.read_csv(my_path_py+'\\\\DatosRaw\\\\DEN_2015to2020.csv', sep=',')"
   ]
  },
  {
   "cell_type": "code",
   "execution_count": 13,
   "metadata": {},
   "outputs": [
    {
     "name": "stdout",
     "output_type": "stream",
     "text": [
      "Dep-Prov-Distrito\n",
      "Distrito\n",
      "Semana\n",
      "Incidencia semanal\n",
      "Casos\n",
      "Año\n"
     ]
    },
    {
     "data": {
      "text/html": [
       "<div>\n",
       "<style scoped>\n",
       "    .dataframe tbody tr th:only-of-type {\n",
       "        vertical-align: middle;\n",
       "    }\n",
       "\n",
       "    .dataframe tbody tr th {\n",
       "        vertical-align: top;\n",
       "    }\n",
       "\n",
       "    .dataframe thead th {\n",
       "        text-align: right;\n",
       "    }\n",
       "</style>\n",
       "<table border=\"1\" class=\"dataframe\">\n",
       "  <thead>\n",
       "    <tr style=\"text-align: right;\">\n",
       "      <th></th>\n",
       "      <th>Dep-Prov-Distrito</th>\n",
       "      <th>Distrito</th>\n",
       "      <th>Semana</th>\n",
       "      <th>Incidencia semanal</th>\n",
       "      <th>Casos</th>\n",
       "      <th>Año</th>\n",
       "    </tr>\n",
       "  </thead>\n",
       "  <tbody>\n",
       "    <tr>\n",
       "      <th>0</th>\n",
       "      <td>LAMBAYEQUE, LAMBAYEQUE, LAMBAYEQUE</td>\n",
       "      <td>LAMBAYEQUE</td>\n",
       "      <td>24</td>\n",
       "      <td>1.24886</td>\n",
       "      <td>1.0</td>\n",
       "      <td>2015</td>\n",
       "    </tr>\n",
       "    <tr>\n",
       "      <th>1</th>\n",
       "      <td>LAMBAYEQUE, LAMBAYEQUE, LAMBAYEQUE</td>\n",
       "      <td>LAMBAYEQUE</td>\n",
       "      <td>27</td>\n",
       "      <td>1.24886</td>\n",
       "      <td>1.0</td>\n",
       "      <td>2015</td>\n",
       "    </tr>\n",
       "    <tr>\n",
       "      <th>2</th>\n",
       "      <td>LAMBAYEQUE, LAMBAYEQUE, LAMBAYEQUE</td>\n",
       "      <td>LAMBAYEQUE</td>\n",
       "      <td>21</td>\n",
       "      <td>1.24886</td>\n",
       "      <td>1.0</td>\n",
       "      <td>2015</td>\n",
       "    </tr>\n",
       "    <tr>\n",
       "      <th>3</th>\n",
       "      <td>LAMBAYEQUE, LAMBAYEQUE, LAMBAYEQUE</td>\n",
       "      <td>LAMBAYEQUE</td>\n",
       "      <td>53</td>\n",
       "      <td>0.00000</td>\n",
       "      <td>0.0</td>\n",
       "      <td>2015</td>\n",
       "    </tr>\n",
       "    <tr>\n",
       "      <th>4</th>\n",
       "      <td>LAMBAYEQUE, LAMBAYEQUE, LAMBAYEQUE</td>\n",
       "      <td>LAMBAYEQUE</td>\n",
       "      <td>52</td>\n",
       "      <td>0.00000</td>\n",
       "      <td>0.0</td>\n",
       "      <td>2015</td>\n",
       "    </tr>\n",
       "    <tr>\n",
       "      <th>...</th>\n",
       "      <td>...</td>\n",
       "      <td>...</td>\n",
       "      <td>...</td>\n",
       "      <td>...</td>\n",
       "      <td>...</td>\n",
       "      <td>...</td>\n",
       "    </tr>\n",
       "    <tr>\n",
       "      <th>85272</th>\n",
       "      <td>HUANUCO, LEONCIO PRADO, CASTILLO GRANDE</td>\n",
       "      <td>CASTILLO GRANDE</td>\n",
       "      <td>283</td>\n",
       "      <td>NaN</td>\n",
       "      <td>0.0</td>\n",
       "      <td>2020</td>\n",
       "    </tr>\n",
       "    <tr>\n",
       "      <th>85273</th>\n",
       "      <td>HUANUCO, LEONCIO PRADO, CASTILLO GRANDE</td>\n",
       "      <td>CASTILLO GRANDE</td>\n",
       "      <td>284</td>\n",
       "      <td>NaN</td>\n",
       "      <td>0.0</td>\n",
       "      <td>2020</td>\n",
       "    </tr>\n",
       "    <tr>\n",
       "      <th>85274</th>\n",
       "      <td>HUANUCO, LEONCIO PRADO, CASTILLO GRANDE</td>\n",
       "      <td>CASTILLO GRANDE</td>\n",
       "      <td>285</td>\n",
       "      <td>NaN</td>\n",
       "      <td>0.0</td>\n",
       "      <td>2020</td>\n",
       "    </tr>\n",
       "    <tr>\n",
       "      <th>85275</th>\n",
       "      <td>HUANUCO, LEONCIO PRADO, CASTILLO GRANDE</td>\n",
       "      <td>CASTILLO GRANDE</td>\n",
       "      <td>286</td>\n",
       "      <td>NaN</td>\n",
       "      <td>0.0</td>\n",
       "      <td>2020</td>\n",
       "    </tr>\n",
       "    <tr>\n",
       "      <th>85276</th>\n",
       "      <td>HUANUCO, LEONCIO PRADO, CASTILLO GRANDE</td>\n",
       "      <td>CASTILLO GRANDE</td>\n",
       "      <td>287</td>\n",
       "      <td>NaN</td>\n",
       "      <td>0.0</td>\n",
       "      <td>2020</td>\n",
       "    </tr>\n",
       "  </tbody>\n",
       "</table>\n",
       "<p>85277 rows × 6 columns</p>\n",
       "</div>"
      ],
      "text/plain": [
       "                             Dep-Prov-Distrito         Distrito  Semana  \\\n",
       "0           LAMBAYEQUE, LAMBAYEQUE, LAMBAYEQUE       LAMBAYEQUE      24   \n",
       "1           LAMBAYEQUE, LAMBAYEQUE, LAMBAYEQUE       LAMBAYEQUE      27   \n",
       "2           LAMBAYEQUE, LAMBAYEQUE, LAMBAYEQUE       LAMBAYEQUE      21   \n",
       "3           LAMBAYEQUE, LAMBAYEQUE, LAMBAYEQUE       LAMBAYEQUE      53   \n",
       "4           LAMBAYEQUE, LAMBAYEQUE, LAMBAYEQUE       LAMBAYEQUE      52   \n",
       "...                                        ...              ...     ...   \n",
       "85272  HUANUCO, LEONCIO PRADO, CASTILLO GRANDE  CASTILLO GRANDE     283   \n",
       "85273  HUANUCO, LEONCIO PRADO, CASTILLO GRANDE  CASTILLO GRANDE     284   \n",
       "85274  HUANUCO, LEONCIO PRADO, CASTILLO GRANDE  CASTILLO GRANDE     285   \n",
       "85275  HUANUCO, LEONCIO PRADO, CASTILLO GRANDE  CASTILLO GRANDE     286   \n",
       "85276  HUANUCO, LEONCIO PRADO, CASTILLO GRANDE  CASTILLO GRANDE     287   \n",
       "\n",
       "       Incidencia semanal  Casos   Año  \n",
       "0                 1.24886    1.0  2015  \n",
       "1                 1.24886    1.0  2015  \n",
       "2                 1.24886    1.0  2015  \n",
       "3                 0.00000    0.0  2015  \n",
       "4                 0.00000    0.0  2015  \n",
       "...                   ...    ...   ...  \n",
       "85272                 NaN    0.0  2020  \n",
       "85273                 NaN    0.0  2020  \n",
       "85274                 NaN    0.0  2020  \n",
       "85275                 NaN    0.0  2020  \n",
       "85276                 NaN    0.0  2020  \n",
       "\n",
       "[85277 rows x 6 columns]"
      ]
     },
     "execution_count": 13,
     "metadata": {},
     "output_type": "execute_result"
    }
   ],
   "source": [
    "for i in DF_TOTAL_T.columns:\n",
    "    print(i)\n",
    "\n",
    "DF_TOTAL_T"
   ]
  },
  {
   "cell_type": "code",
   "execution_count": 4,
   "metadata": {},
   "outputs": [
    {
     "name": "stdout",
     "output_type": "stream",
     "text": [
      "Son  505  distritos\n",
      "['AMAZONAS, BAGUA, ARAMANGO', 'AMAZONAS, BAGUA, BAGUA', 'AMAZONAS, BAGUA, COPALLIN', 'AMAZONAS, BAGUA, EL PARCO', 'AMAZONAS, BAGUA, IMAZA', 'AMAZONAS, BAGUA, LA PECA', 'AMAZONAS, BONGARA, FLORIDA', 'AMAZONAS, BONGARA, JAZAN', 'AMAZONAS, CHACHAPOYAS, CHACHAPOYAS', 'AMAZONAS, CONDORCANQUI, EL CENEPA', 'AMAZONAS, CONDORCANQUI, NIEVA', 'AMAZONAS, CONDORCANQUI, RIO SANTIAGO', 'AMAZONAS, UTCUBAMBA, BAGUA GRANDE', 'AMAZONAS, UTCUBAMBA, CAJARURO', 'AMAZONAS, UTCUBAMBA, CUMBA', 'AMAZONAS, UTCUBAMBA, EL MILAGRO', 'AMAZONAS, UTCUBAMBA, JAMALCA', 'AMAZONAS, UTCUBAMBA, YAMON', 'ANCASH, CASMA, BUENA VISTA ALTA', 'ANCASH, CASMA, CASMA', 'ANCASH, CASMA, COMANDANTE NOEL', 'ANCASH, HUARMEY, HUARMEY', 'ANCASH, SANTA, CHIMBOTE', 'ANCASH, SANTA, COISHCO', 'ANCASH, SANTA, NEPEÑA', 'ANCASH, SANTA, NUEVO CHIMBOTE', 'ANCASH, SANTA, SANTA', 'AREQUIPA, CARAVELI, BELLA UNION', 'AYACUCHO, CANGALLO, CANGALLO', 'AYACUCHO, HUAMANGA, AYACUCHO', 'AYACUCHO, HUAMANGA, JESUS NAZARENO', 'AYACUCHO, HUAMANGA, SAN JUAN BAUTISTA', 'AYACUCHO, HUANTA, CANAYRE', 'AYACUCHO, HUANTA, HUANTA', 'AYACUCHO, HUANTA, LLOCHEGUA', 'AYACUCHO, HUANTA, SANTILLANA', 'AYACUCHO, HUANTA, SIVIA', 'AYACUCHO, LA MAR, ANCHIHUAY', 'AYACUCHO, LA MAR, ANCO', 'AYACUCHO, LA MAR, AYNA', 'AYACUCHO, LA MAR, CHUNGUI', 'AYACUCHO, LA MAR, SAMUGARI', 'AYACUCHO, LA MAR, SAN MIGUEL', 'AYACUCHO, LA MAR, SANTA ROSA', 'AYACUCHO, LUCANAS, LUCANAS', 'AYACUCHO, PAUCAR DEL SARA SARA, SAN JAVIER DE ALPABAMBA', 'AYACUCHO, SUCRE, SAN PEDRO DE LARCAY', 'CAJAMARCA, CAJAMARCA, CAJAMARCA', 'CAJAMARCA, CAJAMARCA, MAGDALENA', 'CAJAMARCA, CHOTA, CHOTA', 'CAJAMARCA, CHOTA, HUAMBOS', 'CAJAMARCA, CONTUMAZA, CHILETE', 'CAJAMARCA, CONTUMAZA, CONTUMAZA', 'CAJAMARCA, CONTUMAZA, TANTARICA', 'CAJAMARCA, CONTUMAZA, YONAN', 'CAJAMARCA, CUTERVO, CALLAYUC', 'CAJAMARCA, CUTERVO, CUTERVO', 'CAJAMARCA, CUTERVO, QUEROCOTILLO', 'CAJAMARCA, CUTERVO, SANTO TOMAS', 'CAJAMARCA, HUALGAYOC, HUALGAYOC', 'CAJAMARCA, JAEN, BELLAVISTA', 'CAJAMARCA, JAEN, COLASAY', 'CAJAMARCA, JAEN, HUABAL', 'CAJAMARCA, JAEN, JAEN', 'CAJAMARCA, JAEN, PUCARA', 'CAJAMARCA, JAEN, SAN JOSE DEL ALTO', 'CAJAMARCA, JAEN, SANTA ROSA', 'CAJAMARCA, SAN IGNACIO, CHIRINOS', 'CAJAMARCA, SAN IGNACIO, HUARANGO', 'CAJAMARCA, SAN IGNACIO, LA COIPA', 'CAJAMARCA, SAN IGNACIO, NAMBALLE', 'CAJAMARCA, SAN IGNACIO, SAN IGNACIO', 'CAJAMARCA, SAN IGNACIO, SAN JOSE DE LOURDES', 'CAJAMARCA, SANTA CRUZ, NINABAMBA', 'CALLAO, CALLAO, VENTANILLA', 'CUSCO, CALCA, YANATILE', 'CUSCO, CUSCO, CUSCO', 'CUSCO, LA CONVENCION, ECHARATE', 'CUSCO, LA CONVENCION, HUAYOPATA', 'CUSCO, LA CONVENCION, KIMBIRI', 'CUSCO, LA CONVENCION, MARANURA', 'CUSCO, LA CONVENCION, MEGANTONI', 'CUSCO, LA CONVENCION, PICHARI', 'CUSCO, LA CONVENCION, QUELLOUNO', 'CUSCO, LA CONVENCION, SANTA ANA', 'CUSCO, LA CONVENCION, SANTA TERESA', 'CUSCO, LA CONVENCION, VILCABAMBA', 'CUSCO, LA CONVENCION, VILLA KINTIARINA', 'CUSCO, LA CONVENCION, VILLA VIRGEN', 'CUSCO, PAUCARTAMBO, KOSÑIPATA', 'CUSCO, QUISPICANCHI, CAMANTI', 'HUANUCO, AMBO, AMBO', 'HUANUCO, HUAMALIES, MONZON', 'HUANUCO, HUANUCO, AMARILIS', 'HUANUCO, HUANUCO, CHINCHAO', 'HUANUCO, HUANUCO, HUANUCO', 'HUANUCO, HUANUCO, PILLCO MARCA', 'HUANUCO, HUANUCO, SANTA MARIA DEL VALLE', 'HUANUCO, LAURICOCHA, JIVIA', 'HUANUCO, LEONCIO PRADO, CASTILLO GRANDE', 'HUANUCO, LEONCIO PRADO, DANIEL ALOMIA ROBLES', 'HUANUCO, LEONCIO PRADO, HERMILIO VALDIZAN', 'HUANUCO, LEONCIO PRADO, JOSE CRESPO Y CASTILLO', 'HUANUCO, LEONCIO PRADO, LUYANDO', 'HUANUCO, LEONCIO PRADO, MARIANO DAMASO BERAUN', 'HUANUCO, LEONCIO PRADO, PUEBLO NUEVO', 'HUANUCO, LEONCIO PRADO, RUPA-RUPA', 'HUANUCO, MARAÑON, CHOLON', 'HUANUCO, PACHITEA, PANAO', 'HUANUCO, PACHITEA, UMARI', 'HUANUCO, PUERTO INCA, CODO DEL POZUZO', 'HUANUCO, PUERTO INCA, HONORIA', 'HUANUCO, PUERTO INCA, PUERTO INCA', 'HUANUCO, PUERTO INCA, TOURNAVISTA', 'HUANUCO, PUERTO INCA, YUYAPICHIS', 'ICA, CHINCHA, ALTO LARAN', 'ICA, CHINCHA, CHINCHA ALTA', 'ICA, CHINCHA, CHINCHA BAJA', 'ICA, CHINCHA, EL CARMEN', 'ICA, CHINCHA, GROCIO PRADO', 'ICA, CHINCHA, PUEBLO NUEVO', 'ICA, CHINCHA, SUNAMPE', 'ICA, CHINCHA, TAMBO DE MORA', 'ICA, ICA, ICA', 'ICA, ICA, LA TINGUIÑA', 'ICA, ICA, LOS AQUIJES', 'ICA, ICA, OCUCAJE', 'ICA, ICA, PACHACUTEC', 'ICA, ICA, PARCONA', 'ICA, ICA, PUEBLO NUEVO', 'ICA, ICA, SALAS', 'ICA, ICA, SAN JOSE DE LOS MOLINOS', 'ICA, ICA, SAN JUAN BAUTISTA', 'ICA, ICA, SANTIAGO', 'ICA, ICA, SUBTANJALLA', 'ICA, ICA, TATE', 'ICA, ICA, YAUCA DEL ROSARIO', 'ICA, NASCA, CHANGUILLO', 'ICA, NASCA, EL INGENIO', 'ICA, NASCA, MARCONA', 'ICA, NASCA, NASCA', 'ICA, NASCA, VISTA ALEGRE', 'ICA, PALPA, LLIPATA', 'ICA, PALPA, PALPA', 'ICA, PALPA, RIO GRANDE', 'ICA, PALPA, SANTA CRUZ', 'ICA, PISCO, HUANCANO', 'ICA, PISCO, HUMAY', 'ICA, PISCO, INDEPENDENCIA', 'ICA, PISCO, PARACAS', 'ICA, PISCO, PISCO', 'ICA, PISCO, SAN ANDRES', 'ICA, PISCO, SAN CLEMENTE', 'ICA, PISCO, TUPAC AMARU INCA', 'JUNIN, CHANCHAMAYO, CHANCHAMAYO', 'JUNIN, CHANCHAMAYO, PERENE', 'JUNIN, CHANCHAMAYO, PICHANAQUI', 'JUNIN, CHANCHAMAYO, SAN LUIS DE SHUARO', 'JUNIN, CHANCHAMAYO, SAN RAMON', 'JUNIN, CHANCHAMAYO, VITOC', 'JUNIN, HUANCAYO, EL TAMBO', 'JUNIN, HUANCAYO, SANTO DOMINGO DE ACOBAMBA', 'JUNIN, HUANCAYO, SAPALLANGA', 'JUNIN, JUNIN, JUNIN', 'JUNIN, SATIPO, COVIRIALI', 'JUNIN, SATIPO, LLAYLLA', 'JUNIN, SATIPO, MAZAMARI', 'JUNIN, SATIPO, PAMPA HERMOSA', 'JUNIN, SATIPO, PANGOA', 'JUNIN, SATIPO, RIO NEGRO', 'JUNIN, SATIPO, RIO TAMBO', 'JUNIN, SATIPO, SATIPO', 'JUNIN, SATIPO, VIZCATAN DEL ENE', 'JUNIN, YAULI, LA OROYA', 'LA LIBERTAD, ASCOPE, ASCOPE', 'LA LIBERTAD, ASCOPE, CASA GRANDE', 'LA LIBERTAD, ASCOPE, CHICAMA', 'LA LIBERTAD, ASCOPE, CHOCOPE', 'LA LIBERTAD, ASCOPE, PAIJAN', 'LA LIBERTAD, ASCOPE, SANTIAGO DE CAO', 'LA LIBERTAD, CHEPEN, CHEPEN', 'LA LIBERTAD, CHEPEN, PACANGA', 'LA LIBERTAD, CHEPEN, PUEBLO NUEVO', 'LA LIBERTAD, GRAN CHIMU, CASCAS', 'LA LIBERTAD, PACASMAYO, GUADALUPE', 'LA LIBERTAD, PACASMAYO, JEQUETEPEQUE', 'LA LIBERTAD, PACASMAYO, PACASMAYO', 'LA LIBERTAD, PACASMAYO, SAN JOSE', 'LA LIBERTAD, PACASMAYO, SAN PEDRO DE LLOC', 'LA LIBERTAD, PATAZ, PATAZ', 'LA LIBERTAD, SANCHEZ CARRION, COCHORCO', 'LA LIBERTAD, TRUJILLO, EL PORVENIR', 'LA LIBERTAD, TRUJILLO, FLORENCIA DE MORA', 'LA LIBERTAD, TRUJILLO, HUANCHACO', 'LA LIBERTAD, TRUJILLO, LA ESPERANZA', 'LA LIBERTAD, TRUJILLO, LAREDO', 'LA LIBERTAD, TRUJILLO, MOCHE', 'LA LIBERTAD, TRUJILLO, SALAVERRY', 'LA LIBERTAD, TRUJILLO, TRUJILLO', 'LA LIBERTAD, TRUJILLO, VICTOR LARCO HERRERA', 'LA LIBERTAD, VIRU, CHAO', 'LA LIBERTAD, VIRU, GUADALUPITO', 'LA LIBERTAD, VIRU, VIRU', 'LAMBAYEQUE, CHICLAYO, CAYALTI', 'LAMBAYEQUE, CHICLAYO, CHICLAYO', 'LAMBAYEQUE, CHICLAYO, CHONGOYAPE', 'LAMBAYEQUE, CHICLAYO, JOSE LEONARDO ORTIZ', 'LAMBAYEQUE, CHICLAYO, LA VICTORIA', 'LAMBAYEQUE, CHICLAYO, LAGUNAS', 'LAMBAYEQUE, CHICLAYO, MONSEFU', 'LAMBAYEQUE, CHICLAYO, OYOTUN', 'LAMBAYEQUE, CHICLAYO, PATAPO', 'LAMBAYEQUE, CHICLAYO, PICSI', 'LAMBAYEQUE, CHICLAYO, PIMENTEL', 'LAMBAYEQUE, CHICLAYO, POMALCA', 'LAMBAYEQUE, CHICLAYO, PUCALA', 'LAMBAYEQUE, CHICLAYO, REQUE', 'LAMBAYEQUE, CHICLAYO, SAÑA', 'LAMBAYEQUE, CHICLAYO, TUMAN', 'LAMBAYEQUE, FERREÑAFE, FERREÑAFE', 'LAMBAYEQUE, FERREÑAFE, MANUEL ANTONIO MESONES MURO', 'LAMBAYEQUE, FERREÑAFE, PITIPO', 'LAMBAYEQUE, FERREÑAFE, PUEBLO NUEVO', 'LAMBAYEQUE, LAMBAYEQUE, CHOCHOPE', 'LAMBAYEQUE, LAMBAYEQUE, ILLIMO', 'LAMBAYEQUE, LAMBAYEQUE, JAYANCA', 'LAMBAYEQUE, LAMBAYEQUE, LAMBAYEQUE', 'LAMBAYEQUE, LAMBAYEQUE, MOCHUMI', 'LAMBAYEQUE, LAMBAYEQUE, MORROPE', 'LAMBAYEQUE, LAMBAYEQUE, MOTUPE', 'LAMBAYEQUE, LAMBAYEQUE, OLMOS', 'LAMBAYEQUE, LAMBAYEQUE, PACORA', 'LAMBAYEQUE, LAMBAYEQUE, SALAS', 'LAMBAYEQUE, LAMBAYEQUE, SAN JOSE', 'LAMBAYEQUE, LAMBAYEQUE, TUCUME', 'LIMA, BARRANCA, BARRANCA', 'LIMA, CAÑETE, CHILCA', 'LIMA, HUAROCHIRI, HUAROCHIRI', 'LIMA, HUAURA, HUALMAY', 'LIMA, LIMA, ATE', 'LIMA, LIMA, CARABAYLLO', 'LIMA, LIMA, CHORRILLOS', 'LIMA, LIMA, COMAS', 'LIMA, LIMA, INDEPENDENCIA', 'LIMA, LIMA, LA MOLINA', 'LIMA, LIMA, LA VICTORIA', 'LIMA, LIMA, LIMA', 'LIMA, LIMA, LOS OLIVOS', 'LIMA, LIMA, LURIGANCHO', 'LIMA, LIMA, MAGDALENA DEL MAR', 'LIMA, LIMA, PUCUSANA', 'LIMA, LIMA, PUEBLO LIBRE', 'LIMA, LIMA, PUENTE PIEDRA', 'LIMA, LIMA, RIMAC', 'LIMA, LIMA, SAN BORJA', 'LIMA, LIMA, SAN ISIDRO', 'LIMA, LIMA, SAN JUAN DE LURIGANCHO', 'LIMA, LIMA, SAN JUAN DE MIRAFLORES', 'LIMA, LIMA, SAN LUIS', 'LIMA, LIMA, SAN MARTIN DE PORRES', 'LIMA, LIMA, SAN MIGUEL', 'LIMA, LIMA, SANTA ANITA', 'LIMA, LIMA, SANTIAGO DE SURCO', 'LIMA, LIMA, VILLA EL SALVADOR', 'LIMA, LIMA, VILLA MARIA DEL TRIUNFO', 'LORETO, ALTO AMAZONAS, BALSAPUERTO', 'LORETO, ALTO AMAZONAS, JEBEROS', 'LORETO, ALTO AMAZONAS, LAGUNAS', 'LORETO, ALTO AMAZONAS, SANTA CRUZ', 'LORETO, ALTO AMAZONAS, TENIENTE CESAR LOPEZ ROJAS', 'LORETO, ALTO AMAZONAS, YURIMAGUAS', 'LORETO, DATEM DEL MARAÑON, ANDOAS', 'LORETO, DATEM DEL MARAÑON, BARRANCA', 'LORETO, DATEM DEL MARAÑON, MANSERICHE', 'LORETO, DATEM DEL MARAÑON, MORONA', 'LORETO, DATEM DEL MARAÑON, PASTAZA', 'LORETO, LORETO, NAUTA', 'LORETO, LORETO, PARINARI', 'LORETO, LORETO, TIGRE', 'LORETO, LORETO, TROMPETEROS', 'LORETO, LORETO, URARINAS', 'LORETO, MARISCAL RAMON CASTILLA, PEBAS', 'LORETO, MARISCAL RAMON CASTILLA, RAMON CASTILLA', 'LORETO, MARISCAL RAMON CASTILLA, SAN PABLO', 'LORETO, MARISCAL RAMON CASTILLA, YAVARI', 'LORETO, MAYNAS, ALTO NANAY', 'LORETO, MAYNAS, BELEN', 'LORETO, MAYNAS, FERNANDO LORES', 'LORETO, MAYNAS, INDIANA', 'LORETO, MAYNAS, IQUITOS', 'LORETO, MAYNAS, LAS AMAZONAS', 'LORETO, MAYNAS, MAZAN', 'LORETO, MAYNAS, NAPO', 'LORETO, MAYNAS, PUNCHANA', 'LORETO, MAYNAS, SAN JUAN BAUTISTA', 'LORETO, MAYNAS, TORRES CAUSANA', 'LORETO, PUTUMAYO, PUTUMAYO', 'LORETO, PUTUMAYO, TENIENTE MANUEL CLAVERO', 'LORETO, PUTUMAYO, YAGUAS', 'LORETO, REQUENA, ALTO TAPICHE', 'LORETO, REQUENA, CAPELO', 'LORETO, REQUENA, EMILIO SAN MARTIN', 'LORETO, REQUENA, JENARO HERRERA', 'LORETO, REQUENA, MAQUIA', 'LORETO, REQUENA, PUINAHUA', 'LORETO, REQUENA, REQUENA', 'LORETO, REQUENA, SAQUENA', 'LORETO, REQUENA, SOPLIN', 'LORETO, REQUENA, TAPICHE', 'LORETO, REQUENA, YAQUERANA', 'LORETO, UCAYALI, CONTAMANA', 'LORETO, UCAYALI, INAHUAYA', 'LORETO, UCAYALI, PADRE MARQUEZ', 'LORETO, UCAYALI, PAMPA HERMOSA', 'LORETO, UCAYALI, SARAYACU', 'LORETO, UCAYALI, VARGAS GUERRA', 'MADRE DE DIOS, MANU, HUEPETUHE', 'MADRE DE DIOS, MANU, MADRE DE DIOS', 'MADRE DE DIOS, MANU, MANU', 'MADRE DE DIOS, TAHUAMANU, IBERIA', 'MADRE DE DIOS, TAHUAMANU, IÑAPARI', 'MADRE DE DIOS, TAHUAMANU, TAHUAMANU', 'MADRE DE DIOS, TAMBOPATA, INAMBARI', 'MADRE DE DIOS, TAMBOPATA, LABERINTO', 'MADRE DE DIOS, TAMBOPATA, LAS PIEDRAS', 'MADRE DE DIOS, TAMBOPATA, TAMBOPATA', 'MOQUEGUA, MARISCAL NIETO, MOQUEGUA', 'PASCO, OXAPAMPA, CONSTITUCION', 'PASCO, OXAPAMPA, OXAPAMPA', 'PASCO, OXAPAMPA, PALCAZU', 'PASCO, OXAPAMPA, POZUZO', 'PASCO, OXAPAMPA, PUERTO BERMUDEZ', 'PASCO, OXAPAMPA, VILLA RICA', 'PIURA, AYABACA, AYABACA', 'PIURA, AYABACA, FRIAS', 'PIURA, AYABACA, JILILI', 'PIURA, AYABACA, PACAIPAMPA', 'PIURA, AYABACA, PAIMAS', 'PIURA, AYABACA, SAPILLICA', 'PIURA, AYABACA, SUYO', 'PIURA, HUANCABAMBA, CANCHAQUE', 'PIURA, HUANCABAMBA, EL CARMEN DE LA FRONTERA', 'PIURA, HUANCABAMBA, HUANCABAMBA', 'PIURA, HUANCABAMBA, HUARMACA', 'PIURA, HUANCABAMBA, LALAQUIZ', 'PIURA, HUANCABAMBA, SAN MIGUEL DE EL FAIQUE', 'PIURA, HUANCABAMBA, SONDOR', 'PIURA, HUANCABAMBA, SONDORILLO', 'PIURA, MORROPON, BUENOS AIRES', 'PIURA, MORROPON, CHALACO', 'PIURA, MORROPON, CHULUCANAS', 'PIURA, MORROPON, LA MATANZA', 'PIURA, MORROPON, MORROPON', 'PIURA, MORROPON, SALITRAL', 'PIURA, MORROPON, SAN JUAN DE BIGOTE', 'PIURA, MORROPON, SANTA CATALINA DE MOSSA', 'PIURA, MORROPON, SANTO DOMINGO', 'PIURA, MORROPON, YAMANGO', 'PIURA, PAITA, AMOTAPE', 'PIURA, PAITA, ARENAL', 'PIURA, PAITA, COLAN', 'PIURA, PAITA, LA HUACA', 'PIURA, PAITA, PAITA', 'PIURA, PAITA, TAMARINDO', 'PIURA, PAITA, VICHAYAL', 'PIURA, PIURA, CASTILLA', 'PIURA, PIURA, CATACAOS', 'PIURA, PIURA, CURA MORI', 'PIURA, PIURA, EL TALLAN', 'PIURA, PIURA, LA ARENA', 'PIURA, PIURA, LA UNION', 'PIURA, PIURA, LAS LOMAS', 'PIURA, PIURA, PIURA', 'PIURA, PIURA, TAMBO GRANDE', 'PIURA, PIURA, VEINTISEIS DE OCTUBRE', 'PIURA, SECHURA, BELLAVISTA DE LA UNION', 'PIURA, SECHURA, BERNAL', 'PIURA, SECHURA, CRISTO NOS VALGA', 'PIURA, SECHURA, RINCONADA LLICUAR', 'PIURA, SECHURA, SECHURA', 'PIURA, SECHURA, VICE', 'PIURA, SULLANA, BELLAVISTA', 'PIURA, SULLANA, IGNACIO ESCUDERO', 'PIURA, SULLANA, LANCONES', 'PIURA, SULLANA, MARCAVELICA', 'PIURA, SULLANA, MIGUEL CHECA', 'PIURA, SULLANA, QUERECOTILLO', 'PIURA, SULLANA, SALITRAL', 'PIURA, SULLANA, SULLANA', 'PIURA, TALARA, EL ALTO', 'PIURA, TALARA, LA BREA', 'PIURA, TALARA, LOBITOS', 'PIURA, TALARA, LOS ORGANOS', 'PIURA, TALARA, MANCORA', 'PIURA, TALARA, PARIÑAS', 'PUNO, CARABAYA, AYAPATA', 'PUNO, CARABAYA, OLLACHEA', 'PUNO, CARABAYA, SAN GABAN', 'SAN MARTIN, BELLAVISTA, ALTO BIAVO', 'SAN MARTIN, BELLAVISTA, BAJO BIAVO', 'SAN MARTIN, BELLAVISTA, BELLAVISTA', 'SAN MARTIN, BELLAVISTA, HUALLAGA', 'SAN MARTIN, BELLAVISTA, SAN PABLO', 'SAN MARTIN, BELLAVISTA, SAN RAFAEL', 'SAN MARTIN, EL DORADO, AGUA BLANCA', 'SAN MARTIN, EL DORADO, SAN JOSE DE SISA', 'SAN MARTIN, EL DORADO, SAN MARTIN', 'SAN MARTIN, EL DORADO, SANTA ROSA', 'SAN MARTIN, EL DORADO, SHATOJA', 'SAN MARTIN, HUALLAGA, ALTO SAPOSOA', 'SAN MARTIN, HUALLAGA, EL ESLABON', 'SAN MARTIN, HUALLAGA, PISCOYACU', 'SAN MARTIN, HUALLAGA, SACANCHE', 'SAN MARTIN, HUALLAGA, SAPOSOA', 'SAN MARTIN, HUALLAGA, TINGO DE SAPOSOA', 'SAN MARTIN, LAMAS, ALONSO DE ALVARADO', 'SAN MARTIN, LAMAS, BARRANQUITA', 'SAN MARTIN, LAMAS, CAYNARACHI', 'SAN MARTIN, LAMAS, CUÑUMBUQUI', 'SAN MARTIN, LAMAS, LAMAS', 'SAN MARTIN, LAMAS, PINTO RECODO', 'SAN MARTIN, LAMAS, RUMISAPA', 'SAN MARTIN, LAMAS, SAN ROQUE DE CUMBAZA', 'SAN MARTIN, LAMAS, SHANAO', 'SAN MARTIN, LAMAS, TABALOSOS', 'SAN MARTIN, LAMAS, ZAPATERO', 'SAN MARTIN, MARISCAL CACERES, CAMPANILLA', 'SAN MARTIN, MARISCAL CACERES, HUICUNGO', 'SAN MARTIN, MARISCAL CACERES, JUANJUI', 'SAN MARTIN, MARISCAL CACERES, PACHIZA', 'SAN MARTIN, MARISCAL CACERES, PAJARILLO', 'SAN MARTIN, MOYOBAMBA, CALZADA', 'SAN MARTIN, MOYOBAMBA, HABANA', 'SAN MARTIN, MOYOBAMBA, JEPELACIO', 'SAN MARTIN, MOYOBAMBA, MOYOBAMBA', 'SAN MARTIN, MOYOBAMBA, SORITOR', 'SAN MARTIN, MOYOBAMBA, YANTALO', 'SAN MARTIN, PICOTA, BUENOS AIRES', 'SAN MARTIN, PICOTA, CASPISAPA', 'SAN MARTIN, PICOTA, PICOTA', 'SAN MARTIN, PICOTA, PILLUANA', 'SAN MARTIN, PICOTA, PUCACACA', 'SAN MARTIN, PICOTA, SAN CRISTOBAL', 'SAN MARTIN, PICOTA, SAN HILARION', 'SAN MARTIN, PICOTA, SHAMBOYACU', 'SAN MARTIN, PICOTA, TINGO DE PONASA', 'SAN MARTIN, PICOTA, TRES UNIDOS', 'SAN MARTIN, RIOJA, AWAJUN', 'SAN MARTIN, RIOJA, ELIAS SOPLIN VARGAS', 'SAN MARTIN, RIOJA, NUEVA CAJAMARCA', 'SAN MARTIN, RIOJA, PARDO MIGUEL', 'SAN MARTIN, RIOJA, POSIC', 'SAN MARTIN, RIOJA, RIOJA', 'SAN MARTIN, RIOJA, SAN FERNANDO', 'SAN MARTIN, RIOJA, YORONGOS', 'SAN MARTIN, RIOJA, YURACYACU', 'SAN MARTIN, SAN MARTIN, ALBERTO LEVEAU', 'SAN MARTIN, SAN MARTIN, CACATACHI', 'SAN MARTIN, SAN MARTIN, CHAZUTA', 'SAN MARTIN, SAN MARTIN, CHIPURANA', 'SAN MARTIN, SAN MARTIN, EL PORVENIR', 'SAN MARTIN, SAN MARTIN, HUIMBAYOC', 'SAN MARTIN, SAN MARTIN, JUAN GUERRA', 'SAN MARTIN, SAN MARTIN, LA BANDA DE SHILCAYO', 'SAN MARTIN, SAN MARTIN, MORALES', 'SAN MARTIN, SAN MARTIN, PAPAPLAYA', 'SAN MARTIN, SAN MARTIN, SAN ANTONIO', 'SAN MARTIN, SAN MARTIN, SAUCE', 'SAN MARTIN, SAN MARTIN, SHAPAJA', 'SAN MARTIN, SAN MARTIN, TARAPOTO', 'SAN MARTIN, TOCACHE, NUEVO PROGRESO', 'SAN MARTIN, TOCACHE, POLVORA', 'SAN MARTIN, TOCACHE, SHUNTE', 'SAN MARTIN, TOCACHE, TOCACHE', 'SAN MARTIN, TOCACHE, UCHIZA', 'TUMBES, CONTRALMIRANTE VILLAR, CANOAS DE PUNTA SAL', 'TUMBES, CONTRALMIRANTE VILLAR, CASITAS', 'TUMBES, CONTRALMIRANTE VILLAR, ZORRITOS', 'TUMBES, TUMBES, CORRALES', 'TUMBES, TUMBES, LA CRUZ', 'TUMBES, TUMBES, PAMPAS DE HOSPITAL', 'TUMBES, TUMBES, SAN JACINTO', 'TUMBES, TUMBES, SAN JUAN DE LA VIRGEN', 'TUMBES, TUMBES, TUMBES', 'TUMBES, ZARUMILLA, AGUAS VERDES', 'TUMBES, ZARUMILLA, MATAPALO', 'TUMBES, ZARUMILLA, PAPAYAL', 'TUMBES, ZARUMILLA, ZARUMILLA', 'UCAYALI, ATALAYA, RAYMONDI', 'UCAYALI, ATALAYA, SEPAHUA', 'UCAYALI, ATALAYA, TAHUANIA', 'UCAYALI, ATALAYA, YURUA', 'UCAYALI, CORONEL PORTILLO, CALLERIA', 'UCAYALI, CORONEL PORTILLO, CAMPOVERDE', 'UCAYALI, CORONEL PORTILLO, IPARIA', 'UCAYALI, CORONEL PORTILLO, MANANTAY', 'UCAYALI, CORONEL PORTILLO, MASISEA', 'UCAYALI, CORONEL PORTILLO, NUEVA REQUENA', 'UCAYALI, CORONEL PORTILLO, YARINACOCHA', 'UCAYALI, PADRE ABAD, ALEXANDER VON HUMBOLDT', 'UCAYALI, PADRE ABAD, CURIMANA', 'UCAYALI, PADRE ABAD, IRAZOLA', 'UCAYALI, PADRE ABAD, NESHUYA', 'UCAYALI, PADRE ABAD, PADRE ABAD', 'UCAYALI, PURUS, PURUS']\n"
     ]
    }
   ],
   "source": [
    "listaDistrito = DF_TOTAL_T['Dep-Prov-Distrito'].tolist()\n",
    "listaDistrito = list(dict.fromkeys(listaDistrito))\n",
    "print('Son ', len(listaDistrito), ' distritos')\n",
    "listaDistrito.sort()\n",
    "#print(listaDistrito)"
   ]
  },
  {
   "cell_type": "code",
   "execution_count": 5,
   "metadata": {},
   "outputs": [],
   "source": [
    "def mean_norm(df_input):\n",
    "    return df_input.apply(lambda x: (x-x.mean())/ x.std(), axis=0)"
   ]
  },
  {
   "cell_type": "code",
   "execution_count": 6,
   "metadata": {},
   "outputs": [],
   "source": [
    "timeSeries = pd.read_csv(my_path_py+'\\\\DatosRaw\\\\SerieTemporal_2015to2020.csv', sep=',')\n",
    "timeSeries = timeSeries.fillna(0.00001)"
   ]
  },
  {
   "cell_type": "markdown",
   "metadata": {},
   "source": [
    "## Funciones de Distancias"
   ]
  },
  {
   "cell_type": "code",
   "execution_count": 7,
   "metadata": {},
   "outputs": [],
   "source": [
    "import math\n",
    "from math import sqrt, log, floor\n",
    "from sklearn.metrics import mean_squared_error\n",
    "from statistics import mean\n",
    "from fastdtw import fastdtw\n",
    "from scipy import stats\n",
    "from scipy.spatial.distance import pdist\n",
    "\n",
    "#Euclidean\n",
    "def euclidean(x, y):\n",
    "    r=np.linalg.norm(x-y)\n",
    "    if math.isnan(r):\n",
    "        r=1\n",
    "    #print(r)\n",
    "    return r\n",
    "\n",
    "#Fast Dynamic time warping\n",
    "def fast_DTW(x, y):\n",
    "    r, _ = fastdtw(x, y, dist=euclidean)\n",
    "    if math.isnan(r):\n",
    "        r=1\n",
    "    #print(r)\n",
    "    return r\n",
    "\n",
    "#Spearman\n",
    "def scorr(x, y):\n",
    "    r = stats.spearmanr(x, y)[0]\n",
    "    if math.isnan(r):\n",
    "        r=0\n",
    "    #print(r)\n",
    "    return 1 - r\n",
    "\n",
    "#RMSE\n",
    "def rmse(x, y):\n",
    "    r=sqrt(mean_squared_error(x,y))\n",
    "    if math.isnan(r):\n",
    "        r=1\n",
    "    #print(r)\n",
    "    return r\n",
    "\n",
    "def lcs(a, b):  \n",
    "    lengths = [[0 for j in range(len(b)+1)] for i in range(len(a)+1)]\n",
    "    # row 0 and column 0 are initialized to 0 already\n",
    "    for i, x in enumerate(a):\n",
    "        for j, y in enumerate(b):\n",
    "            if x == y:\n",
    "                lengths[i+1][j+1] = lengths[i][j] + 1\n",
    "            else:\n",
    "                lengths[i+1][j+1] = max(lengths[i+1][j], lengths[i][j+1])\n",
    "    x, y = len(a), len(b)\n",
    "    result = lengths[x][y]\n",
    "    return result\n",
    "\n",
    "def discretise(x):\n",
    "    return int(x * 10)\n",
    "\n",
    "def multidim_lcs(a, b):\n",
    "    a = a.applymap(discretise)\n",
    "    b = b.applymap(discretise)\n",
    "    rows, dims = a.shape\n",
    "    lcss = [lcs(a[i+2], b[i+2]) for i in range(dims)]\n",
    "    return 1 - sum(lcss) / (rows * dims)\n",
    "\n",
    "#Correlation\n",
    "def corr(x, y):\n",
    "    r=np.dot(x-mean(x),y-mean(y))/((np.linalg.norm(x-mean(x)))*(np.linalg.norm(y-mean(y))))\n",
    "    if math.isnan(r):\n",
    "        r=0\n",
    "    #print(r)\n",
    "    return 1 - r"
   ]
  },
  {
   "cell_type": "code",
   "execution_count": 8,
   "metadata": {},
   "outputs": [
    {
     "data": {
      "text/plain": [
       "505"
      ]
     },
     "execution_count": 8,
     "metadata": {},
     "output_type": "execute_result"
    }
   ],
   "source": [
    "n= timeSeries.shape[0]\n",
    "n"
   ]
  },
  {
   "cell_type": "code",
   "execution_count": 9,
   "metadata": {},
   "outputs": [
    {
     "data": {
      "text/plain": [
       "(505, 318)"
      ]
     },
     "execution_count": 9,
     "metadata": {},
     "output_type": "execute_result"
    }
   ],
   "source": [
    "timeSeries.shape"
   ]
  },
  {
   "cell_type": "markdown",
   "metadata": {},
   "source": [
    "## Distancias de matrices de distancias"
   ]
  },
  {
   "cell_type": "markdown",
   "metadata": {},
   "source": [
    "### Matriz de distancia Euclidiana"
   ]
  },
  {
   "cell_type": "code",
   "execution_count": 10,
   "metadata": {},
   "outputs": [
    {
     "ename": "KeyboardInterrupt",
     "evalue": "",
     "output_type": "error",
     "traceback": [
      "\u001b[1;31m---------------------------------------------------------------------------\u001b[0m",
      "\u001b[1;31mKeyboardInterrupt\u001b[0m                         Traceback (most recent call last)",
      "\u001b[1;32m<ipython-input-10-ae2003a2a6d2>\u001b[0m in \u001b[0;36m<module>\u001b[1;34m\u001b[0m\n\u001b[0;32m     13\u001b[0m     \u001b[1;32mfor\u001b[0m \u001b[0mj\u001b[0m \u001b[1;32min\u001b[0m \u001b[0mrange\u001b[0m\u001b[1;33m(\u001b[0m\u001b[1;36m0\u001b[0m\u001b[1;33m,\u001b[0m\u001b[0mn\u001b[0m\u001b[1;33m)\u001b[0m\u001b[1;33m:\u001b[0m\u001b[1;33m\u001b[0m\u001b[1;33m\u001b[0m\u001b[0m\n\u001b[0;32m     14\u001b[0m        \u001b[1;31m# print(\"j\",j)\u001b[0m\u001b[1;33m\u001b[0m\u001b[1;33m\u001b[0m\u001b[1;33m\u001b[0m\u001b[0m\n\u001b[1;32m---> 15\u001b[1;33m         \u001b[0mdtw_dist\u001b[0m\u001b[1;33m[\u001b[0m\u001b[0mi\u001b[0m\u001b[1;33m,\u001b[0m\u001b[0mj\u001b[0m\u001b[1;33m]\u001b[0m \u001b[1;33m=\u001b[0m \u001b[0mfast_DTW\u001b[0m\u001b[1;33m(\u001b[0m\u001b[0mtimeSeries\u001b[0m\u001b[1;33m.\u001b[0m\u001b[0miloc\u001b[0m\u001b[1;33m[\u001b[0m\u001b[0mi\u001b[0m\u001b[1;33m]\u001b[0m\u001b[1;33m.\u001b[0m\u001b[0mvalues\u001b[0m\u001b[1;33m.\u001b[0m\u001b[0mflatten\u001b[0m\u001b[1;33m(\u001b[0m\u001b[1;33m)\u001b[0m\u001b[1;33m,\u001b[0m \u001b[0mtimeSeries\u001b[0m\u001b[1;33m.\u001b[0m\u001b[0miloc\u001b[0m\u001b[1;33m[\u001b[0m\u001b[0mj\u001b[0m\u001b[1;33m]\u001b[0m\u001b[1;33m.\u001b[0m\u001b[0mvalues\u001b[0m\u001b[1;33m.\u001b[0m\u001b[0mflatten\u001b[0m\u001b[1;33m(\u001b[0m\u001b[1;33m)\u001b[0m\u001b[1;33m)\u001b[0m\u001b[1;33m\u001b[0m\u001b[1;33m\u001b[0m\u001b[0m\n\u001b[0m\u001b[0;32m     16\u001b[0m \u001b[1;33m\u001b[0m\u001b[0m\n",
      "\u001b[1;32m<ipython-input-7-af9206df4a85>\u001b[0m in \u001b[0;36mfast_DTW\u001b[1;34m(x, y)\u001b[0m\n\u001b[0;32m     17\u001b[0m \u001b[1;31m#Fast Dynamic time warping\u001b[0m\u001b[1;33m\u001b[0m\u001b[1;33m\u001b[0m\u001b[1;33m\u001b[0m\u001b[0m\n\u001b[0;32m     18\u001b[0m \u001b[1;32mdef\u001b[0m \u001b[0mfast_DTW\u001b[0m\u001b[1;33m(\u001b[0m\u001b[0mx\u001b[0m\u001b[1;33m,\u001b[0m \u001b[0my\u001b[0m\u001b[1;33m)\u001b[0m\u001b[1;33m:\u001b[0m\u001b[1;33m\u001b[0m\u001b[1;33m\u001b[0m\u001b[0m\n\u001b[1;32m---> 19\u001b[1;33m     \u001b[0mr\u001b[0m\u001b[1;33m,\u001b[0m \u001b[0m_\u001b[0m \u001b[1;33m=\u001b[0m \u001b[0mfastdtw\u001b[0m\u001b[1;33m(\u001b[0m\u001b[0mx\u001b[0m\u001b[1;33m,\u001b[0m \u001b[0my\u001b[0m\u001b[1;33m,\u001b[0m \u001b[0mdist\u001b[0m\u001b[1;33m=\u001b[0m\u001b[0meuclidean\u001b[0m\u001b[1;33m)\u001b[0m\u001b[1;33m\u001b[0m\u001b[1;33m\u001b[0m\u001b[0m\n\u001b[0m\u001b[0;32m     20\u001b[0m     \u001b[1;32mif\u001b[0m \u001b[0mmath\u001b[0m\u001b[1;33m.\u001b[0m\u001b[0misnan\u001b[0m\u001b[1;33m(\u001b[0m\u001b[0mr\u001b[0m\u001b[1;33m)\u001b[0m\u001b[1;33m:\u001b[0m\u001b[1;33m\u001b[0m\u001b[1;33m\u001b[0m\u001b[0m\n\u001b[0;32m     21\u001b[0m         \u001b[0mr\u001b[0m\u001b[1;33m=\u001b[0m\u001b[1;36m1\u001b[0m\u001b[1;33m\u001b[0m\u001b[1;33m\u001b[0m\u001b[0m\n",
      "\u001b[1;32mC:\\ProgramData\\Anaconda3\\lib\\site-packages\\fastdtw\\fastdtw.py\u001b[0m in \u001b[0;36mfastdtw\u001b[1;34m(x, y, radius, dist)\u001b[0m\n\u001b[0;32m     51\u001b[0m     '''\n\u001b[0;32m     52\u001b[0m     \u001b[0mx\u001b[0m\u001b[1;33m,\u001b[0m \u001b[0my\u001b[0m\u001b[1;33m,\u001b[0m \u001b[0mdist\u001b[0m \u001b[1;33m=\u001b[0m \u001b[0m__prep_inputs\u001b[0m\u001b[1;33m(\u001b[0m\u001b[0mx\u001b[0m\u001b[1;33m,\u001b[0m \u001b[0my\u001b[0m\u001b[1;33m,\u001b[0m \u001b[0mdist\u001b[0m\u001b[1;33m)\u001b[0m\u001b[1;33m\u001b[0m\u001b[1;33m\u001b[0m\u001b[0m\n\u001b[1;32m---> 53\u001b[1;33m     \u001b[1;32mreturn\u001b[0m \u001b[0m__fastdtw\u001b[0m\u001b[1;33m(\u001b[0m\u001b[0mx\u001b[0m\u001b[1;33m,\u001b[0m \u001b[0my\u001b[0m\u001b[1;33m,\u001b[0m \u001b[0mradius\u001b[0m\u001b[1;33m,\u001b[0m \u001b[0mdist\u001b[0m\u001b[1;33m)\u001b[0m\u001b[1;33m\u001b[0m\u001b[1;33m\u001b[0m\u001b[0m\n\u001b[0m\u001b[0;32m     54\u001b[0m \u001b[1;33m\u001b[0m\u001b[0m\n\u001b[0;32m     55\u001b[0m \u001b[1;33m\u001b[0m\u001b[0m\n",
      "\u001b[1;32mC:\\ProgramData\\Anaconda3\\lib\\site-packages\\fastdtw\\fastdtw.py\u001b[0m in \u001b[0;36m__fastdtw\u001b[1;34m(x, y, radius, dist)\u001b[0m\n\u001b[0;32m     73\u001b[0m         \u001b[0m__fastdtw\u001b[0m\u001b[1;33m(\u001b[0m\u001b[0mx_shrinked\u001b[0m\u001b[1;33m,\u001b[0m \u001b[0my_shrinked\u001b[0m\u001b[1;33m,\u001b[0m \u001b[0mradius\u001b[0m\u001b[1;33m=\u001b[0m\u001b[0mradius\u001b[0m\u001b[1;33m,\u001b[0m \u001b[0mdist\u001b[0m\u001b[1;33m=\u001b[0m\u001b[0mdist\u001b[0m\u001b[1;33m)\u001b[0m\u001b[1;33m\u001b[0m\u001b[1;33m\u001b[0m\u001b[0m\n\u001b[0;32m     74\u001b[0m     \u001b[0mwindow\u001b[0m \u001b[1;33m=\u001b[0m \u001b[0m__expand_window\u001b[0m\u001b[1;33m(\u001b[0m\u001b[0mpath\u001b[0m\u001b[1;33m,\u001b[0m \u001b[0mlen\u001b[0m\u001b[1;33m(\u001b[0m\u001b[0mx\u001b[0m\u001b[1;33m)\u001b[0m\u001b[1;33m,\u001b[0m \u001b[0mlen\u001b[0m\u001b[1;33m(\u001b[0m\u001b[0my\u001b[0m\u001b[1;33m)\u001b[0m\u001b[1;33m,\u001b[0m \u001b[0mradius\u001b[0m\u001b[1;33m)\u001b[0m\u001b[1;33m\u001b[0m\u001b[1;33m\u001b[0m\u001b[0m\n\u001b[1;32m---> 75\u001b[1;33m     \u001b[1;32mreturn\u001b[0m \u001b[0m__dtw\u001b[0m\u001b[1;33m(\u001b[0m\u001b[0mx\u001b[0m\u001b[1;33m,\u001b[0m \u001b[0my\u001b[0m\u001b[1;33m,\u001b[0m \u001b[0mwindow\u001b[0m\u001b[1;33m,\u001b[0m \u001b[0mdist\u001b[0m\u001b[1;33m=\u001b[0m\u001b[0mdist\u001b[0m\u001b[1;33m)\u001b[0m\u001b[1;33m\u001b[0m\u001b[1;33m\u001b[0m\u001b[0m\n\u001b[0m\u001b[0;32m     76\u001b[0m \u001b[1;33m\u001b[0m\u001b[0m\n\u001b[0;32m     77\u001b[0m \u001b[1;33m\u001b[0m\u001b[0m\n",
      "\u001b[1;32mC:\\ProgramData\\Anaconda3\\lib\\site-packages\\fastdtw\\fastdtw.py\u001b[0m in \u001b[0;36m__dtw\u001b[1;34m(x, y, window, dist)\u001b[0m\n\u001b[0;32m    139\u001b[0m     \u001b[0mD\u001b[0m\u001b[1;33m[\u001b[0m\u001b[1;36m0\u001b[0m\u001b[1;33m,\u001b[0m \u001b[1;36m0\u001b[0m\u001b[1;33m]\u001b[0m \u001b[1;33m=\u001b[0m \u001b[1;33m(\u001b[0m\u001b[1;36m0\u001b[0m\u001b[1;33m,\u001b[0m \u001b[1;36m0\u001b[0m\u001b[1;33m,\u001b[0m \u001b[1;36m0\u001b[0m\u001b[1;33m)\u001b[0m\u001b[1;33m\u001b[0m\u001b[1;33m\u001b[0m\u001b[0m\n\u001b[0;32m    140\u001b[0m     \u001b[1;32mfor\u001b[0m \u001b[0mi\u001b[0m\u001b[1;33m,\u001b[0m \u001b[0mj\u001b[0m \u001b[1;32min\u001b[0m \u001b[0mwindow\u001b[0m\u001b[1;33m:\u001b[0m\u001b[1;33m\u001b[0m\u001b[1;33m\u001b[0m\u001b[0m\n\u001b[1;32m--> 141\u001b[1;33m         \u001b[0mdt\u001b[0m \u001b[1;33m=\u001b[0m \u001b[0mdist\u001b[0m\u001b[1;33m(\u001b[0m\u001b[0mx\u001b[0m\u001b[1;33m[\u001b[0m\u001b[0mi\u001b[0m\u001b[1;33m-\u001b[0m\u001b[1;36m1\u001b[0m\u001b[1;33m]\u001b[0m\u001b[1;33m,\u001b[0m \u001b[0my\u001b[0m\u001b[1;33m[\u001b[0m\u001b[0mj\u001b[0m\u001b[1;33m-\u001b[0m\u001b[1;36m1\u001b[0m\u001b[1;33m]\u001b[0m\u001b[1;33m)\u001b[0m\u001b[1;33m\u001b[0m\u001b[1;33m\u001b[0m\u001b[0m\n\u001b[0m\u001b[0;32m    142\u001b[0m         D[i, j] = min((D[i-1, j][0]+dt, i-1, j), (D[i, j-1][0]+dt, i, j-1),\n\u001b[0;32m    143\u001b[0m                       (D[i-1, j-1][0]+dt, i-1, j-1), key=lambda a: a[0])\n",
      "\u001b[1;32m<ipython-input-7-af9206df4a85>\u001b[0m in \u001b[0;36meuclidean\u001b[1;34m(x, y)\u001b[0m\n\u001b[0;32m      9\u001b[0m \u001b[1;31m#Euclidean\u001b[0m\u001b[1;33m\u001b[0m\u001b[1;33m\u001b[0m\u001b[1;33m\u001b[0m\u001b[0m\n\u001b[0;32m     10\u001b[0m \u001b[1;32mdef\u001b[0m \u001b[0meuclidean\u001b[0m\u001b[1;33m(\u001b[0m\u001b[0mx\u001b[0m\u001b[1;33m,\u001b[0m \u001b[0my\u001b[0m\u001b[1;33m)\u001b[0m\u001b[1;33m:\u001b[0m\u001b[1;33m\u001b[0m\u001b[1;33m\u001b[0m\u001b[0m\n\u001b[1;32m---> 11\u001b[1;33m     \u001b[0mr\u001b[0m\u001b[1;33m=\u001b[0m\u001b[0mnp\u001b[0m\u001b[1;33m.\u001b[0m\u001b[0mlinalg\u001b[0m\u001b[1;33m.\u001b[0m\u001b[0mnorm\u001b[0m\u001b[1;33m(\u001b[0m\u001b[0mx\u001b[0m\u001b[1;33m-\u001b[0m\u001b[0my\u001b[0m\u001b[1;33m)\u001b[0m\u001b[1;33m\u001b[0m\u001b[1;33m\u001b[0m\u001b[0m\n\u001b[0m\u001b[0;32m     12\u001b[0m     \u001b[1;32mif\u001b[0m \u001b[0mmath\u001b[0m\u001b[1;33m.\u001b[0m\u001b[0misnan\u001b[0m\u001b[1;33m(\u001b[0m\u001b[0mr\u001b[0m\u001b[1;33m)\u001b[0m\u001b[1;33m:\u001b[0m\u001b[1;33m\u001b[0m\u001b[1;33m\u001b[0m\u001b[0m\n\u001b[0;32m     13\u001b[0m         \u001b[0mr\u001b[0m\u001b[1;33m=\u001b[0m\u001b[1;36m1\u001b[0m\u001b[1;33m\u001b[0m\u001b[1;33m\u001b[0m\u001b[0m\n",
      "\u001b[1;32m<__array_function__ internals>\u001b[0m in \u001b[0;36mnorm\u001b[1;34m(*args, **kwargs)\u001b[0m\n",
      "\u001b[1;32m~\\AppData\\Roaming\\Python\\Python38\\site-packages\\numpy\\linalg\\linalg.py\u001b[0m in \u001b[0;36mnorm\u001b[1;34m(x, ord, axis, keepdims)\u001b[0m\n\u001b[0;32m   2528\u001b[0m                 \u001b[0msqnorm\u001b[0m \u001b[1;33m=\u001b[0m \u001b[0mdot\u001b[0m\u001b[1;33m(\u001b[0m\u001b[0mx\u001b[0m\u001b[1;33m.\u001b[0m\u001b[0mreal\u001b[0m\u001b[1;33m,\u001b[0m \u001b[0mx\u001b[0m\u001b[1;33m.\u001b[0m\u001b[0mreal\u001b[0m\u001b[1;33m)\u001b[0m \u001b[1;33m+\u001b[0m \u001b[0mdot\u001b[0m\u001b[1;33m(\u001b[0m\u001b[0mx\u001b[0m\u001b[1;33m.\u001b[0m\u001b[0mimag\u001b[0m\u001b[1;33m,\u001b[0m \u001b[0mx\u001b[0m\u001b[1;33m.\u001b[0m\u001b[0mimag\u001b[0m\u001b[1;33m)\u001b[0m\u001b[1;33m\u001b[0m\u001b[1;33m\u001b[0m\u001b[0m\n\u001b[0;32m   2529\u001b[0m             \u001b[1;32melse\u001b[0m\u001b[1;33m:\u001b[0m\u001b[1;33m\u001b[0m\u001b[1;33m\u001b[0m\u001b[0m\n\u001b[1;32m-> 2530\u001b[1;33m                 \u001b[0msqnorm\u001b[0m \u001b[1;33m=\u001b[0m \u001b[0mdot\u001b[0m\u001b[1;33m(\u001b[0m\u001b[0mx\u001b[0m\u001b[1;33m,\u001b[0m \u001b[0mx\u001b[0m\u001b[1;33m)\u001b[0m\u001b[1;33m\u001b[0m\u001b[1;33m\u001b[0m\u001b[0m\n\u001b[0m\u001b[0;32m   2531\u001b[0m             \u001b[0mret\u001b[0m \u001b[1;33m=\u001b[0m \u001b[0msqrt\u001b[0m\u001b[1;33m(\u001b[0m\u001b[0msqnorm\u001b[0m\u001b[1;33m)\u001b[0m\u001b[1;33m\u001b[0m\u001b[1;33m\u001b[0m\u001b[0m\n\u001b[0;32m   2532\u001b[0m             \u001b[1;32mif\u001b[0m \u001b[0mkeepdims\u001b[0m\u001b[1;33m:\u001b[0m\u001b[1;33m\u001b[0m\u001b[1;33m\u001b[0m\u001b[0m\n",
      "\u001b[1;32m<__array_function__ internals>\u001b[0m in \u001b[0;36mdot\u001b[1;34m(*args, **kwargs)\u001b[0m\n",
      "\u001b[1;31mKeyboardInterrupt\u001b[0m: "
     ]
    }
   ],
   "source": [
    "#Euclidean\n",
    "euclidean_dist = np.zeros((n,n))\n",
    "for i in range(0,n):\n",
    "    #print(\"i\",i)\n",
    "    for j in range(0,n):\n",
    "       # print(\"j\",j)\n",
    "        euclidean_dist[i,j] = euclidean(timeSeries.iloc[i].values.flatten(), timeSeries.iloc[j].values.flatten())"
   ]
  },
  {
   "cell_type": "markdown",
   "metadata": {},
   "source": [
    "### Matriz de DTW"
   ]
  },
  {
   "cell_type": "code",
   "execution_count": null,
   "metadata": {},
   "outputs": [],
   "source": [
    "#DTW\n",
    "dtw_dist = np.zeros((n,n))\n",
    "for i in range(0,n):\n",
    "    #print(\"i\",i)\n",
    "    for j in range(0,n):\n",
    "       # print(\"j\",j)\n",
    "        dtw_dist[i,j] = fast_DTW(timeSeries.iloc[i].values.flatten(), timeSeries.iloc[j].values.flatten())"
   ]
  },
  {
   "cell_type": "markdown",
   "metadata": {},
   "source": [
    "### Matriz de Pearson Correlation"
   ]
  },
  {
   "cell_type": "code",
   "execution_count": null,
   "metadata": {},
   "outputs": [],
   "source": [
    "#Corr\n",
    "corr_dist = np.zeros((n,n))\n",
    "for i in range(0,n):\n",
    "    #print(\"i\",i)\n",
    "    for j in range(0,n):\n",
    "       # print(\"j\",j)\n",
    "        corr_dist[i,j] = corr(timeSeries.iloc[i].values.flatten(), timeSeries.iloc[j].values.flatten())"
   ]
  },
  {
   "cell_type": "markdown",
   "metadata": {},
   "source": [
    "### Matriz de Spearman Correlation"
   ]
  },
  {
   "cell_type": "code",
   "execution_count": null,
   "metadata": {},
   "outputs": [],
   "source": [
    "#scorr\n",
    "scorr_dist = np.zeros((n,n))\n",
    "for i in range(0,n):\n",
    "    #print(\"i\",i)\n",
    "    for j in range(0,n):\n",
    "       # print(\"j\",j)\n",
    "        scorr_dist[i,j] = scorr(timeSeries.iloc[i].values.flatten(), timeSeries.iloc[j].values.flatten())"
   ]
  },
  {
   "cell_type": "markdown",
   "metadata": {},
   "source": [
    "# CÁLCULO DE DUNN"
   ]
  },
  {
   "cell_type": "code",
   "execution_count": null,
   "metadata": {},
   "outputs": [],
   "source": [
    "from sklearn.preprocessing import LabelEncoder\n",
    "DIAMETER_METHODS = ['mean_cluster', 'farthest']\n",
    "CLUSTER_DISTANCE_METHODS = ['nearest', 'farthest']\n",
    "\n",
    "def inter_cluster_distances(labels, distances, method='nearest'):\n",
    "    \"\"\"Calculates the distances between the two nearest points of each cluster.\n",
    "    :param labels: a list containing cluster labels for each of the n elements\n",
    "    :param distances: an n x n numpy.array containing the pairwise distances between elements\n",
    "    :param method: `nearest` for the distances between the two nearest points in each cluster, or `farthest`\n",
    "    \"\"\"\n",
    "    if method not in CLUSTER_DISTANCE_METHODS:\n",
    "        raise ValueError(\n",
    "            'method must be one of {}'.format(CLUSTER_DISTANCE_METHODS))\n",
    "\n",
    "    if method == 'nearest':\n",
    "        return __cluster_distances_by_points(labels, distances)\n",
    "    elif method == 'farthest':\n",
    "        return __cluster_distances_by_points(labels, distances, farthest=True)\n",
    "\n",
    "\n",
    "def __cluster_distances_by_points(labels, distances, farthest=False):\n",
    "    n_unique_labels = len(np.unique(labels))\n",
    "    cluster_distances = np.full((n_unique_labels, n_unique_labels),\n",
    "                                float('inf') if not farthest else 0)\n",
    "\n",
    "    np.fill_diagonal(cluster_distances, 0)\n",
    "\n",
    "    for i in np.arange(0, len(labels) - 1):\n",
    "        for ii in np.arange(i, len(labels)):\n",
    "            if labels[i] != labels[ii] and (\n",
    "                (not farthest and\n",
    "                 distances[i, ii] < cluster_distances[labels[i], labels[ii]])\n",
    "                    or\n",
    "                (farthest and\n",
    "                 distances[i, ii] > cluster_distances[labels[i], labels[ii]])):\n",
    "                cluster_distances[labels[i], labels[ii]] = cluster_distances[\n",
    "                    labels[ii], labels[i]] = distances[i, ii]\n",
    "    return cluster_distances\n",
    "\n",
    "\n",
    "def diameter(labels, distances, method='farthest'):\n",
    "    \"\"\"Calculates cluster diameters\n",
    "    :param labels: a list containing cluster labels for each of the n elements\n",
    "    :param distances: an n x n numpy.array containing the pairwise distances between elements\n",
    "    :param method: either `mean_cluster` for the mean distance between all elements in each cluster, or `farthest` for the distance between the two points furthest from each other\n",
    "    \"\"\"\n",
    "    if method not in DIAMETER_METHODS:\n",
    "        raise ValueError('method must be one of {}'.format(DIAMETER_METHODS))\n",
    "\n",
    "    n_clusters = len(np.unique(labels))\n",
    "    diameters = np.zeros(n_clusters)\n",
    "\n",
    "    if method == 'mean_cluster':\n",
    "        for i in range(0, len(labels) - 1):\n",
    "            for ii in range(i + 1, len(labels)):\n",
    "                if labels[i] == labels[ii]:\n",
    "                    diameters[labels[i]] += distances[i, ii]\n",
    "\n",
    "        for i in range(len(diameters)):\n",
    "            diameters[i] /= sum(labels == i)\n",
    "\n",
    "    elif method == 'farthest':\n",
    "        for i in range(0, len(labels) - 1):\n",
    "            for ii in range(i + 1, len(labels)):\n",
    "                if labels[i] == labels[ii] and distances[i, ii] > diameters[\n",
    "                        labels[i]]:\n",
    "                    diameters[labels[i]] = distances[i, ii]\n",
    "    return diameters\n",
    "\n",
    "def dunn(labels, distances, diameter_method='farthest',\n",
    "         cdist_method='nearest'):\n",
    "    \"\"\"\n",
    "    Dunn index for cluster validation (larger is better).\n",
    "    \n",
    "    .. math:: D = \\\\min_{i = 1 \\\\ldots n_c; j = i + 1\\ldots n_c} \\\\left\\\\lbrace \\\\frac{d \\\\left( c_i,c_j \\\\right)}{\\\\max_{k = 1 \\\\ldots n_c} \\\\left(diam \\\\left(c_k \\\\right) \\\\right)} \\\\right\\\\rbrace\n",
    "    \n",
    "    where :math:`d(c_i,c_j)` represents the distance between\n",
    "    clusters :math:`c_i` and :math:`c_j`, and :math:`diam(c_k)` is the diameter of cluster :math:`c_k`.\n",
    "    Inter-cluster distance can be defined in many ways, such as the distance between cluster centroids or between their closest elements. Cluster diameter can be defined as the mean distance between all elements in the cluster, between all elements to the cluster centroid, or as the distance between the two furthest elements.\n",
    "    The higher the value of the resulting Dunn index, the better the clustering\n",
    "    result is considered, since higher values indicate that clusters are\n",
    "    compact (small :math:`diam(c_k)`) and far apart (large :math:`d \\\\left( c_i,c_j \\\\right)`).\n",
    "    :param labels: a list containing cluster labels for each of the n elements\n",
    "    :param distances: an n x n numpy.array containing the pairwise distances between elements\n",
    "    :param diameter_method: see :py:function:`diameter` `method` parameter\n",
    "    :param cdist_method: see :py:function:`diameter` `method` parameter\n",
    "    \n",
    "    .. [Kovacs2005] Kovács, F., Legány, C., & Babos, A. (2005). Cluster validity measurement techniques. 6th International Symposium of Hungarian Researchers on Computational Intelligence.\n",
    "    \"\"\"\n",
    "\n",
    "    labels = LabelEncoder().fit(labels).transform(labels)\n",
    "    \n",
    "    \n",
    "\n",
    "    ic_distances = inter_cluster_distances(labels, distances, cdist_method)\n",
    "    #print(\"IC\",ic_distances)\n",
    "    if len(ic_distances[ic_distances.nonzero()])==0:\n",
    "        min_distance = 0\n",
    "    else:\n",
    "        min_distance = min(ic_distances[ic_distances.nonzero()])\n",
    "    max_diameter = max(diameter(labels, distances, diameter_method))\n",
    "    \n",
    "    \n",
    "\n",
    "    return min_distance / max_diameter"
   ]
  },
  {
   "cell_type": "code",
   "execution_count": null,
   "metadata": {},
   "outputs": [],
   "source": [
    "import scipy.cluster.hierarchy as hac\n",
    "from scipy.cluster.hierarchy import fcluster\n",
    "from sklearn.metrics import silhouette_score, calinski_harabasz_score\n",
    "from sklearn.cluster import AgglomerativeClustering, DBSCAN, KMeans\n",
    "k=6\n",
    "HAC_SCORES = []\n",
    "#Experimentos HAC\n",
    "HAC_euc = AgglomerativeClustering(n_clusters=k).fit_predict(euclidean_dist)\n",
    "silhouette_avg=silhouette_score( euclidean_dist, HAC_euc)\n",
    "print(\"HAC + euclidian distance: \")\n",
    "sil = silhouette_score(euclidean_dist, HAC_euc)\n",
    "print(\"SC: \",sil)\n",
    "HAC_SCORES.append(sil)\n",
    "\n",
    "HAC_corr = AgglomerativeClustering(n_clusters=k).fit_predict(corr_dist)\n",
    "print(\"HAC + corr distance: \")\n",
    "sil = silhouette_score(corr_dist, HAC_corr)\n",
    "print(\"SC: \", sil)\n",
    "HAC_SCORES.append(sil)\n",
    "\n",
    "HAC_scorr = AgglomerativeClustering(n_clusters=k).fit_predict(scorr_dist)\n",
    "print(\"HAC + scorr distance: \")\n",
    "sil = silhouette_score(scorr_dist, HAC_scorr)\n",
    "print(\"SC: \", sil)\n",
    "HAC_SCORES.append(sil)\n",
    "\n",
    "HAC_dtw = AgglomerativeClustering(n_clusters=k).fit_predict(dtw_dist)\n",
    "print(\"HAC + dtw distance: \")\n",
    "sil= silhouette_score(dtw_dist, HAC_dtw)\n",
    "print(\"SC: \", sil)\n",
    "HAC_SCORES.append(sil)"
   ]
  },
  {
   "cell_type": "code",
   "execution_count": null,
   "metadata": {},
   "outputs": [],
   "source": [
    "KM_Scores = []\n",
    "km_euc = KMeans(n_clusters=k).fit_predict(euclidean_dist)\n",
    "silhouette_avg=silhouette_score(euclidean_dist, km_euc)\n",
    "print(\"KM + euclidian distance: \")\n",
    "print(\"SC: \", silhouette_score(euclidean_dist, km_euc))\n",
    "KM_Scores.append(silhouette_score(euclidean_dist, km_euc))\n",
    "\n",
    "km_corr = KMeans(n_clusters=k).fit_predict(corr_dist)\n",
    "print(\"KM + corr distance: \")\n",
    "print(\"SC: \",silhouette_score(corr_dist, km_corr))\n",
    "KM_Scores.append(silhouette_score(corr_dist, km_corr))\n",
    "\n",
    "km_scorr = KMeans(n_clusters=k).fit_predict(scorr_dist)\n",
    "print(\"KM + scorr distance: \")\n",
    "print(\"SC: \",silhouette_score(scorr_dist, km_scorr))\n",
    "KM_Scores.append(silhouette_score(scorr_dist, km_scorr))\n",
    "\n",
    "km_dtw = KMeans(n_clusters=k).fit_predict(dtw_dist)\n",
    "print(\"KM + dtw distance: \")\n",
    "print(\"SC: \",silhouette_score(dtw_dist, km_dtw))\n",
    "KM_Scores.append(silhouette_score(dtw_dist, km_dtw))"
   ]
  },
  {
   "cell_type": "markdown",
   "metadata": {},
   "source": [
    "# Experimentos DBSCAN"
   ]
  },
  {
   "cell_type": "markdown",
   "metadata": {},
   "source": [
    "El puntaje es negativo porque los puntos están en promedio más cerca de otro cluster, que del cuál ha sido asignado"
   ]
  },
  {
   "cell_type": "code",
   "execution_count": null,
   "metadata": {},
   "outputs": [],
   "source": [
    "DB_scores=[]\n",
    "\n",
    "#CON EUCLIDEAN\n",
    "DB_euc = DBSCAN(eps=3, min_samples=2).fit_predict(euclidean_dist)\n",
    "silhouette_avg=silhouette_score( euclidean_dist, DB_euc)\n",
    "print(\"DBSCAN + euclidian distance: \")\n",
    "print(\"SC: \", silhouette_score( euclidean_dist, DB_euc))\n",
    "DB_scores.append(silhouette_score(euclidean_dist, DB_euc))\n",
    "\n",
    "#CON CORRELATION\n",
    "DB_corr = DBSCAN(eps=3, min_samples=2).fit_predict(corr_dist)\n",
    "print(\"DBSCAN + corr distance: \")\n",
    "print(\"SC: \",silhouette_score(corr_dist, DB_corr))\n",
    "DB_scores.append(silhouette_score(corr_dist, DB_corr))\n",
    "\n",
    "#CON SPEARMAN\n",
    "DB_scorr = DBSCAN(eps=3, min_samples=2).fit_predict(scorr_dist)\n",
    "print(\"DBSCAN + scorr distance: \")\n",
    "print(\"SC: \",silhouette_score(scorr_dist, DB_scorr))\n",
    "DB_scores.append(silhouette_score(scorr_dist, DB_scorr))\n",
    "\n",
    "#CON D TIME WARPING\n",
    "DB_dtw = DBSCAN(eps=3, min_samples=2).fit_predict(dtw_dist)\n",
    "print(\"DBSCAN + dtw distance: \")\n",
    "print(\"SC: \", silhouette_score(dtw_dist, DB_dtw))\n",
    "DB_scores.append(silhouette_score(dtw_dist, DB_dtw))"
   ]
  },
  {
   "cell_type": "code",
   "execution_count": null,
   "metadata": {},
   "outputs": [],
   "source": [
    "df_sc=pd.DataFrame(columns=[\"Algoritmo\", \"Euclidean\",\"Pearson Corr\",\"Spearman Corr\",\"DTW\"])\n",
    "HAC_scores.insert(0, 'Hierarchical')\n",
    "KM_Scores.insert(0, 'KMeans')\n",
    "DB_scores.insert(0, 'DBSCAN')\n",
    "df_sc.loc[0]= HAC_scores\n",
    "df_sc.loc[1]= KM_Scores\n",
    "df_sc.loc[2]= DB_scores\n",
    "df_sc"
   ]
  },
  {
   "cell_type": "code",
   "execution_count": null,
   "metadata": {},
   "outputs": [],
   "source": [
    "df_sc.to_csv('SilScoreRB_Norm_2015to2020.csv')"
   ]
  },
  {
   "cell_type": "code",
   "execution_count": null,
   "metadata": {},
   "outputs": [],
   "source": []
  }
 ],
 "metadata": {
  "kernelspec": {
   "display_name": "Python 3",
   "language": "python",
   "name": "python3"
  },
  "language_info": {
   "codemirror_mode": {
    "name": "ipython",
    "version": 3
   },
   "file_extension": ".py",
   "mimetype": "text/x-python",
   "name": "python",
   "nbconvert_exporter": "python",
   "pygments_lexer": "ipython3",
   "version": "3.8.5"
  },
  "widgets": {
   "application/vnd.jupyter.widget-state+json": {
    "state": {},
    "version_major": 2,
    "version_minor": 0
   }
  }
 },
 "nbformat": 4,
 "nbformat_minor": 4
}
