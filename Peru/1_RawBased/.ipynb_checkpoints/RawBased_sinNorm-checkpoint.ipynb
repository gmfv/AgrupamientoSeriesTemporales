{
 "cells": [
  {
   "cell_type": "code",
   "execution_count": 1,
   "metadata": {},
   "outputs": [],
   "source": [
    "import glob\n",
    "import os\n",
    "import matplotlib.pyplot as plt\n",
    "import numpy as np\n",
    "import pandas as pd\n",
    "import seaborn as sns"
   ]
  },
  {
   "cell_type": "code",
   "execution_count": 2,
   "metadata": {},
   "outputs": [],
   "source": [
    "my_path = os.path.abspath('')\n",
    "my_path = my_path.split('\\\\')\n",
    "my_path_py = \"\\\\\".join(my_path[:-1])\n",
    "\n",
    "DF_TOTAL_T=pd.read_csv(my_path_py+'\\\\DatosRaw\\\\DEN_2015to2020.csv', sep=',')"
   ]
  },
  {
   "cell_type": "code",
   "execution_count": 3,
   "metadata": {},
   "outputs": [
    {
     "name": "stdout",
     "output_type": "stream",
     "text": [
      "Son  505  distritos\n"
     ]
    }
   ],
   "source": [
    "listaDistrito = DF_TOTAL_T['Dep-Prov-Distrito'].tolist()\n",
    "listaDistrito = list(dict.fromkeys(listaDistrito))\n",
    "print('Son ', len(listaDistrito), ' distritos')\n",
    "listaDistrito.sort()\n",
    "#print(listaDistrito)"
   ]
  },
  {
   "cell_type": "code",
   "execution_count": 4,
   "metadata": {},
   "outputs": [],
   "source": [
    "timeSeries = pd.read_csv(my_path_py+'\\\\DatosRaw\\\\SerieTemporal_2015to2020.csv', sep=',')\n",
    "timeSeries = timeSeries.fillna(0.00001)"
   ]
  },
  {
   "cell_type": "markdown",
   "metadata": {},
   "source": [
    "## Funciones de Distancias"
   ]
  },
  {
   "cell_type": "code",
   "execution_count": 5,
   "metadata": {},
   "outputs": [],
   "source": [
    "import math\n",
    "from math import sqrt, log, floor\n",
    "from sklearn.metrics import mean_squared_error\n",
    "from statistics import mean\n",
    "from fastdtw import fastdtw\n",
    "from scipy import stats\n",
    "from scipy.spatial.distance import pdist\n",
    "\n",
    "#Euclidean\n",
    "def euclidean(x, y):\n",
    "    r=np.linalg.norm(x-y)\n",
    "    if math.isnan(r):\n",
    "        r=1\n",
    "    #print(r)\n",
    "    return r\n",
    "\n",
    "#Fast Dynamic time warping\n",
    "def fast_DTW(x, y):\n",
    "    r, _ = fastdtw(x, y, dist=euclidean)\n",
    "    if math.isnan(r):\n",
    "        r=1\n",
    "    #print(r)\n",
    "    return r\n",
    "\n",
    "#Spearman\n",
    "def scorr(x, y):\n",
    "    r = stats.spearmanr(x, y)[0]\n",
    "    if math.isnan(r):\n",
    "        r=0\n",
    "    #print(r)\n",
    "    return 1 - r\n",
    "\n",
    "#RMSE\n",
    "def rmse(x, y):\n",
    "    r=sqrt(mean_squared_error(x,y))\n",
    "    if math.isnan(r):\n",
    "        r=1\n",
    "    #print(r)\n",
    "    return r\n",
    "\n",
    "def lcs(a, b):  \n",
    "    lengths = [[0 for j in range(len(b)+1)] for i in range(len(a)+1)]\n",
    "    # row 0 and column 0 are initialized to 0 already\n",
    "    for i, x in enumerate(a):\n",
    "        for j, y in enumerate(b):\n",
    "            if x == y:\n",
    "                lengths[i+1][j+1] = lengths[i][j] + 1\n",
    "            else:\n",
    "                lengths[i+1][j+1] = max(lengths[i+1][j], lengths[i][j+1])\n",
    "    x, y = len(a), len(b)\n",
    "    result = lengths[x][y]\n",
    "    return result\n",
    "\n",
    "def discretise(x):\n",
    "    return int(x * 10)\n",
    "\n",
    "def multidim_lcs(a, b):\n",
    "    a = a.applymap(discretise)\n",
    "    b = b.applymap(discretise)\n",
    "    rows, dims = a.shape\n",
    "    lcss = [lcs(a[i+2], b[i+2]) for i in range(dims)]\n",
    "    return 1 - sum(lcss) / (rows * dims)\n",
    "\n",
    "#Correlation\n",
    "def corr(x, y):\n",
    "    r=np.dot(x-mean(x),y-mean(y))/((np.linalg.norm(x-mean(x)))*(np.linalg.norm(y-mean(y))))\n",
    "    if math.isnan(r):\n",
    "        r=0\n",
    "    #print(r)\n",
    "    return 1 - r"
   ]
  },
  {
   "cell_type": "code",
   "execution_count": 6,
   "metadata": {},
   "outputs": [
    {
     "data": {
      "text/plain": [
       "505"
      ]
     },
     "execution_count": 6,
     "metadata": {},
     "output_type": "execute_result"
    }
   ],
   "source": [
    "n= timeSeries.shape[0]\n",
    "n"
   ]
  },
  {
   "cell_type": "code",
   "execution_count": 7,
   "metadata": {},
   "outputs": [
    {
     "data": {
      "text/plain": [
       "(505, 318)"
      ]
     },
     "execution_count": 7,
     "metadata": {},
     "output_type": "execute_result"
    }
   ],
   "source": [
    "timeSeries.shape"
   ]
  },
  {
   "cell_type": "markdown",
   "metadata": {},
   "source": [
    "## Distancias de matrices de distancias"
   ]
  },
  {
   "cell_type": "code",
   "execution_count": null,
   "metadata": {},
   "outputs": [],
   "source": [
    "#Euclidean\n",
    "euclidean_dist = np.zeros((n,n))\n",
    "for i in range(0,n):\n",
    "    #print(\"i\",i)\n",
    "    for j in range(0,n):\n",
    "       # print(\"j\",j)\n",
    "        euclidean_dist[i,j] = euclidean(timeSeries.iloc[i].values.flatten(), timeSeries.iloc[j].values.flatten())\n",
    "\n",
    "#DTW\n",
    "dtw_dist = np.zeros((n,n))\n",
    "for i in range(0,n):\n",
    "    #print(\"i\",i)\n",
    "    for j in range(0,n):\n",
    "       # print(\"j\",j)\n",
    "        dtw_dist[i,j] = fast_DTW(timeSeries.iloc[i].values.flatten(), timeSeries.iloc[j].values.flatten())\n",
    "    "
   ]
  },
  {
   "cell_type": "code",
   "execution_count": null,
   "metadata": {},
   "outputs": [],
   "source": [
    "timeSeries = timeSeries.replace('nan', np.nan).fillna(0.000001)\n",
    "timeSeries = timeSeries.replace([np.inf, -np.inf], np.nan).fillna(0.000001)\n",
    "#RMSE\n",
    "rmse_dist = np.zeros((n,n))\n",
    "for i in range(0,n):\n",
    "    #print(\"i\",i)\n",
    "    for j in range(0,n):\n",
    "       # print(\"j\",j)\n",
    "        rmse_dist[i,j] = rmse(timeSeries.iloc[i].values.flatten(), timeSeries.iloc[j].values.flatten())\n",
    "#Corr\n",
    "corr_dist = np.zeros((n,n))\n",
    "for i in range(0,n):\n",
    "    #print(\"i\",i)\n",
    "    for j in range(0,n):\n",
    "       # print(\"j\",j)\n",
    "        corr_dist[i,j] = corr(timeSeries.iloc[i].values.flatten(), timeSeries.iloc[j].values.flatten())\n",
    "#scorr\n",
    "scorr_dist = np.zeros((n,n))\n",
    "for i in range(0,n):\n",
    "    #print(\"i\",i)\n",
    "    for j in range(0,n):\n",
    "       # print(\"j\",j)\n",
    "        scorr_dist[i,j] = scorr(timeSeries.iloc[i].values.flatten(), timeSeries.iloc[j].values.flatten())"
   ]
  },
  {
   "cell_type": "code",
   "execution_count": null,
   "metadata": {},
   "outputs": [],
   "source": [
    "k=7"
   ]
  },
  {
   "cell_type": "markdown",
   "metadata": {},
   "source": [
    "# Juan Vicente"
   ]
  },
  {
   "cell_type": "code",
   "execution_count": null,
   "metadata": {},
   "outputs": [],
   "source": [
    "from sklearn.preprocessing import LabelEncoder\n",
    "DIAMETER_METHODS = ['mean_cluster', 'farthest']\n",
    "CLUSTER_DISTANCE_METHODS = ['nearest', 'farthest']\n",
    "\n",
    "def inter_cluster_distances(labels, distances, method='nearest'):\n",
    "    \"\"\"Calculates the distances between the two nearest points of each cluster.\n",
    "    :param labels: a list containing cluster labels for each of the n elements\n",
    "    :param distances: an n x n numpy.array containing the pairwise distances between elements\n",
    "    :param method: `nearest` for the distances between the two nearest points in each cluster, or `farthest`\n",
    "    \"\"\"\n",
    "    if method not in CLUSTER_DISTANCE_METHODS:\n",
    "        raise ValueError(\n",
    "            'method must be one of {}'.format(CLUSTER_DISTANCE_METHODS))\n",
    "\n",
    "    if method == 'nearest':\n",
    "        return __cluster_distances_by_points(labels, distances)\n",
    "    elif method == 'farthest':\n",
    "        return __cluster_distances_by_points(labels, distances, farthest=True)\n",
    "\n",
    "\n",
    "def __cluster_distances_by_points(labels, distances, farthest=False):\n",
    "    n_unique_labels = len(np.unique(labels))\n",
    "    cluster_distances = np.full((n_unique_labels, n_unique_labels),\n",
    "                                float('inf') if not farthest else 0)\n",
    "\n",
    "    np.fill_diagonal(cluster_distances, 0)\n",
    "\n",
    "    for i in np.arange(0, len(labels) - 1):\n",
    "        for ii in np.arange(i, len(labels)):\n",
    "            if labels[i] != labels[ii] and (\n",
    "                (not farthest and\n",
    "                 distances[i, ii] < cluster_distances[labels[i], labels[ii]])\n",
    "                    or\n",
    "                (farthest and\n",
    "                 distances[i, ii] > cluster_distances[labels[i], labels[ii]])):\n",
    "                cluster_distances[labels[i], labels[ii]] = cluster_distances[\n",
    "                    labels[ii], labels[i]] = distances[i, ii]\n",
    "    return cluster_distances\n",
    "\n",
    "\n",
    "def diameter(labels, distances, method='farthest'):\n",
    "    \"\"\"Calculates cluster diameters\n",
    "    :param labels: a list containing cluster labels for each of the n elements\n",
    "    :param distances: an n x n numpy.array containing the pairwise distances between elements\n",
    "    :param method: either `mean_cluster` for the mean distance between all elements in each cluster, or `farthest` for the distance between the two points furthest from each other\n",
    "    \"\"\"\n",
    "    if method not in DIAMETER_METHODS:\n",
    "        raise ValueError('method must be one of {}'.format(DIAMETER_METHODS))\n",
    "\n",
    "    n_clusters = len(np.unique(labels))\n",
    "    diameters = np.zeros(n_clusters)\n",
    "\n",
    "    if method == 'mean_cluster':\n",
    "        for i in range(0, len(labels) - 1):\n",
    "            for ii in range(i + 1, len(labels)):\n",
    "                if labels[i] == labels[ii]:\n",
    "                    diameters[labels[i]] += distances[i, ii]\n",
    "\n",
    "        for i in range(len(diameters)):\n",
    "            diameters[i] /= sum(labels == i)\n",
    "\n",
    "    elif method == 'farthest':\n",
    "        for i in range(0, len(labels) - 1):\n",
    "            for ii in range(i + 1, len(labels)):\n",
    "                if labels[i] == labels[ii] and distances[i, ii] > diameters[\n",
    "                        labels[i]]:\n",
    "                    diameters[labels[i]] = distances[i, ii]\n",
    "    return diameters\n",
    "\n",
    "def dunn(labels, distances, diameter_method='farthest',\n",
    "         cdist_method='nearest'):\n",
    "    \"\"\"\n",
    "    Dunn index for cluster validation (larger is better).\n",
    "    \n",
    "    .. math:: D = \\\\min_{i = 1 \\\\ldots n_c; j = i + 1\\ldots n_c} \\\\left\\\\lbrace \\\\frac{d \\\\left( c_i,c_j \\\\right)}{\\\\max_{k = 1 \\\\ldots n_c} \\\\left(diam \\\\left(c_k \\\\right) \\\\right)} \\\\right\\\\rbrace\n",
    "    \n",
    "    where :math:`d(c_i,c_j)` represents the distance between\n",
    "    clusters :math:`c_i` and :math:`c_j`, and :math:`diam(c_k)` is the diameter of cluster :math:`c_k`.\n",
    "    Inter-cluster distance can be defined in many ways, such as the distance between cluster centroids or between their closest elements. Cluster diameter can be defined as the mean distance between all elements in the cluster, between all elements to the cluster centroid, or as the distance between the two furthest elements.\n",
    "    The higher the value of the resulting Dunn index, the better the clustering\n",
    "    result is considered, since higher values indicate that clusters are\n",
    "    compact (small :math:`diam(c_k)`) and far apart (large :math:`d \\\\left( c_i,c_j \\\\right)`).\n",
    "    :param labels: a list containing cluster labels for each of the n elements\n",
    "    :param distances: an n x n numpy.array containing the pairwise distances between elements\n",
    "    :param diameter_method: see :py:function:`diameter` `method` parameter\n",
    "    :param cdist_method: see :py:function:`diameter` `method` parameter\n",
    "    \n",
    "    .. [Kovacs2005] Kovács, F., Legány, C., & Babos, A. (2005). Cluster validity measurement techniques. 6th International Symposium of Hungarian Researchers on Computational Intelligence.\n",
    "    \"\"\"\n",
    "\n",
    "    labels = LabelEncoder().fit(labels).transform(labels)\n",
    "    \n",
    "    \n",
    "\n",
    "    ic_distances = inter_cluster_distances(labels, distances, cdist_method)\n",
    "    #print(\"IC\",ic_distances)\n",
    "    if len(ic_distances[ic_distances.nonzero()])==0:\n",
    "        min_distance = 0\n",
    "    else:\n",
    "        min_distance = min(ic_distances[ic_distances.nonzero()])\n",
    "    max_diameter = max(diameter(labels, distances, diameter_method))\n",
    "    \n",
    "    \n",
    "\n",
    "    return min_distance / max_diameter"
   ]
  },
  {
   "cell_type": "code",
   "execution_count": null,
   "metadata": {},
   "outputs": [],
   "source": [
    "import scipy.cluster.hierarchy as hac\n",
    "from sklearn.cluster import AgglomerativeClustering\n",
    "from scipy.cluster.hierarchy import fcluster\n",
    "from sklearn.metrics import silhouette_score, calinski_harabasz_score\n",
    "HAC_scores=[]\n",
    "#Experimentos HAC\n",
    "HAC_euc = AgglomerativeClustering(n_clusters=k).fit_predict(euclidean_dist)\n",
    "silhouette_avg=silhouette_score( euclidean_dist, HAC_euc)\n",
    "print(\"HAC + euclidian distance: \")\n",
    "print(\"SC: \",silhouette_score( euclidean_dist, HAC_euc))\n",
    "#print(\"CHZ: \",calinski_harabasz_score(euclidean_dist, HAC_euc))\n",
    "#print(\"DUNN: \",dunn(HAC_euc, euclidean_dist, 'farthest', 'farthest'))\n",
    "#HAC_rmse = AgglomerativeClustering(n_clusters=k).fit_predict(f_rmse_dist)\n",
    "#print(\"HAC + rmse distance: \",silhouette_score( f_rmse_dist, HAC_rmse))\n",
    "HAC_scores.append(silhouette_score(euclidean_dist, HAC_euc))\n",
    "\n",
    "HAC_corr = AgglomerativeClustering(n_clusters=k).fit_predict(corr_dist)\n",
    "print(\"HAC + corr distance: \")\n",
    "print(\"SC: \",silhouette_score(corr_dist, HAC_corr))\n",
    "#print(\"CHZ: \",calinski_harabasz_score(corr_dist,HAC_corr))\n",
    "#print(\"DUNN: \",dunn(HAC_corr, corr_dist, 'farthest', 'farthest'))\n",
    "#print(\"HAC + corr distance: \",0.0)\n",
    "HAC_scores.append(silhouette_score(corr_dist, HAC_corr))\n",
    "\n",
    "HAC_scorr = AgglomerativeClustering(n_clusters=k).fit_predict(scorr_dist)\n",
    "print(\"HAC + scorr distance: \")\n",
    "print(\"SC: \", silhouette_score(scorr_dist, HAC_scorr))\n",
    "#print(\"CHZ: \",calinski_harabasz_score(scorr_dist, HAC_scorr))\n",
    "#print(\"DUNN: \",dunn(HAC_scorr, scorr_dist, 'farthest', 'farthest'))\n",
    "HAC_scores.append(silhouette_score(scorr_dist, HAC_scorr))\n",
    "\n",
    "HAC_dtw = AgglomerativeClustering(n_clusters=k).fit_predict(dtw_dist)\n",
    "print(\"HAC + dtw distance: \")\n",
    "print(\"SC: \", silhouette_score( dtw_dist, HAC_dtw))\n",
    "#print(\"CHZ: \",calinski_harabasz_score(dtw_dist, HAC_dtw))\n",
    "#print(\"DUNN: \",dunn(HAC_dtw, dtw_dist, 'farthest', 'farthest'))\n",
    "HAC_scores.append(silhouette_score(dtw_dist, HAC_dtw))"
   ]
  },
  {
   "cell_type": "code",
   "execution_count": null,
   "metadata": {},
   "outputs": [],
   "source": [
    "from sklearn.cluster import KMeans, DBSCAN\n",
    "KM_Scores=[]\n",
    "km_euc = KMeans(n_clusters=k).fit_predict(euclidean_dist)\n",
    "silhouette_avg=silhouette_score( euclidean_dist, km_euc)\n",
    "print(\"KM + euclidian distance: \")\n",
    "print(\"SC: \", silhouette_score(euclidean_dist, km_euc))\n",
    "KM_Scores.append(silhouette_score(euclidean_dist, km_euc))\n",
    "#print(\"CHZ: \",calinski_harabasz_score(euclidean_dist, km_euc))\n",
    "#print(\"DUNN: \",dunn(km_euc, euclidean_dist, 'farthest', 'farthest'))\n",
    "#km_rmse = KMeans(n_clusters=k).fit_predict(rmse_dist)\n",
    "#print(\"KM + rmse distance: \")\n",
    "#print(\"SC: \",silhouette_score( rmse_dist, km_rmse))\n",
    "#print(\"DUNN: \",base.dunn(km_rmse))\n",
    "\n",
    "km_corr = KMeans(n_clusters=k).fit_predict(corr_dist)\n",
    "print(\"KM + corr distance: \")\n",
    "print(\"SC: \", silhouette_score(corr_dist, km_corr))\n",
    "#print(\"CHZ: \",calinski_harabasz_score(corr_dist, km_corr))\n",
    "#print(\"DUNN: \",dunn(km_corr, corr_dist, 'farthest', 'farthest'))\n",
    "KM_Scores.append(silhouette_score(corr_dist, km_corr))\n",
    "\n",
    "km_scorr = KMeans(n_clusters=k).fit_predict(scorr_dist)\n",
    "print(\"KM + scorr distance: \")\n",
    "print(\"SC: \", silhouette_score(scorr_dist, km_scorr))\n",
    "#print(\"CHZ: \",calinski_harabasz_score(scorr_dist, km_scorr))\n",
    "#print(\"DUNN: \",dunn(km_scorr, scorr_dist, 'farthest', 'farthest'))\n",
    "KM_Scores.append(silhouette_score(scorr_dist, km_scorr))\n",
    "\n",
    "km_dtw = KMeans(n_clusters=k).fit_predict(dtw_dist)\n",
    "print(\"KM + dtw distance: \")\n",
    "print(\"SC: \", silhouette_score(dtw_dist, km_dtw))\n",
    "#print(\"CHZ: \",calinski_harabasz_score(dtw_dist, km_dtw))\n",
    "#print(\"DUNN: \",dunn(km_dtw, dtw_dist, 'farthest', 'farthest'))\n",
    "KM_Scores.append(silhouette_score(dtw_dist, km_dtw))\n"
   ]
  },
  {
   "cell_type": "markdown",
   "metadata": {},
   "source": [
    "# Experimentos DBSCAN"
   ]
  },
  {
   "cell_type": "markdown",
   "metadata": {},
   "source": [
    "El puntaje es negativo porque los puntos están en promedio más cerca de otro cluster, que del cuál ha sido asignado"
   ]
  },
  {
   "cell_type": "code",
   "execution_count": null,
   "metadata": {},
   "outputs": [],
   "source": [
    "DB_scores=[]\n",
    "#CON EUCLIDEAN\n",
    "DB_euc = DBSCAN(eps=3, min_samples=2).fit_predict(euclidean_dist)\n",
    "silhouette_avg=silhouette_score( euclidean_dist, DB_euc)\n",
    "print(\"DBSCAN + euclidian distance: \")\n",
    "print(\"SC: \", silhouette_score( euclidean_dist, DB_euc))\n",
    "#print(\"CHZ: \",calinski_harabasz_score(euclidean_dist, DB_euc))\n",
    "#print(\"DUNN: \",dunn(DB_euc, euclidean_dist, 'farthest', 'farthest'))\n",
    "DB_scores.append(silhouette_score(euclidean_dist, DB_euc))\n",
    "\n",
    "#CON CORRELATION\n",
    "DB_corr = DBSCAN(eps=3, min_samples=2).fit_predict(corr_dist)\n",
    "print(\"DBSCAN + corr distance: \")\n",
    "print(\"SC: \",silhouette_score(corr_dist, DB_corr))\n",
    "#print(\"CHZ: \",calinski_harabasz_score(corr_dist, DB_corr))\n",
    "#print(\"DUNN: \",dunn(DB_corr, corr_dist, 'farthest', 'farthest'))\n",
    "DB_scores.append(silhouette_score(corr_dist, DB_corr))\n",
    "\n",
    "#CON SPEARMAN\n",
    "DB_scorr = DBSCAN(eps=3, min_samples=2).fit_predict(scorr_dist)\n",
    "print(\"DBSCAN + scorr distance: \")\n",
    "print(\"SC: \",silhouette_score(scorr_dist, DB_scorr))\n",
    "#print(\"CHZ: \",calinski_harabasz_score(scorr_dist, DB_scorr))\n",
    "#print(\"DUNN: \",dunn(DB_scorr, scorr_dist, 'farthest', 'farthest'))\n",
    "DB_scores.append(silhouette_score(scorr_dist, DB_scorr))\n",
    "\n",
    "#CON D TIME WARPING\n",
    "DB_dtw = DBSCAN(eps=3, min_samples=2).fit_predict(dtw_dist)\n",
    "print(\"DBSCAN + dtw distance: \")\n",
    "print(\"SC: \",silhouette_score(dtw_dist, DB_dtw))\n",
    "#print(\"CHZ: \",calinski_harabasz_score( dtw_dist, DB_dtw))\n",
    "#print(\"DUNN: \",dunn(DB_dtw, dtw_dist, 'farthest', 'farthest'))\n",
    "DB_scores.append(silhouette_score(dtw_dist, DB_dtw))"
   ]
  },
  {
   "cell_type": "code",
   "execution_count": null,
   "metadata": {},
   "outputs": [],
   "source": [
    "df_sc=pd.DataFrame(columns=[\"Algoritmo\", \"Euclidean\",\"Pearson Corr\",\"Spearman Corr\",\"DTW\"])\n",
    "HAC_scores.insert(0, 'Hierarchical')\n",
    "KM_Scores.insert(0, 'KMeans')\n",
    "DB_scores.insert(0, 'DBSCAN')\n",
    "df_sc.loc[0]= HAC_scores\n",
    "df_sc.loc[1]= KM_Scores\n",
    "df_sc.loc[2]= DB_scores\n",
    "df_sc"
   ]
  },
  {
   "cell_type": "code",
   "execution_count": null,
   "metadata": {},
   "outputs": [],
   "source": [
    "df_sc.to_csv('SilScoreRB_2015to2020.csv')"
   ]
  },
  {
   "cell_type": "code",
   "execution_count": null,
   "metadata": {},
   "outputs": [],
   "source": []
  },
  {
   "cell_type": "code",
   "execution_count": null,
   "metadata": {},
   "outputs": [],
   "source": []
  }
 ],
 "metadata": {
  "kernelspec": {
   "display_name": "Python 3",
   "language": "python",
   "name": "python3"
  },
  "language_info": {
   "codemirror_mode": {
    "name": "ipython",
    "version": 3
   },
   "file_extension": ".py",
   "mimetype": "text/x-python",
   "name": "python",
   "nbconvert_exporter": "python",
   "pygments_lexer": "ipython3",
   "version": "3.8.5"
  },
  "widgets": {
   "application/vnd.jupyter.widget-state+json": {
    "state": {},
    "version_major": 2,
    "version_minor": 0
   }
  }
 },
 "nbformat": 4,
 "nbformat_minor": 4
}
