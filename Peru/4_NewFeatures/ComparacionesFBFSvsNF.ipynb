{
 "cells": [
  {
   "cell_type": "code",
   "execution_count": 1,
   "metadata": {},
   "outputs": [
    {
     "ename": "FileNotFoundError",
     "evalue": "[Errno 2] No such file or directory: 'ScoreswithNF_FeatureBased.csv'",
     "output_type": "error",
     "traceback": [
      "\u001b[1;31m---------------------------------------------------------------------------\u001b[0m",
      "\u001b[1;31mFileNotFoundError\u001b[0m                         Traceback (most recent call last)",
      "\u001b[1;32m<ipython-input-1-c7834710f0e8>\u001b[0m in \u001b[0;36m<module>\u001b[1;34m\u001b[0m\n\u001b[0;32m      6\u001b[0m \u001b[0mmy_path_py\u001b[0m \u001b[1;33m=\u001b[0m \u001b[1;34m\"\\\\\"\u001b[0m\u001b[1;33m.\u001b[0m\u001b[0mjoin\u001b[0m\u001b[1;33m(\u001b[0m\u001b[0mmy_path\u001b[0m\u001b[1;33m[\u001b[0m\u001b[1;33m:\u001b[0m\u001b[1;33m-\u001b[0m\u001b[1;36m1\u001b[0m\u001b[1;33m]\u001b[0m\u001b[1;33m)\u001b[0m\u001b[1;33m\u001b[0m\u001b[1;33m\u001b[0m\u001b[0m\n\u001b[0;32m      7\u001b[0m \u001b[1;33m\u001b[0m\u001b[0m\n\u001b[1;32m----> 8\u001b[1;33m \u001b[0mPuntajesNF\u001b[0m \u001b[1;33m=\u001b[0m \u001b[0mpd\u001b[0m\u001b[1;33m.\u001b[0m\u001b[0mread_csv\u001b[0m\u001b[1;33m(\u001b[0m\u001b[1;34m'ScoreswithNF_FeatureBased.csv'\u001b[0m\u001b[1;33m,\u001b[0m \u001b[0msep\u001b[0m\u001b[1;33m=\u001b[0m\u001b[1;34m','\u001b[0m\u001b[1;33m)\u001b[0m\u001b[1;33m\u001b[0m\u001b[1;33m\u001b[0m\u001b[0m\n\u001b[0m\u001b[0;32m      9\u001b[0m \u001b[0mPuntajesNF\u001b[0m \u001b[1;33m=\u001b[0m \u001b[0mPuntajesNF\u001b[0m\u001b[1;33m.\u001b[0m\u001b[0mdrop\u001b[0m\u001b[1;33m(\u001b[0m\u001b[1;34m'Unnamed: 0'\u001b[0m\u001b[1;33m,\u001b[0m \u001b[0maxis\u001b[0m\u001b[1;33m=\u001b[0m\u001b[1;36m1\u001b[0m\u001b[1;33m)\u001b[0m\u001b[1;33m\u001b[0m\u001b[1;33m\u001b[0m\u001b[0m\n\u001b[0;32m     10\u001b[0m \u001b[0mPuntajes_allf\u001b[0m \u001b[1;33m=\u001b[0m \u001b[0mpd\u001b[0m\u001b[1;33m.\u001b[0m\u001b[0mread_csv\u001b[0m\u001b[1;33m(\u001b[0m\u001b[0mmy_path_py\u001b[0m\u001b[1;33m+\u001b[0m\u001b[1;34m\"\\\\3_FeatureSelection\\\\Resultados_Scores\\\\Scores8F_Based.csv\"\u001b[0m\u001b[1;33m,\u001b[0m \u001b[0msep\u001b[0m\u001b[1;33m=\u001b[0m\u001b[1;34m','\u001b[0m\u001b[1;33m)\u001b[0m\u001b[1;33m\u001b[0m\u001b[1;33m\u001b[0m\u001b[0m\n",
      "\u001b[1;32mC:\\ProgramData\\Anaconda3\\lib\\site-packages\\pandas\\io\\parsers.py\u001b[0m in \u001b[0;36mread_csv\u001b[1;34m(filepath_or_buffer, sep, delimiter, header, names, index_col, usecols, squeeze, prefix, mangle_dupe_cols, dtype, engine, converters, true_values, false_values, skipinitialspace, skiprows, skipfooter, nrows, na_values, keep_default_na, na_filter, verbose, skip_blank_lines, parse_dates, infer_datetime_format, keep_date_col, date_parser, dayfirst, cache_dates, iterator, chunksize, compression, thousands, decimal, lineterminator, quotechar, quoting, doublequote, escapechar, comment, encoding, dialect, error_bad_lines, warn_bad_lines, delim_whitespace, low_memory, memory_map, float_precision)\u001b[0m\n\u001b[0;32m    684\u001b[0m     )\n\u001b[0;32m    685\u001b[0m \u001b[1;33m\u001b[0m\u001b[0m\n\u001b[1;32m--> 686\u001b[1;33m     \u001b[1;32mreturn\u001b[0m \u001b[0m_read\u001b[0m\u001b[1;33m(\u001b[0m\u001b[0mfilepath_or_buffer\u001b[0m\u001b[1;33m,\u001b[0m \u001b[0mkwds\u001b[0m\u001b[1;33m)\u001b[0m\u001b[1;33m\u001b[0m\u001b[1;33m\u001b[0m\u001b[0m\n\u001b[0m\u001b[0;32m    687\u001b[0m \u001b[1;33m\u001b[0m\u001b[0m\n\u001b[0;32m    688\u001b[0m \u001b[1;33m\u001b[0m\u001b[0m\n",
      "\u001b[1;32mC:\\ProgramData\\Anaconda3\\lib\\site-packages\\pandas\\io\\parsers.py\u001b[0m in \u001b[0;36m_read\u001b[1;34m(filepath_or_buffer, kwds)\u001b[0m\n\u001b[0;32m    450\u001b[0m \u001b[1;33m\u001b[0m\u001b[0m\n\u001b[0;32m    451\u001b[0m     \u001b[1;31m# Create the parser.\u001b[0m\u001b[1;33m\u001b[0m\u001b[1;33m\u001b[0m\u001b[1;33m\u001b[0m\u001b[0m\n\u001b[1;32m--> 452\u001b[1;33m     \u001b[0mparser\u001b[0m \u001b[1;33m=\u001b[0m \u001b[0mTextFileReader\u001b[0m\u001b[1;33m(\u001b[0m\u001b[0mfp_or_buf\u001b[0m\u001b[1;33m,\u001b[0m \u001b[1;33m**\u001b[0m\u001b[0mkwds\u001b[0m\u001b[1;33m)\u001b[0m\u001b[1;33m\u001b[0m\u001b[1;33m\u001b[0m\u001b[0m\n\u001b[0m\u001b[0;32m    453\u001b[0m \u001b[1;33m\u001b[0m\u001b[0m\n\u001b[0;32m    454\u001b[0m     \u001b[1;32mif\u001b[0m \u001b[0mchunksize\u001b[0m \u001b[1;32mor\u001b[0m \u001b[0miterator\u001b[0m\u001b[1;33m:\u001b[0m\u001b[1;33m\u001b[0m\u001b[1;33m\u001b[0m\u001b[0m\n",
      "\u001b[1;32mC:\\ProgramData\\Anaconda3\\lib\\site-packages\\pandas\\io\\parsers.py\u001b[0m in \u001b[0;36m__init__\u001b[1;34m(self, f, engine, **kwds)\u001b[0m\n\u001b[0;32m    944\u001b[0m             \u001b[0mself\u001b[0m\u001b[1;33m.\u001b[0m\u001b[0moptions\u001b[0m\u001b[1;33m[\u001b[0m\u001b[1;34m\"has_index_names\"\u001b[0m\u001b[1;33m]\u001b[0m \u001b[1;33m=\u001b[0m \u001b[0mkwds\u001b[0m\u001b[1;33m[\u001b[0m\u001b[1;34m\"has_index_names\"\u001b[0m\u001b[1;33m]\u001b[0m\u001b[1;33m\u001b[0m\u001b[1;33m\u001b[0m\u001b[0m\n\u001b[0;32m    945\u001b[0m \u001b[1;33m\u001b[0m\u001b[0m\n\u001b[1;32m--> 946\u001b[1;33m         \u001b[0mself\u001b[0m\u001b[1;33m.\u001b[0m\u001b[0m_make_engine\u001b[0m\u001b[1;33m(\u001b[0m\u001b[0mself\u001b[0m\u001b[1;33m.\u001b[0m\u001b[0mengine\u001b[0m\u001b[1;33m)\u001b[0m\u001b[1;33m\u001b[0m\u001b[1;33m\u001b[0m\u001b[0m\n\u001b[0m\u001b[0;32m    947\u001b[0m \u001b[1;33m\u001b[0m\u001b[0m\n\u001b[0;32m    948\u001b[0m     \u001b[1;32mdef\u001b[0m \u001b[0mclose\u001b[0m\u001b[1;33m(\u001b[0m\u001b[0mself\u001b[0m\u001b[1;33m)\u001b[0m\u001b[1;33m:\u001b[0m\u001b[1;33m\u001b[0m\u001b[1;33m\u001b[0m\u001b[0m\n",
      "\u001b[1;32mC:\\ProgramData\\Anaconda3\\lib\\site-packages\\pandas\\io\\parsers.py\u001b[0m in \u001b[0;36m_make_engine\u001b[1;34m(self, engine)\u001b[0m\n\u001b[0;32m   1176\u001b[0m     \u001b[1;32mdef\u001b[0m \u001b[0m_make_engine\u001b[0m\u001b[1;33m(\u001b[0m\u001b[0mself\u001b[0m\u001b[1;33m,\u001b[0m \u001b[0mengine\u001b[0m\u001b[1;33m=\u001b[0m\u001b[1;34m\"c\"\u001b[0m\u001b[1;33m)\u001b[0m\u001b[1;33m:\u001b[0m\u001b[1;33m\u001b[0m\u001b[1;33m\u001b[0m\u001b[0m\n\u001b[0;32m   1177\u001b[0m         \u001b[1;32mif\u001b[0m \u001b[0mengine\u001b[0m \u001b[1;33m==\u001b[0m \u001b[1;34m\"c\"\u001b[0m\u001b[1;33m:\u001b[0m\u001b[1;33m\u001b[0m\u001b[1;33m\u001b[0m\u001b[0m\n\u001b[1;32m-> 1178\u001b[1;33m             \u001b[0mself\u001b[0m\u001b[1;33m.\u001b[0m\u001b[0m_engine\u001b[0m \u001b[1;33m=\u001b[0m \u001b[0mCParserWrapper\u001b[0m\u001b[1;33m(\u001b[0m\u001b[0mself\u001b[0m\u001b[1;33m.\u001b[0m\u001b[0mf\u001b[0m\u001b[1;33m,\u001b[0m \u001b[1;33m**\u001b[0m\u001b[0mself\u001b[0m\u001b[1;33m.\u001b[0m\u001b[0moptions\u001b[0m\u001b[1;33m)\u001b[0m\u001b[1;33m\u001b[0m\u001b[1;33m\u001b[0m\u001b[0m\n\u001b[0m\u001b[0;32m   1179\u001b[0m         \u001b[1;32melse\u001b[0m\u001b[1;33m:\u001b[0m\u001b[1;33m\u001b[0m\u001b[1;33m\u001b[0m\u001b[0m\n\u001b[0;32m   1180\u001b[0m             \u001b[1;32mif\u001b[0m \u001b[0mengine\u001b[0m \u001b[1;33m==\u001b[0m \u001b[1;34m\"python\"\u001b[0m\u001b[1;33m:\u001b[0m\u001b[1;33m\u001b[0m\u001b[1;33m\u001b[0m\u001b[0m\n",
      "\u001b[1;32mC:\\ProgramData\\Anaconda3\\lib\\site-packages\\pandas\\io\\parsers.py\u001b[0m in \u001b[0;36m__init__\u001b[1;34m(self, src, **kwds)\u001b[0m\n\u001b[0;32m   2006\u001b[0m         \u001b[0mkwds\u001b[0m\u001b[1;33m[\u001b[0m\u001b[1;34m\"usecols\"\u001b[0m\u001b[1;33m]\u001b[0m \u001b[1;33m=\u001b[0m \u001b[0mself\u001b[0m\u001b[1;33m.\u001b[0m\u001b[0musecols\u001b[0m\u001b[1;33m\u001b[0m\u001b[1;33m\u001b[0m\u001b[0m\n\u001b[0;32m   2007\u001b[0m \u001b[1;33m\u001b[0m\u001b[0m\n\u001b[1;32m-> 2008\u001b[1;33m         \u001b[0mself\u001b[0m\u001b[1;33m.\u001b[0m\u001b[0m_reader\u001b[0m \u001b[1;33m=\u001b[0m \u001b[0mparsers\u001b[0m\u001b[1;33m.\u001b[0m\u001b[0mTextReader\u001b[0m\u001b[1;33m(\u001b[0m\u001b[0msrc\u001b[0m\u001b[1;33m,\u001b[0m \u001b[1;33m**\u001b[0m\u001b[0mkwds\u001b[0m\u001b[1;33m)\u001b[0m\u001b[1;33m\u001b[0m\u001b[1;33m\u001b[0m\u001b[0m\n\u001b[0m\u001b[0;32m   2009\u001b[0m         \u001b[0mself\u001b[0m\u001b[1;33m.\u001b[0m\u001b[0munnamed_cols\u001b[0m \u001b[1;33m=\u001b[0m \u001b[0mself\u001b[0m\u001b[1;33m.\u001b[0m\u001b[0m_reader\u001b[0m\u001b[1;33m.\u001b[0m\u001b[0munnamed_cols\u001b[0m\u001b[1;33m\u001b[0m\u001b[1;33m\u001b[0m\u001b[0m\n\u001b[0;32m   2010\u001b[0m \u001b[1;33m\u001b[0m\u001b[0m\n",
      "\u001b[1;32mpandas\\_libs\\parsers.pyx\u001b[0m in \u001b[0;36mpandas._libs.parsers.TextReader.__cinit__\u001b[1;34m()\u001b[0m\n",
      "\u001b[1;32mpandas\\_libs\\parsers.pyx\u001b[0m in \u001b[0;36mpandas._libs.parsers.TextReader._setup_parser_source\u001b[1;34m()\u001b[0m\n",
      "\u001b[1;31mFileNotFoundError\u001b[0m: [Errno 2] No such file or directory: 'ScoreswithNF_FeatureBased.csv'"
     ]
    }
   ],
   "source": [
    "import pandas as pd\n",
    "import csv\n",
    "import os\n",
    "my_path = os.path.abspath('')\n",
    "my_path = my_path.split('\\\\')\n",
    "my_path_py = \"\\\\\".join(my_path[:-1])\n",
    "\n",
    "PuntajesNF = pd.read_csv('ScoreswithNF_FeatureBased.csv', sep=',')\n",
    "PuntajesNF = PuntajesNF.drop('Unnamed: 0', axis=1)\n",
    "Puntajes_allf = pd.read_csv(my_path_py+\"\\\\3_FeatureSelection\\\\Resultados_Scores\\\\Scores8F_Based.csv\", sep=',')\n",
    "Puntajes_allf = Puntajes_allf.drop('Unnamed: 0', axis=1)"
   ]
  },
  {
   "cell_type": "code",
   "execution_count": 2,
   "metadata": {},
   "outputs": [
    {
     "data": {
      "text/plain": [
       "Index(['METRICA', 'SIL HAC 8', 'SIL KM 8', 'SIL DB 8', 'CHZ HAC 8', 'CHZ KM 8',\n",
       "       'CHZ DB 8', 'DAVIES HAC 8', 'DAVIES KM 8', 'DAVIES DB 8'],\n",
       "      dtype='object')"
      ]
     },
     "execution_count": 2,
     "metadata": {},
     "output_type": "execute_result"
    }
   ],
   "source": [
    "Puntajes_allf.columns"
   ]
  },
  {
   "cell_type": "code",
   "execution_count": 3,
   "metadata": {},
   "outputs": [],
   "source": [
    "SIL_f = Puntajes_allf[['METRICA', 'SIL HAC 8', 'SIL KM 8', 'SIL DB 8']]\n",
    "CHZ_f = Puntajes_allf[['METRICA', 'CHZ HAC 8', 'CHZ KM 8', 'CHZ DB 8']]\n",
    "DAVIES_f = Puntajes_allf[['METRICA', 'DAVIES HAC 8', 'DAVIES KM 8', 'DAVIES DB 8']]\n",
    "SIL_f = SIL_f.rename(columns={\"SIL HAC 8\": \"HAC 8\", \"SIL KM 8\": \"KM 8\", \"SIL DB 8\": \"DB 8\"})"
   ]
  },
  {
   "cell_type": "code",
   "execution_count": 4,
   "metadata": {},
   "outputs": [],
   "source": [
    "SIL_f['HAC NF'] = PuntajesNF['SIL - HAC']\n",
    "SIL_f['KM NF'] = PuntajesNF['SIL - KM']\n",
    "SIL_f['DB NF'] = PuntajesNF['SIL - DB']\n",
    "\n",
    "SIL_f = SIL_f.rename(columns={\"SIL - HAC\": \"HAC NF\", \"SIL - KM\": \"KM NF\", \"SIL - DB\": \"DB NF\"})\n",
    "SIL_f = SIL_f[['METRICA', 'HAC 8', 'HAC NF', 'KM 8', 'KM NF', 'DB 8','DB NF']]"
   ]
  },
  {
   "cell_type": "markdown",
   "metadata": {},
   "source": [
    "### SILHOUETTE SCORE"
   ]
  },
  {
   "cell_type": "code",
   "execution_count": 5,
   "metadata": {},
   "outputs": [
    {
     "data": {
      "text/html": [
       "<div>\n",
       "<style scoped>\n",
       "    .dataframe tbody tr th:only-of-type {\n",
       "        vertical-align: middle;\n",
       "    }\n",
       "\n",
       "    .dataframe tbody tr th {\n",
       "        vertical-align: top;\n",
       "    }\n",
       "\n",
       "    .dataframe thead th {\n",
       "        text-align: right;\n",
       "    }\n",
       "</style>\n",
       "<table border=\"1\" class=\"dataframe\">\n",
       "  <thead>\n",
       "    <tr style=\"text-align: right;\">\n",
       "      <th></th>\n",
       "      <th>METRICA</th>\n",
       "      <th>HAC 8</th>\n",
       "      <th>HAC NF</th>\n",
       "      <th>KM 8</th>\n",
       "      <th>KM NF</th>\n",
       "      <th>DB 8</th>\n",
       "      <th>DB NF</th>\n",
       "    </tr>\n",
       "  </thead>\n",
       "  <tbody>\n",
       "    <tr>\n",
       "      <th>0</th>\n",
       "      <td>Euclidean Distance</td>\n",
       "      <td>0.831921</td>\n",
       "      <td>0.831697</td>\n",
       "      <td>0.831921</td>\n",
       "      <td>0.831697</td>\n",
       "      <td>0.131739</td>\n",
       "      <td>0.078583</td>\n",
       "    </tr>\n",
       "    <tr>\n",
       "      <th>1</th>\n",
       "      <td>Pearson Correlation</td>\n",
       "      <td>0.652646</td>\n",
       "      <td>0.618687</td>\n",
       "      <td>0.627959</td>\n",
       "      <td>0.585444</td>\n",
       "      <td>0.377648</td>\n",
       "      <td>0.522432</td>\n",
       "    </tr>\n",
       "    <tr>\n",
       "      <th>2</th>\n",
       "      <td>Spearman Correlation</td>\n",
       "      <td>0.455196</td>\n",
       "      <td>0.397424</td>\n",
       "      <td>0.475593</td>\n",
       "      <td>0.406032</td>\n",
       "      <td>0.649751</td>\n",
       "      <td>0.340841</td>\n",
       "    </tr>\n",
       "    <tr>\n",
       "      <th>3</th>\n",
       "      <td>Dynamic Time Warping</td>\n",
       "      <td>0.827630</td>\n",
       "      <td>0.820651</td>\n",
       "      <td>0.827630</td>\n",
       "      <td>0.820651</td>\n",
       "      <td>-0.134378</td>\n",
       "      <td>-0.247976</td>\n",
       "    </tr>\n",
       "  </tbody>\n",
       "</table>\n",
       "</div>"
      ],
      "text/plain": [
       "                METRICA     HAC 8    HAC NF      KM 8     KM NF      DB 8  \\\n",
       "0    Euclidean Distance  0.831921  0.831697  0.831921  0.831697  0.131739   \n",
       "1   Pearson Correlation  0.652646  0.618687  0.627959  0.585444  0.377648   \n",
       "2  Spearman Correlation  0.455196  0.397424  0.475593  0.406032  0.649751   \n",
       "3  Dynamic Time Warping  0.827630  0.820651  0.827630  0.820651 -0.134378   \n",
       "\n",
       "      DB NF  \n",
       "0  0.078583  \n",
       "1  0.522432  \n",
       "2  0.340841  \n",
       "3 -0.247976  "
      ]
     },
     "execution_count": 5,
     "metadata": {},
     "output_type": "execute_result"
    }
   ],
   "source": [
    "SIL_f"
   ]
  },
  {
   "cell_type": "markdown",
   "metadata": {},
   "source": [
    "### CHZ SCORE"
   ]
  },
  {
   "cell_type": "code",
   "execution_count": 6,
   "metadata": {},
   "outputs": [
    {
     "data": {
      "text/html": [
       "<div>\n",
       "<style scoped>\n",
       "    .dataframe tbody tr th:only-of-type {\n",
       "        vertical-align: middle;\n",
       "    }\n",
       "\n",
       "    .dataframe tbody tr th {\n",
       "        vertical-align: top;\n",
       "    }\n",
       "\n",
       "    .dataframe thead th {\n",
       "        text-align: right;\n",
       "    }\n",
       "</style>\n",
       "<table border=\"1\" class=\"dataframe\">\n",
       "  <thead>\n",
       "    <tr style=\"text-align: right;\">\n",
       "      <th></th>\n",
       "      <th>METRICA</th>\n",
       "      <th>CHZ HAC 8</th>\n",
       "      <th>CHZ KM 8</th>\n",
       "      <th>CHZ DB 8</th>\n",
       "    </tr>\n",
       "  </thead>\n",
       "  <tbody>\n",
       "    <tr>\n",
       "      <th>0</th>\n",
       "      <td>Euclidean Distance</td>\n",
       "      <td>4832.653364</td>\n",
       "      <td>4832.653364</td>\n",
       "      <td>9.652856</td>\n",
       "    </tr>\n",
       "    <tr>\n",
       "      <th>1</th>\n",
       "      <td>Pearson Correlation</td>\n",
       "      <td>2311.981986</td>\n",
       "      <td>2508.365817</td>\n",
       "      <td>485.212506</td>\n",
       "    </tr>\n",
       "    <tr>\n",
       "      <th>2</th>\n",
       "      <td>Spearman Correlation</td>\n",
       "      <td>154.417989</td>\n",
       "      <td>159.841125</td>\n",
       "      <td>42.635388</td>\n",
       "    </tr>\n",
       "    <tr>\n",
       "      <th>3</th>\n",
       "      <td>Dynamic Time Warping</td>\n",
       "      <td>4751.661927</td>\n",
       "      <td>4751.661927</td>\n",
       "      <td>5.176965</td>\n",
       "    </tr>\n",
       "  </tbody>\n",
       "</table>\n",
       "</div>"
      ],
      "text/plain": [
       "                METRICA    CHZ HAC 8     CHZ KM 8    CHZ DB 8\n",
       "0    Euclidean Distance  4832.653364  4832.653364    9.652856\n",
       "1   Pearson Correlation  2311.981986  2508.365817  485.212506\n",
       "2  Spearman Correlation   154.417989   159.841125   42.635388\n",
       "3  Dynamic Time Warping  4751.661927  4751.661927    5.176965"
      ]
     },
     "execution_count": 6,
     "metadata": {},
     "output_type": "execute_result"
    }
   ],
   "source": [
    "CHZ_f"
   ]
  },
  {
   "cell_type": "code",
   "execution_count": 7,
   "metadata": {},
   "outputs": [
    {
     "name": "stderr",
     "output_type": "stream",
     "text": [
      "<ipython-input-7-8a0b3b184fb9>:1: SettingWithCopyWarning: \n",
      "A value is trying to be set on a copy of a slice from a DataFrame.\n",
      "Try using .loc[row_indexer,col_indexer] = value instead\n",
      "\n",
      "See the caveats in the documentation: https://pandas.pydata.org/pandas-docs/stable/user_guide/indexing.html#returning-a-view-versus-a-copy\n",
      "  CHZ_f['HAC NF'] = PuntajesNF['CHZ - HAC']\n",
      "<ipython-input-7-8a0b3b184fb9>:2: SettingWithCopyWarning: \n",
      "A value is trying to be set on a copy of a slice from a DataFrame.\n",
      "Try using .loc[row_indexer,col_indexer] = value instead\n",
      "\n",
      "See the caveats in the documentation: https://pandas.pydata.org/pandas-docs/stable/user_guide/indexing.html#returning-a-view-versus-a-copy\n",
      "  CHZ_f['KM NF'] = PuntajesNF['CHZ - KM']\n",
      "<ipython-input-7-8a0b3b184fb9>:3: SettingWithCopyWarning: \n",
      "A value is trying to be set on a copy of a slice from a DataFrame.\n",
      "Try using .loc[row_indexer,col_indexer] = value instead\n",
      "\n",
      "See the caveats in the documentation: https://pandas.pydata.org/pandas-docs/stable/user_guide/indexing.html#returning-a-view-versus-a-copy\n",
      "  CHZ_f['DB NF'] = PuntajesNF['CHZ - DB']\n"
     ]
    },
    {
     "data": {
      "text/html": [
       "<div>\n",
       "<style scoped>\n",
       "    .dataframe tbody tr th:only-of-type {\n",
       "        vertical-align: middle;\n",
       "    }\n",
       "\n",
       "    .dataframe tbody tr th {\n",
       "        vertical-align: top;\n",
       "    }\n",
       "\n",
       "    .dataframe thead th {\n",
       "        text-align: right;\n",
       "    }\n",
       "</style>\n",
       "<table border=\"1\" class=\"dataframe\">\n",
       "  <thead>\n",
       "    <tr style=\"text-align: right;\">\n",
       "      <th></th>\n",
       "      <th>METRICA</th>\n",
       "      <th>HAC 8</th>\n",
       "      <th>HAC NF</th>\n",
       "      <th>KM 8</th>\n",
       "      <th>KM NF</th>\n",
       "      <th>DB 8</th>\n",
       "      <th>DB NF</th>\n",
       "    </tr>\n",
       "  </thead>\n",
       "  <tbody>\n",
       "    <tr>\n",
       "      <th>0</th>\n",
       "      <td>Euclidean Distance</td>\n",
       "      <td>4832.653364</td>\n",
       "      <td>4839.708634</td>\n",
       "      <td>4832.653364</td>\n",
       "      <td>4839.708634</td>\n",
       "      <td>9.652856</td>\n",
       "      <td>7.758089</td>\n",
       "    </tr>\n",
       "    <tr>\n",
       "      <th>1</th>\n",
       "      <td>Pearson Correlation</td>\n",
       "      <td>2311.981986</td>\n",
       "      <td>1643.981646</td>\n",
       "      <td>2508.365817</td>\n",
       "      <td>1750.762344</td>\n",
       "      <td>485.212506</td>\n",
       "      <td>514.401127</td>\n",
       "    </tr>\n",
       "    <tr>\n",
       "      <th>2</th>\n",
       "      <td>Spearman Correlation</td>\n",
       "      <td>154.417989</td>\n",
       "      <td>162.371878</td>\n",
       "      <td>159.841125</td>\n",
       "      <td>168.854225</td>\n",
       "      <td>42.635388</td>\n",
       "      <td>72.505538</td>\n",
       "    </tr>\n",
       "    <tr>\n",
       "      <th>3</th>\n",
       "      <td>Dynamic Time Warping</td>\n",
       "      <td>4751.661927</td>\n",
       "      <td>4670.389801</td>\n",
       "      <td>4751.661927</td>\n",
       "      <td>4670.389801</td>\n",
       "      <td>5.176965</td>\n",
       "      <td>2.737649</td>\n",
       "    </tr>\n",
       "  </tbody>\n",
       "</table>\n",
       "</div>"
      ],
      "text/plain": [
       "                METRICA        HAC 8       HAC NF         KM 8        KM NF  \\\n",
       "0    Euclidean Distance  4832.653364  4839.708634  4832.653364  4839.708634   \n",
       "1   Pearson Correlation  2311.981986  1643.981646  2508.365817  1750.762344   \n",
       "2  Spearman Correlation   154.417989   162.371878   159.841125   168.854225   \n",
       "3  Dynamic Time Warping  4751.661927  4670.389801  4751.661927  4670.389801   \n",
       "\n",
       "         DB 8       DB NF  \n",
       "0    9.652856    7.758089  \n",
       "1  485.212506  514.401127  \n",
       "2   42.635388   72.505538  \n",
       "3    5.176965    2.737649  "
      ]
     },
     "execution_count": 7,
     "metadata": {},
     "output_type": "execute_result"
    }
   ],
   "source": [
    "CHZ_f['HAC NF'] = PuntajesNF['CHZ - HAC']\n",
    "CHZ_f['KM NF'] = PuntajesNF['CHZ - KM']\n",
    "CHZ_f['DB NF'] = PuntajesNF['CHZ - DB']\n",
    "\n",
    "CHZ_f = CHZ_f.rename(columns={\"CHZ HAC 8\": \"HAC 8\", \"CHZ KM 8\": \"KM 8\", \"CHZ DB 8\": \"DB 8\"})\n",
    "CHZ_f = CHZ_f[['METRICA', 'HAC 8', 'HAC NF', 'KM 8', 'KM NF', 'DB 8','DB NF']]\n",
    "\n",
    "CHZ_f"
   ]
  },
  {
   "cell_type": "code",
   "execution_count": 8,
   "metadata": {},
   "outputs": [
    {
     "name": "stderr",
     "output_type": "stream",
     "text": [
      "<ipython-input-8-3c2b84dfcf62>:1: SettingWithCopyWarning: \n",
      "A value is trying to be set on a copy of a slice from a DataFrame.\n",
      "Try using .loc[row_indexer,col_indexer] = value instead\n",
      "\n",
      "See the caveats in the documentation: https://pandas.pydata.org/pandas-docs/stable/user_guide/indexing.html#returning-a-view-versus-a-copy\n",
      "  DAVIES_f['HAC NF'] = PuntajesNF['DAVID - HAC']\n",
      "<ipython-input-8-3c2b84dfcf62>:2: SettingWithCopyWarning: \n",
      "A value is trying to be set on a copy of a slice from a DataFrame.\n",
      "Try using .loc[row_indexer,col_indexer] = value instead\n",
      "\n",
      "See the caveats in the documentation: https://pandas.pydata.org/pandas-docs/stable/user_guide/indexing.html#returning-a-view-versus-a-copy\n",
      "  DAVIES_f['KM NF'] = PuntajesNF['DAVID - KM']\n",
      "<ipython-input-8-3c2b84dfcf62>:3: SettingWithCopyWarning: \n",
      "A value is trying to be set on a copy of a slice from a DataFrame.\n",
      "Try using .loc[row_indexer,col_indexer] = value instead\n",
      "\n",
      "See the caveats in the documentation: https://pandas.pydata.org/pandas-docs/stable/user_guide/indexing.html#returning-a-view-versus-a-copy\n",
      "  DAVIES_f['DB NF'] = PuntajesNF['DAVID - DB']\n"
     ]
    },
    {
     "data": {
      "text/html": [
       "<div>\n",
       "<style scoped>\n",
       "    .dataframe tbody tr th:only-of-type {\n",
       "        vertical-align: middle;\n",
       "    }\n",
       "\n",
       "    .dataframe tbody tr th {\n",
       "        vertical-align: top;\n",
       "    }\n",
       "\n",
       "    .dataframe thead th {\n",
       "        text-align: right;\n",
       "    }\n",
       "</style>\n",
       "<table border=\"1\" class=\"dataframe\">\n",
       "  <thead>\n",
       "    <tr style=\"text-align: right;\">\n",
       "      <th></th>\n",
       "      <th>METRICA</th>\n",
       "      <th>HAC 8</th>\n",
       "      <th>HAC NF</th>\n",
       "      <th>KM 8</th>\n",
       "      <th>KM NF</th>\n",
       "      <th>DB 8</th>\n",
       "      <th>DB NF</th>\n",
       "    </tr>\n",
       "  </thead>\n",
       "  <tbody>\n",
       "    <tr>\n",
       "      <th>0</th>\n",
       "      <td>Euclidean Distance</td>\n",
       "      <td>0.358104</td>\n",
       "      <td>0.357976</td>\n",
       "      <td>0.358104</td>\n",
       "      <td>0.357976</td>\n",
       "      <td>1.338156</td>\n",
       "      <td>1.382688</td>\n",
       "    </tr>\n",
       "    <tr>\n",
       "      <th>1</th>\n",
       "      <td>Pearson Correlation</td>\n",
       "      <td>0.460762</td>\n",
       "      <td>0.527234</td>\n",
       "      <td>0.459728</td>\n",
       "      <td>0.528863</td>\n",
       "      <td>0.484933</td>\n",
       "      <td>1.138387</td>\n",
       "    </tr>\n",
       "    <tr>\n",
       "      <th>2</th>\n",
       "      <td>Spearman Correlation</td>\n",
       "      <td>0.851821</td>\n",
       "      <td>0.855131</td>\n",
       "      <td>0.785305</td>\n",
       "      <td>0.852460</td>\n",
       "      <td>1.015433</td>\n",
       "      <td>0.929641</td>\n",
       "    </tr>\n",
       "    <tr>\n",
       "      <th>3</th>\n",
       "      <td>Dynamic Time Warping</td>\n",
       "      <td>0.356231</td>\n",
       "      <td>0.348938</td>\n",
       "      <td>0.356231</td>\n",
       "      <td>0.348938</td>\n",
       "      <td>1.452476</td>\n",
       "      <td>1.479328</td>\n",
       "    </tr>\n",
       "  </tbody>\n",
       "</table>\n",
       "</div>"
      ],
      "text/plain": [
       "                METRICA     HAC 8    HAC NF      KM 8     KM NF      DB 8  \\\n",
       "0    Euclidean Distance  0.358104  0.357976  0.358104  0.357976  1.338156   \n",
       "1   Pearson Correlation  0.460762  0.527234  0.459728  0.528863  0.484933   \n",
       "2  Spearman Correlation  0.851821  0.855131  0.785305  0.852460  1.015433   \n",
       "3  Dynamic Time Warping  0.356231  0.348938  0.356231  0.348938  1.452476   \n",
       "\n",
       "      DB NF  \n",
       "0  1.382688  \n",
       "1  1.138387  \n",
       "2  0.929641  \n",
       "3  1.479328  "
      ]
     },
     "execution_count": 8,
     "metadata": {},
     "output_type": "execute_result"
    }
   ],
   "source": [
    "DAVIES_f['HAC NF'] = PuntajesNF['DAVID - HAC']\n",
    "DAVIES_f['KM NF'] = PuntajesNF['DAVID - KM']\n",
    "DAVIES_f['DB NF'] = PuntajesNF['DAVID - DB']\n",
    "\n",
    "DAVIES_f = DAVIES_f.rename(columns={\"DAVIES HAC 8\": \"HAC 8\", \"DAVIES KM 8\": \"KM 8\", \"DAVIES DB 8\": \"DB 8\"})\n",
    "DAVIES_f = DAVIES_f[['METRICA', 'HAC 8', 'HAC NF', 'KM 8', 'KM NF', 'DB 8','DB NF']]\n",
    "\n",
    "DAVIES_f"
   ]
  },
  {
   "cell_type": "code",
   "execution_count": null,
   "metadata": {},
   "outputs": [],
   "source": []
  }
 ],
 "metadata": {
  "kernelspec": {
   "display_name": "Python 3",
   "language": "python",
   "name": "python3"
  },
  "language_info": {
   "codemirror_mode": {
    "name": "ipython",
    "version": 3
   },
   "file_extension": ".py",
   "mimetype": "text/x-python",
   "name": "python",
   "nbconvert_exporter": "python",
   "pygments_lexer": "ipython3",
   "version": "3.8.5"
  },
  "widgets": {
   "application/vnd.jupyter.widget-state+json": {
    "state": {},
    "version_major": 2,
    "version_minor": 0
   }
  }
 },
 "nbformat": 4,
 "nbformat_minor": 4
}
