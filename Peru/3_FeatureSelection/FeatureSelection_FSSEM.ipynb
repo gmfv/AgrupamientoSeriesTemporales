{
 "cells": [
  {
   "cell_type": "code",
   "execution_count": 3,
   "metadata": {},
   "outputs": [
    {
     "name": "stdout",
     "output_type": "stream",
     "text": [
      "I es  3\n",
      "[0 1 2 3 4 5 6 7]\n",
      "I es  4\n",
      "[0 1 2 3 4 5 6 7]\n",
      "I es  5\n",
      "[0 1 2 3 4 5 6 7]\n",
      "I es  6\n",
      "[0 1 2 3 4 5 6 7]\n",
      "I es  7\n",
      "[0 1 2 3 4 5 6 7]\n",
      "I es  8\n",
      "[0 1 2 3 4 5 6 7]\n",
      "I es  9\n",
      "[0 1 2 3 4 5 6 7]\n",
      "I es  10\n",
      "[0 1 2 3 4 5 6 7]\n",
      "I es  11\n",
      "[0 1 2 3 4 5 6 7]\n",
      "I es  12\n",
      "[0 1 2 3 4 5 6 7]\n",
      "I es  13\n",
      "[0 1 2 3 4 5 6 7]\n",
      "I es  14\n",
      "[0 1 2 3 4 5 6 7]\n",
      "I es  15\n",
      "[0 1 2 3 4 5 6 7]\n",
      "I es  16\n",
      "[0 1 2 3 4 5 6 7]\n",
      "I es  17\n",
      "[0 1 2 3 4 5 6 7]\n",
      "I es  18\n",
      "[0 1 2 3 4 5 6 7]\n"
     ]
    }
   ],
   "source": [
    "import pandas as pd\n",
    "import numpy as np\n",
    "from fsfc.generic import NormalizedCut\n",
    "from sklearn.pipeline import Pipeline\n",
    "from sklearn.cluster import KMeans, DBSCAN, AgglomerativeClustering\n",
    "import os\n",
    "my_path = os.path.abspath('')\n",
    "my_path = my_path.split('\\\\')\n",
    "my_path_py = \"\\\\\".join(my_path[:-1])\n",
    "\n",
    "features = pd.read_csv(my_path_py+'\\\\2_FeatureBased\\\\FB2_2009al2013.csv', sep=',')\n",
    "features = features.iloc[:, 1:]\n",
    "listadistrito = features.Distrito.values\n",
    "features = features.drop('Distrito', axis=1)\n",
    "\n",
    "data = np.array(features)\n",
    "\n",
    "for i in list(range(3,19)):\n",
    "    pipeline = Pipeline([\n",
    "        ('select', NormalizedCut(i)),\n",
    "        ('cluster', KMeans())\n",
    "    ])\n",
    "    print(\"I es \", i)\n",
    "    print(np.unique(pipeline.fit_predict(data)))\n",
    "\n"
   ]
  },
  {
   "cell_type": "code",
   "execution_count": 4,
   "metadata": {},
   "outputs": [
    {
     "name": "stdout",
     "output_type": "stream",
     "text": [
      "I =  3\n",
      "[0 1]\n",
      "I =  4\n",
      "[0 1]\n",
      "I =  5\n",
      "[0 1]\n",
      "I =  6\n",
      "[0 1]\n",
      "I =  7\n",
      "[0 1]\n",
      "I =  8\n",
      "[0 1]\n",
      "I =  9\n",
      "[0 1]\n",
      "I =  10\n",
      "[0 1]\n",
      "I =  11\n",
      "[0 1]\n",
      "I =  12\n",
      "[0 1]\n",
      "I =  13\n",
      "[0 1]\n",
      "I =  14\n",
      "[0 1]\n"
     ]
    }
   ],
   "source": [
    "for i in list(range(3,15)):\n",
    "    pipeline = Pipeline([\n",
    "        ('select', NormalizedCut(i)),\n",
    "        ('cluster', AgglomerativeClustering())\n",
    "    ])\n",
    "    print(\"I = \", i)\n",
    "    print(np.unique(pipeline.fit_predict(data)))\n",
    "\n"
   ]
  },
  {
   "cell_type": "code",
   "execution_count": 5,
   "metadata": {},
   "outputs": [
    {
     "name": "stdout",
     "output_type": "stream",
     "text": [
      "I =  3\n",
      "[0]\n",
      "I =  4\n",
      "[-1  0]\n",
      "I =  5\n",
      "[-1  0]\n",
      "I =  6\n",
      "[-1  0]\n",
      "I =  7\n",
      "[-1  0]\n",
      "I =  8\n",
      "[-1  0]\n",
      "I =  9\n",
      "[-1  0]\n",
      "I =  10\n",
      "[-1  0  1  2  3  4  5  6  7  8  9 10]\n",
      "I =  11\n",
      "[-1  0  1  2  3  4  5  6  7  8  9 10]\n",
      "I =  12\n",
      "[-1  0  1  2  3  4  5  6  7  8  9 10]\n",
      "I =  13\n",
      "[-1  0  1  2]\n",
      "I =  14\n",
      "[-1  0  1  2]\n",
      "I =  15\n",
      "[-1  0  1  2]\n",
      "I =  16\n",
      "[-1  0  1  2]\n",
      "I =  17\n",
      "[-1]\n",
      "I =  18\n",
      "[-1]\n"
     ]
    }
   ],
   "source": [
    "for i in list(range(3,19)):\n",
    "    pipeline = Pipeline([('select', NormalizedCut(i)),\n",
    "    ('cluster', DBSCAN())])\n",
    "    print(\"I = \", i)\n",
    "    print(np.unique(pipeline.fit_predict(data)))\n"
   ]
  },
  {
   "cell_type": "code",
   "execution_count": null,
   "metadata": {},
   "outputs": [],
   "source": [
    "from fsfc.base import BaseFeatureSelector, ClusteringFeatureSelector\n",
    "b = BaseFeatureSelector\n",
    "b.fit(features)"
   ]
  },
  {
   "cell_type": "code",
   "execution_count": null,
   "metadata": {},
   "outputs": [],
   "source": [
    "transform(X)"
   ]
  }
 ],
 "metadata": {
  "kernelspec": {
   "display_name": "Python 3",
   "language": "python",
   "name": "python3"
  },
  "language_info": {
   "codemirror_mode": {
    "name": "ipython",
    "version": 3
   },
   "file_extension": ".py",
   "mimetype": "text/x-python",
   "name": "python",
   "nbconvert_exporter": "python",
   "pygments_lexer": "ipython3",
   "version": "3.8.5"
  },
  "widgets": {
   "application/vnd.jupyter.widget-state+json": {
    "state": {},
    "version_major": 2,
    "version_minor": 0
   }
  }
 },
 "nbformat": 4,
 "nbformat_minor": 4
}
