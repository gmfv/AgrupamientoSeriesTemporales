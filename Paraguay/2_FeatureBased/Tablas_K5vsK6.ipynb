{
 "cells": [
  {
   "cell_type": "markdown",
   "metadata": {},
   "source": [
    "# Tablas FeatureBased k=6 y k=5"
   ]
  },
  {
   "cell_type": "markdown",
   "metadata": {},
   "source": [
    "### Inputs files: \n",
    "\n",
    "#### Scores1_FeatureBased.csv\n",
    "#### Scores1_FeatureBasedK6.csv\n",
    "\n",
    "##### -------------------------------------------------------------------------"
   ]
  },
  {
   "cell_type": "code",
   "execution_count": 1,
   "metadata": {},
   "outputs": [],
   "source": [
    "import glob\n",
    "import os\n",
    "import matplotlib.pyplot as plt\n",
    "import numpy as np\n",
    "import pandas as pd\n",
    "import seaborn as sns\n",
    "import tsfeature as tsf\n",
    "import entropy as ent\n",
    "\n",
    "my_path = os.path.abspath('')\n",
    "my_path = my_path.split('\\\\')\n",
    "my_path_py = \"\\\\\".join(my_path[:-1])"
   ]
  },
  {
   "cell_type": "code",
   "execution_count": 2,
   "metadata": {},
   "outputs": [
    {
     "data": {
      "text/plain": [
       "Index(['METRICA', 'SIL - HAC', 'SIL - KM', 'SIL - DB', 'CHZ - HAC', 'CHZ - KM',\n",
       "       'CHZ - DB', 'DUNN - HAC', 'DUNN - KM', 'DUNN - DB', 'DAVID - HAC',\n",
       "       'DAVID - KM', 'DAVID - DB'],\n",
       "      dtype='object')"
      ]
     },
     "execution_count": 2,
     "metadata": {},
     "output_type": "execute_result"
    }
   ],
   "source": [
    "F5 = pd.read_csv('Scores1_FeatureBased_K5.csv', sep=',')\n",
    "F6 = pd.read_csv('Scores1_FeatureBasedK6.csv', sep=',')\n",
    "F5.columns"
   ]
  },
  {
   "cell_type": "code",
   "execution_count": 3,
   "metadata": {},
   "outputs": [
    {
     "data": {
      "text/html": [
       "<div>\n",
       "<style scoped>\n",
       "    .dataframe tbody tr th:only-of-type {\n",
       "        vertical-align: middle;\n",
       "    }\n",
       "\n",
       "    .dataframe tbody tr th {\n",
       "        vertical-align: top;\n",
       "    }\n",
       "\n",
       "    .dataframe thead th {\n",
       "        text-align: right;\n",
       "    }\n",
       "</style>\n",
       "<table border=\"1\" class=\"dataframe\">\n",
       "  <thead>\n",
       "    <tr style=\"text-align: right;\">\n",
       "      <th></th>\n",
       "      <th>Metrica</th>\n",
       "      <th>HAC K6</th>\n",
       "      <th>HAC K5</th>\n",
       "      <th>KM K6</th>\n",
       "      <th>KM K5</th>\n",
       "      <th>DBSCAN K6</th>\n",
       "      <th>DBSCAN K5</th>\n",
       "    </tr>\n",
       "  </thead>\n",
       "  <tbody>\n",
       "    <tr>\n",
       "      <th>0</th>\n",
       "      <td>Euclidean Distance</td>\n",
       "      <td>0.836977</td>\n",
       "      <td>0.836812</td>\n",
       "      <td>0.863019</td>\n",
       "      <td>0.861429</td>\n",
       "      <td>0.381371</td>\n",
       "      <td>0.446337</td>\n",
       "    </tr>\n",
       "    <tr>\n",
       "      <th>1</th>\n",
       "      <td>Pearson Correlation</td>\n",
       "      <td>0.614693</td>\n",
       "      <td>0.632163</td>\n",
       "      <td>0.646519</td>\n",
       "      <td>0.665757</td>\n",
       "      <td>0.320268</td>\n",
       "      <td>-0.126499</td>\n",
       "    </tr>\n",
       "    <tr>\n",
       "      <th>2</th>\n",
       "      <td>Spearman Correlation</td>\n",
       "      <td>0.571987</td>\n",
       "      <td>0.613085</td>\n",
       "      <td>0.601930</td>\n",
       "      <td>0.593719</td>\n",
       "      <td>0.592432</td>\n",
       "      <td>0.635183</td>\n",
       "    </tr>\n",
       "    <tr>\n",
       "      <th>3</th>\n",
       "      <td>Dynamic Time Warping</td>\n",
       "      <td>0.827022</td>\n",
       "      <td>0.834460</td>\n",
       "      <td>0.861052</td>\n",
       "      <td>0.856574</td>\n",
       "      <td>0.517592</td>\n",
       "      <td>0.376788</td>\n",
       "    </tr>\n",
       "  </tbody>\n",
       "</table>\n",
       "</div>"
      ],
      "text/plain": [
       "                Metrica    HAC K6    HAC K5     KM K6     KM K5  DBSCAN K6  \\\n",
       "0    Euclidean Distance  0.836977  0.836812  0.863019  0.861429   0.381371   \n",
       "1   Pearson Correlation  0.614693  0.632163  0.646519  0.665757   0.320268   \n",
       "2  Spearman Correlation  0.571987  0.613085  0.601930  0.593719   0.592432   \n",
       "3  Dynamic Time Warping  0.827022  0.834460  0.861052  0.856574   0.517592   \n",
       "\n",
       "   DBSCAN K5  \n",
       "0   0.446337  \n",
       "1  -0.126499  \n",
       "2   0.635183  \n",
       "3   0.376788  "
      ]
     },
     "execution_count": 3,
     "metadata": {},
     "output_type": "execute_result"
    }
   ],
   "source": [
    "compara = pd.DataFrame()\n",
    "compara['Metrica'] = F5['METRICA']\n",
    "compara['HAC K6'] = F6['SIL - HAC'] \n",
    "compara['HAC K5'] = F5['SIL - HAC']\n",
    "compara['KM K6'] = F6['SIL - KM'] \n",
    "compara['KM K5'] = F5['SIL - KM']\n",
    "compara['DBSCAN K6'] = F6['SIL - DB'] \n",
    "compara['DBSCAN K5'] = F5['SIL - DB']\n",
    "\n",
    "compara"
   ]
  },
  {
   "cell_type": "code",
   "execution_count": null,
   "metadata": {},
   "outputs": [],
   "source": []
  },
  {
   "cell_type": "code",
   "execution_count": null,
   "metadata": {},
   "outputs": [],
   "source": []
  },
  {
   "cell_type": "code",
   "execution_count": null,
   "metadata": {},
   "outputs": [],
   "source": []
  }
 ],
 "metadata": {
  "kernelspec": {
   "display_name": "Python 3",
   "language": "python",
   "name": "python3"
  },
  "language_info": {
   "codemirror_mode": {
    "name": "ipython",
    "version": 3
   },
   "file_extension": ".py",
   "mimetype": "text/x-python",
   "name": "python",
   "nbconvert_exporter": "python",
   "pygments_lexer": "ipython3",
   "version": "3.8.5"
  }
 },
 "nbformat": 4,
 "nbformat_minor": 4
}
