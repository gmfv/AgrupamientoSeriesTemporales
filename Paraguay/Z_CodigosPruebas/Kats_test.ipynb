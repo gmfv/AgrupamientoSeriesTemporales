{
 "cells": [
  {
   "cell_type": "code",
   "execution_count": null,
   "metadata": {},
   "outputs": [],
   "source": [
    "#KERNEL KATS"
   ]
  },
  {
   "cell_type": "code",
   "execution_count": 3,
   "metadata": {},
   "outputs": [
    {
     "name": "stdout",
     "output_type": "stream",
     "text": [
      "Collecting kats\n",
      "  Using cached kats-0.2.0-py3-none-any.whl (612 kB)\n",
      "Collecting pytest-mpl>=0.12\n",
      "  Using cached pytest_mpl-0.16.1-py3-none-any.whl (28 kB)\n",
      "Collecting statsmodels==0.12.2\n",
      "  Using cached statsmodels-0.12.2-cp37-none-win_amd64.whl (9.3 MB)\n",
      "Requirement already satisfied: setuptools-git>=1.2 in c:\\programdata\\anaconda3\\envs\\kats\\lib\\site-packages (from kats) (1.2)\n",
      "Collecting plotly>=2.2.1\n",
      "  Using cached plotly-5.10.0-py2.py3-none-any.whl (15.2 MB)\n",
      "Collecting gpytorch\n",
      "  Using cached gpytorch-1.8.1-py2.py3-none-any.whl (361 kB)\n",
      "Collecting numba>=0.52.0\n",
      "  Using cached numba-0.56.2-cp37-cp37m-win_amd64.whl (2.5 MB)\n",
      "Requirement already satisfied: importlib-metadata in c:\\programdata\\anaconda3\\envs\\kats\\lib\\site-packages (from kats) (4.11.4)\n",
      "Collecting attrs>=21.2.0\n",
      "  Using cached attrs-22.1.0-py2.py3-none-any.whl (58 kB)\n",
      "Requirement already satisfied: parameterized>=0.8.1 in c:\\programdata\\anaconda3\\envs\\kats\\lib\\site-packages (from kats) (0.8.1)\n",
      "Requirement already satisfied: scipy<1.8.0 in c:\\programdata\\anaconda3\\envs\\kats\\lib\\site-packages (from kats) (1.7.3)\n",
      "Collecting deprecated>=1.2.12\n",
      "  Using cached Deprecated-1.2.13-py2.py3-none-any.whl (9.6 kB)\n",
      "Requirement already satisfied: holidays>=0.10.2 in c:\\programdata\\anaconda3\\envs\\kats\\lib\\site-packages (from kats) (0.16)\n",
      "Requirement already satisfied: matplotlib>=2.0.0 in c:\\programdata\\anaconda3\\envs\\kats\\lib\\site-packages (from kats) (3.5.3)\n",
      "Requirement already satisfied: pandas<=1.3.5,>=1.0.4 in c:\\programdata\\anaconda3\\envs\\kats\\lib\\site-packages (from kats) (1.3.5)\n",
      "Collecting scikit-learn>=0.24.2\n",
      "  Using cached scikit_learn-1.0.2-cp37-cp37m-win_amd64.whl (7.1 MB)\n",
      "Collecting pymannkendall>=1.4.1\n",
      "  Using cached pymannkendall-1.4.2-py3-none-any.whl (12 kB)\n",
      "Requirement already satisfied: typing-extensions in c:\\programdata\\anaconda3\\envs\\kats\\lib\\site-packages (from kats) (4.4.0)\n",
      "Requirement already satisfied: LunarCalendar>=0.0.9 in c:\\programdata\\anaconda3\\envs\\kats\\lib\\site-packages (from kats) (0.0.9)\n",
      "Requirement already satisfied: fbprophet==0.7.1 in c:\\programdata\\anaconda3\\envs\\kats\\lib\\site-packages (from kats) (0.7.1)\n",
      "Collecting torch\n",
      "  Using cached torch-1.12.1-cp37-cp37m-win_amd64.whl (161.9 MB)\n",
      "Requirement already satisfied: pystan==2.19.1.1 in c:\\programdata\\anaconda3\\envs\\kats\\lib\\site-packages (from kats) (2.19.1.1)\n",
      "Requirement already satisfied: python-dateutil>=2.8.0 in c:\\programdata\\anaconda3\\envs\\kats\\lib\\site-packages (from kats) (2.8.2)\n",
      "Collecting ax-platform==0.2.4\n",
      "  Using cached ax_platform-0.2.4-py3-none-any.whl (950 kB)\n",
      "Collecting seaborn>=0.11.1\n",
      "  Using cached seaborn-0.12.0-py3-none-any.whl (285 kB)\n",
      "Requirement already satisfied: tqdm>=4.36.1 in c:\\programdata\\anaconda3\\envs\\kats\\lib\\site-packages (from kats) (4.64.1)\n",
      "Requirement already satisfied: numpy<1.22,>=1.21 in c:\\programdata\\anaconda3\\envs\\kats\\lib\\site-packages (from kats) (1.21.6)\n",
      "Requirement already satisfied: typeguard in c:\\programdata\\anaconda3\\envs\\kats\\lib\\site-packages (from ax-platform==0.2.4->kats) (2.13.3)\n",
      "Collecting jinja2\n",
      "  Using cached Jinja2-3.1.2-py3-none-any.whl (133 kB)\n",
      "Collecting botorch==0.6.2\n",
      "  Using cached botorch-0.6.2-py3-none-any.whl (347 kB)\n",
      "Requirement already satisfied: Cython>=0.22 in c:\\programdata\\anaconda3\\envs\\kats\\lib\\site-packages (from fbprophet==0.7.1->kats) (0.29.32)\n",
      "Collecting cmdstanpy==0.9.5\n",
      "  Using cached cmdstanpy-0.9.5-py3-none-any.whl (37 kB)\n",
      "Requirement already satisfied: convertdate>=2.1.2 in c:\\programdata\\anaconda3\\envs\\kats\\lib\\site-packages (from fbprophet==0.7.1->kats) (2.4.0)\n",
      "Collecting patsy>=0.5\n",
      "  Using cached patsy-0.5.3-py2.py3-none-any.whl (233 kB)\n",
      "Collecting multipledispatch\n",
      "  Using cached multipledispatch-0.6.0-py3-none-any.whl (11 kB)\n",
      "Requirement already satisfied: wrapt<2,>=1.10 in c:\\programdata\\anaconda3\\envs\\kats\\lib\\site-packages (from deprecated>=1.2.12->kats) (1.14.1)\n",
      "Requirement already satisfied: hijri-converter in c:\\programdata\\anaconda3\\envs\\kats\\lib\\site-packages (from holidays>=0.10.2->kats) (2.2.4)\n",
      "Requirement already satisfied: korean-lunar-calendar in c:\\programdata\\anaconda3\\envs\\kats\\lib\\site-packages (from holidays>=0.10.2->kats) (0.3.1)\n",
      "Requirement already satisfied: pytz in c:\\programdata\\anaconda3\\envs\\kats\\lib\\site-packages (from LunarCalendar>=0.0.9->kats) (2022.4)\n",
      "Requirement already satisfied: ephem>=3.7.5.3 in c:\\programdata\\anaconda3\\envs\\kats\\lib\\site-packages (from LunarCalendar>=0.0.9->kats) (4.1.3)\n",
      "Requirement already satisfied: packaging>=20.0 in c:\\programdata\\anaconda3\\envs\\kats\\lib\\site-packages (from matplotlib>=2.0.0->kats) (21.3)\n",
      "Requirement already satisfied: fonttools>=4.22.0 in c:\\programdata\\anaconda3\\envs\\kats\\lib\\site-packages (from matplotlib>=2.0.0->kats) (4.37.4)\n",
      "Requirement already satisfied: pyparsing>=2.2.1 in c:\\programdata\\anaconda3\\envs\\kats\\lib\\site-packages (from matplotlib>=2.0.0->kats) (3.0.9)\n",
      "Requirement already satisfied: kiwisolver>=1.0.1 in c:\\programdata\\anaconda3\\envs\\kats\\lib\\site-packages (from matplotlib>=2.0.0->kats) (1.4.4)\n",
      "Requirement already satisfied: pillow>=6.2.0 in c:\\programdata\\anaconda3\\envs\\kats\\lib\\site-packages (from matplotlib>=2.0.0->kats) (9.2.0)\n",
      "Requirement already satisfied: cycler>=0.10 in c:\\programdata\\anaconda3\\envs\\kats\\lib\\site-packages (from matplotlib>=2.0.0->kats) (0.11.0)\n",
      "Requirement already satisfied: setuptools<60 in c:\\programdata\\anaconda3\\envs\\kats\\lib\\site-packages (from numba>=0.52.0->kats) (59.8.0)\n",
      "Collecting llvmlite<0.40,>=0.39.0dev0\n",
      "  Using cached llvmlite-0.39.1-cp37-cp37m-win_amd64.whl (23.2 MB)\n",
      "Requirement already satisfied: tenacity>=6.2.0 in c:\\programdata\\anaconda3\\envs\\kats\\lib\\site-packages (from plotly>=2.2.1->kats) (8.1.0)\n",
      "Collecting importlib-resources\n",
      "  Using cached importlib_resources-5.10.0-py3-none-any.whl (34 kB)\n",
      "Collecting pytest\n",
      "  Using cached pytest-7.1.3-py3-none-any.whl (298 kB)\n",
      "Requirement already satisfied: six>=1.5 in c:\\programdata\\anaconda3\\envs\\kats\\lib\\site-packages (from python-dateutil>=2.8.0->kats) (1.16.0)\n",
      "Requirement already satisfied: threadpoolctl>=2.0.0 in c:\\programdata\\anaconda3\\envs\\kats\\lib\\site-packages (from scikit-learn>=0.24.2->kats) (3.1.0)\n",
      "Collecting joblib>=0.11\n",
      "  Using cached joblib-1.2.0-py3-none-any.whl (297 kB)\n",
      "Requirement already satisfied: colorama in c:\\programdata\\anaconda3\\envs\\kats\\lib\\site-packages (from tqdm>=4.36.1->kats) (0.4.5)\n",
      "Requirement already satisfied: zipp>=0.5 in c:\\programdata\\anaconda3\\envs\\kats\\lib\\site-packages (from importlib-metadata->kats) (3.9.0)\n",
      "Requirement already satisfied: pymeeus<=1,>=0.3.13 in c:\\programdata\\anaconda3\\envs\\kats\\lib\\site-packages (from convertdate>=2.1.2->fbprophet==0.7.1->kats) (0.5.11)\n",
      "Collecting MarkupSafe>=2.0\n",
      "  Using cached MarkupSafe-2.1.1-cp37-cp37m-win_amd64.whl (17 kB)\n",
      "Requirement already satisfied: iniconfig in c:\\programdata\\anaconda3\\envs\\kats\\lib\\site-packages (from pytest->pytest-mpl>=0.12->kats) (1.1.1)\n",
      "Collecting py>=1.8.2\n",
      "  Using cached py-1.11.0-py2.py3-none-any.whl (98 kB)\n",
      "Requirement already satisfied: tomli>=1.0.0 in c:\\programdata\\anaconda3\\envs\\kats\\lib\\site-packages (from pytest->pytest-mpl>=0.12->kats) (2.0.1)\n",
      "Collecting pluggy<2.0,>=0.12\n",
      "  Using cached pluggy-1.0.0-py2.py3-none-any.whl (13 kB)\n",
      "Installing collected packages: torch, py, plotly, patsy, multipledispatch, MarkupSafe, llvmlite, joblib, importlib-resources, deprecated, attrs, scikit-learn, pymannkendall, pluggy, numba, jinja2, statsmodels, seaborn, pytest, gpytorch, cmdstanpy, pytest-mpl, botorch, ax-platform, kats\n",
      "Successfully installed MarkupSafe-2.1.1 attrs-22.1.0 ax-platform-0.2.4 botorch-0.6.2 cmdstanpy-0.9.5 deprecated-1.2.13 gpytorch-1.8.1 importlib-resources-5.10.0 jinja2-3.1.2 joblib-1.2.0 kats-0.2.0 llvmlite-0.39.1 multipledispatch-0.6.0 numba-0.56.2 patsy-0.5.3 plotly-5.10.0 pluggy-1.0.0 py-1.11.0 pymannkendall-1.4.2 pytest-7.1.3 pytest-mpl-0.16.1 scikit-learn-1.0.2 seaborn-0.12.0 statsmodels-0.12.2 torch-1.12.1\n"
     ]
    }
   ],
   "source": [
    "%%capture\n",
    "!pip install kats"
   ]
  },
  {
   "cell_type": "code",
   "execution_count": 4,
   "metadata": {},
   "outputs": [
    {
     "name": "stderr",
     "output_type": "stream",
     "text": [
      "C:\\ProgramData\\Anaconda3\\envs\\kats\\lib\\site-packages\\tqdm\\auto.py:22: TqdmWarning: IProgress not found. Please update jupyter and ipywidgets. See https://ipywidgets.readthedocs.io/en/stable/user_install.html\n",
      "  from .autonotebook import tqdm as notebook_tqdm\n"
     ]
    }
   ],
   "source": [
    "import sys\n",
    "sys.path.append(\"../\")\n",
    "\n",
    "import numpy as np\n",
    "import pandas as pd\n",
    "import pprint\n",
    "import matplotlib.pyplot as plt\n",
    "from sklearn.decomposition import PCA\n",
    "from kats.consts import TimeSeriesData\n",
    "from statsmodels.tsa.seasonal import STL\n",
    "from kats.utils.simulator import Simulator\n",
    "from sklearn.preprocessing import StandardScaler\n",
    "from kats.tsfeatures.tsfeatures import TsFeatures\n",
    "\n",
    "import warnings\n",
    "warnings.simplefilter(action='ignore')"
   ]
  },
  {
   "cell_type": "code",
   "execution_count": 6,
   "metadata": {},
   "outputs": [],
   "source": [
    "sim = Simulator(n=90, freq=\"D\", start = \"2021-01-01\") # simulate 90 days of data\n",
    "random_seed = 100\n",
    "\n",
    "# generate 10 TimeSeriesData with arima_sim\n",
    "np.random.seed(random_seed) # setting numpy seed\n",
    "arima_sim_list = [sim.arima_sim(ar=[0.1, 0.05], ma = [0.04, 0.1], d = 1) for _ in range(10)]\n",
    "\n",
    "# generate 10 TimeSeriesData with trend shifts\n",
    "trend_sim_list = [\n",
    "    sim.trend_shift_sim(\n",
    "        cp_arr = [30, 60, 75],\n",
    "        trend_arr=[3, 15, 2, 8],\n",
    "        intercept=30,\n",
    "        noise=50,\n",
    "        seasonal_period=7,\n",
    "        seasonal_magnitude=np.random.uniform(10, 100),\n",
    "        random_seed=random_seed\n",
    "    ) for _ in range(10)\n",
    "]\n",
    "\n",
    "\n",
    "# generate 10 TimeSeriesData with level shifts\n",
    "level_shift_list = [\n",
    "    sim.level_shift_sim(\n",
    "        cp_arr = [30, 60, 75],\n",
    "        level_arr=[1.35, 1.05, 1.35, 1.2],\n",
    "        noise=0.05,\n",
    "        seasonal_period=7,\n",
    "        seasonal_magnitude=np.random.uniform(0.1, 1.0),\n",
    "        random_seed=random_seed\n",
    "    ) for _ in range(10)\n",
    "]\n",
    "ts_list = arima_sim_list + trend_sim_list + level_shift_list"
   ]
  },
  {
   "cell_type": "code",
   "execution_count": 12,
   "metadata": {},
   "outputs": [
    {
     "data": {
      "text/html": [
       "<div>\n",
       "<style scoped>\n",
       "    .dataframe tbody tr th:only-of-type {\n",
       "        vertical-align: middle;\n",
       "    }\n",
       "\n",
       "    .dataframe tbody tr th {\n",
       "        vertical-align: top;\n",
       "    }\n",
       "\n",
       "    .dataframe thead th {\n",
       "        text-align: right;\n",
       "    }\n",
       "</style>\n",
       "<table border=\"1\" class=\"dataframe\">\n",
       "  <thead>\n",
       "    <tr style=\"text-align: right;\">\n",
       "      <th></th>\n",
       "      <th>time</th>\n",
       "      <th>value</th>\n",
       "    </tr>\n",
       "  </thead>\n",
       "  <tbody>\n",
       "    <tr>\n",
       "      <th>0</th>\n",
       "      <td>2021-01-01</td>\n",
       "      <td>1.315192</td>\n",
       "    </tr>\n",
       "    <tr>\n",
       "      <th>1</th>\n",
       "      <td>2021-01-02</td>\n",
       "      <td>1.999997</td>\n",
       "    </tr>\n",
       "    <tr>\n",
       "      <th>2</th>\n",
       "      <td>2021-01-03</td>\n",
       "      <td>0.362509</td>\n",
       "    </tr>\n",
       "    <tr>\n",
       "      <th>3</th>\n",
       "      <td>2021-01-04</td>\n",
       "      <td>0.089215</td>\n",
       "    </tr>\n",
       "    <tr>\n",
       "      <th>4</th>\n",
       "      <td>2021-01-05</td>\n",
       "      <td>-1.761805</td>\n",
       "    </tr>\n",
       "    <tr>\n",
       "      <th>...</th>\n",
       "      <td>...</td>\n",
       "      <td>...</td>\n",
       "    </tr>\n",
       "    <tr>\n",
       "      <th>85</th>\n",
       "      <td>2021-03-27</td>\n",
       "      <td>4.780516</td>\n",
       "    </tr>\n",
       "    <tr>\n",
       "      <th>86</th>\n",
       "      <td>2021-03-28</td>\n",
       "      <td>5.377503</td>\n",
       "    </tr>\n",
       "    <tr>\n",
       "      <th>87</th>\n",
       "      <td>2021-03-29</td>\n",
       "      <td>4.904761</td>\n",
       "    </tr>\n",
       "    <tr>\n",
       "      <th>88</th>\n",
       "      <td>2021-03-30</td>\n",
       "      <td>5.030832</td>\n",
       "    </tr>\n",
       "    <tr>\n",
       "      <th>89</th>\n",
       "      <td>2021-03-31</td>\n",
       "      <td>6.288513</td>\n",
       "    </tr>\n",
       "  </tbody>\n",
       "</table>\n",
       "<p>90 rows × 2 columns</p>\n",
       "</div>"
      ],
      "text/plain": [
       "         time     value\n",
       "0  2021-01-01  1.315192\n",
       "1  2021-01-02  1.999997\n",
       "2  2021-01-03  0.362509\n",
       "3  2021-01-04  0.089215\n",
       "4  2021-01-05 -1.761805\n",
       "..        ...       ...\n",
       "85 2021-03-27  4.780516\n",
       "86 2021-03-28  5.377503\n",
       "87 2021-03-29  4.904761\n",
       "88 2021-03-30  5.030832\n",
       "89 2021-03-31  6.288513\n",
       "\n",
       "[90 rows x 2 columns]"
      ]
     },
     "execution_count": 12,
     "metadata": {},
     "output_type": "execute_result"
    }
   ],
   "source": [
    "ts_list[1]"
   ]
  },
  {
   "cell_type": "code",
   "execution_count": 7,
   "metadata": {},
   "outputs": [
    {
     "data": {
      "image/png": "[encoded data removed]",
      "text/plain": [
       "<Figure size 1000x600 with 1 Axes>"
      ]
     },
     "metadata": {},
     "output_type": "display_data"
    }
   ],
   "source": [
    "ts = ts_list[0]\n",
    "\n",
    "# plot the time series\n",
    "ts.plot(cols=['value'])\n",
    "plt.xticks(rotation = 45)\n",
    "plt.show()"
   ]
  },
  {
   "cell_type": "code",
   "execution_count": 8,
   "metadata": {},
   "outputs": [
    {
     "name": "stderr",
     "output_type": "stream",
     "text": [
      "WARNING:root:Holt-Winters failed Data must be positive.\n"
     ]
    },
    {
     "data": {
      "text/plain": [
       "{'length': 90,\n",
       " 'mean': -4.973228083549793,\n",
       " 'var': 50.69499812650379,\n",
       " 'entropy': 0.2742447620827895,\n",
       " 'lumpiness': 10.258210327109449,\n",
       " 'stability': 45.07760417461487,\n",
       " 'flat_spots': 1,\n",
       " 'hurst': 0.4188436896564726,\n",
       " 'std1st_der': 0.8773588739369633,\n",
       " 'crossing_points': 5,\n",
       " 'binarize_mean': 0.43333333333333335,\n",
       " 'unitroot_kpss': 0.41641147078333335,\n",
       " 'heterogeneity': 73.29527168434541,\n",
       " 'histogram_mode': -11.841676172131818,\n",
       " 'linearity': 0.8346355269096618,\n",
       " 'trend_strength': 0.9853025999592567,\n",
       " 'seasonality_strength': 0.3521955818150291,\n",
       " 'spikiness': 0.00020455870537077636,\n",
       " 'peak': 1,\n",
       " 'trough': 6,\n",
       " 'level_shift_idx': 23,\n",
       " 'level_shift_size': 0.7134342301151566,\n",
       " 'y_acf1': 0.9597578784708428,\n",
       " 'y_acf5': 4.0361834721280365,\n",
       " 'diff1y_acf1': 0.1830233735938267,\n",
       " 'diff1y_acf5': 0.0794760417768679,\n",
       " 'diff2y_acf1': -0.4816907863327952,\n",
       " 'diff2y_acf5': 0.24476824866108501,\n",
       " 'y_pacf5': 0.9862593061001352,\n",
       " 'diff1y_pacf5': 0.07981792144706332,\n",
       " 'diff2y_pacf5': 0.36145785941160113,\n",
       " 'seas_acf1': 0.8149983814152568,\n",
       " 'seas_pacf1': 0.030344962550473743,\n",
       " 'firstmin_ac': 53,\n",
       " 'firstzero_ac': 30,\n",
       " 'holt_alpha': 0.9999999850988388,\n",
       " 'holt_beta': 0.13656847479328407,\n",
       " 'hw_alpha': nan,\n",
       " 'hw_beta': nan,\n",
       " 'hw_gamma': nan}"
      ]
     },
     "execution_count": 8,
     "metadata": {},
     "output_type": "execute_result"
    }
   ],
   "source": [
    "# Step 1. initiate TsFeatures\n",
    "model = TsFeatures()\n",
    "\n",
    "# Step 2. use .transform() method, and apply on the target time series data\n",
    "output_features = model.transform(ts)\n",
    "output_features"
   ]
  },
  {
   "cell_type": "code",
   "execution_count": null,
   "metadata": {},
   "outputs": [],
   "source": [
    "model = TsFeatures()\n",
    "output_features = [model.transform(ts) for ts in ts_list]"
   ]
  }
 ],
 "metadata": {
  "kernelspec": {
   "display_name": "Python [conda env:kats]",
   "language": "python",
   "name": "conda-env-kats-py"
  },
  "language_info": {
   "codemirror_mode": {
    "name": "ipython",
    "version": 3
   },
   "file_extension": ".py",
   "mimetype": "text/x-python",
   "name": "python",
   "nbconvert_exporter": "python",
   "pygments_lexer": "ipython3",
   "version": "3.7.12"
  }
 },
 "nbformat": 4,
 "nbformat_minor": 4
}
