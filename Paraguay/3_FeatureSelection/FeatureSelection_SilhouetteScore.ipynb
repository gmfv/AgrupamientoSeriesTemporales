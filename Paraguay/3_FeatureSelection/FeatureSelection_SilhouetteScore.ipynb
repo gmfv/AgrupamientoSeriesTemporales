{
 "cells": [
  {
   "cell_type": "markdown",
   "metadata": {},
   "source": [
    "# GRÁFICO DEL SILHOUETTE SCORE SEGÚN CADA ELIMINACIÓN"
   ]
  },
  {
   "cell_type": "code",
   "execution_count": 1,
   "metadata": {},
   "outputs": [],
   "source": [
    "import math\n",
    "from math import sqrt, log, floor\n",
    "from sklearn.metrics import mean_squared_error\n",
    "from statistics import mean\n",
    "from fastdtw import fastdtw\n",
    "from scipy import stats\n",
    "from scipy.spatial.distance import pdist\n",
    " \n",
    "#Euclidean\n",
    "def euclidean(x, y):\n",
    "    r=np.linalg.norm(x-y)\n",
    "    if math.isnan(r):\n",
    "        r=1\n",
    "    #print(r)\n",
    "    return r\n",
    "\n",
    "#Fast Dynamic time warping\n",
    "def fast_DTW(x, y):\n",
    "    r, _ = fastdtw(x, y, dist=euclidean)\n",
    "    if math.isnan(r):\n",
    "        r=1\n",
    "    #print(r)\n",
    "    return r\n",
    "\n",
    "#Spearman\n",
    "def scorr(x, y):\n",
    "    r = stats.spearmanr(x, y)[0]\n",
    "    if math.isnan(r):\n",
    "        r=0\n",
    "    #print(r)\n",
    "    return 1 - r\n",
    "\n",
    "#RMSE\n",
    "def rmse(x, y):\n",
    "    r=sqrt(mean_squared_error(x,y))\n",
    "    if math.isnan(r):\n",
    "        r=1\n",
    "    #print(r)\n",
    "    return r\n",
    "\n",
    "def lcs(a, b):  \n",
    "    lengths = [[0 for j in range(len(b)+1)] for i in range(len(a)+1)]\n",
    "    # row 0 and column 0 are initialized to 0 already\n",
    "    for i, x in enumerate(a):\n",
    "        for j, y in enumerate(b):\n",
    "            if x == y:\n",
    "                lengths[i+1][j+1] = lengths[i][j] + 1\n",
    "            else:\n",
    "                lengths[i+1][j+1] = max(lengths[i+1][j], lengths[i][j+1])\n",
    "    x, y = len(a), len(b)\n",
    "    result = lengths[x][y]\n",
    "    return result\n",
    "\n",
    "def discretise(x):\n",
    "    return int(x * 10)\n",
    "\n",
    "def multidim_lcs(a, b):\n",
    "    a = a.applymap(discretise)\n",
    "    b = b.applymap(discretise)\n",
    "    rows, dims = a.shape\n",
    "    lcss = [lcs(a[i+2], b[i+2]) for i in range(dims)]\n",
    "    return 1 - sum(lcss) / (rows * dims)\n",
    "\n",
    "#Correlation\n",
    "def corr(x, y):\n",
    "    r=np.dot(x-mean(x),y-mean(y))/((np.linalg.norm(x-mean(x)))*(np.linalg.norm(y-mean(y))))\n",
    "    if math.isnan(r):\n",
    "        r=0\n",
    "    #print(r)\n",
    "    return 1 - r"
   ]
  },
  {
   "cell_type": "code",
   "execution_count": 2,
   "metadata": {},
   "outputs": [],
   "source": [
    "from sklearn.preprocessing import LabelEncoder\n",
    "#from yellowbrick.cluster import KElbowVisualizer\n",
    "from sklearn.cluster import KMeans, AgglomerativeClustering, DBSCAN\n",
    "import scipy.cluster.hierarchy as hac\n",
    "from scipy.cluster.hierarchy import fcluster\n",
    "from sklearn.metrics import silhouette_score, calinski_harabasz_score\n",
    "\n",
    "DIAMETER_METHODS = ['mean_cluster', 'farthest']\n",
    "CLUSTER_DISTANCE_METHODS = ['nearest', 'farthest']\n",
    "\n",
    "def inter_cluster_distances(labels, distances, method='nearest'):\n",
    "    \"\"\"Calculates the distances between the two nearest points of each cluster.\n",
    "    :param labels: a list containing cluster labels for each of the n elements\n",
    "    :param distances: an n x n numpy.array containing the pairwise distances between elements\n",
    "    :param method: `nearest` for the distances between the two nearest points in each cluster, or `farthest`\n",
    "    \"\"\"\n",
    "    if method not in CLUSTER_DISTANCE_METHODS:\n",
    "        raise ValueError(\n",
    "            'method must be one of {}'.format(CLUSTER_DISTANCE_METHODS))\n",
    "\n",
    "    if method == 'nearest':\n",
    "        return __cluster_distances_by_points(labels, distances)\n",
    "    elif method == 'farthest':\n",
    "        return __cluster_distances_by_points(labels, distances, farthest=True)\n",
    "\n",
    "\n",
    "def __cluster_distances_by_points(labels, distances, farthest=False):\n",
    "    n_unique_labels = len(np.unique(labels))\n",
    "    cluster_distances = np.full((n_unique_labels, n_unique_labels),\n",
    "                                float('inf') if not farthest else 0)\n",
    "\n",
    "    np.fill_diagonal(cluster_distances, 0)\n",
    "\n",
    "    for i in np.arange(0, len(labels) - 1):\n",
    "        for ii in np.arange(i, len(labels)):\n",
    "            if labels[i] != labels[ii] and (\n",
    "                (not farthest and\n",
    "                 distances[i, ii] < cluster_distances[labels[i], labels[ii]])\n",
    "                    or\n",
    "                (farthest and\n",
    "                 distances[i, ii] > cluster_distances[labels[i], labels[ii]])):\n",
    "                cluster_distances[labels[i], labels[ii]] = cluster_distances[\n",
    "                    labels[ii], labels[i]] = distances[i, ii]\n",
    "    return cluster_distances\n",
    "\n",
    "\n",
    "def diameter(labels, distances, method='farthest'):\n",
    "    \"\"\"Calculates cluster diameters\n",
    "    :param labels: a list containing cluster labels for each of the n elements\n",
    "    :param distances: an n x n numpy.array containing the pairwise distances between elements\n",
    "    :param method: either `mean_cluster` for the mean distance between all elements in each cluster, or `farthest` for the distance between the two points furthest from each other\n",
    "    \"\"\"\n",
    "    if method not in DIAMETER_METHODS:\n",
    "        raise ValueError('method must be one of {}'.format(DIAMETER_METHODS))\n",
    "\n",
    "    n_clusters = len(np.unique(labels))\n",
    "    diameters = np.zeros(n_clusters)\n",
    "\n",
    "    if method == 'mean_cluster':\n",
    "        for i in range(0, len(labels) - 1):\n",
    "            for ii in range(i + 1, len(labels)):\n",
    "                if labels[i] == labels[ii]:\n",
    "                    diameters[labels[i]] += distances[i, ii]\n",
    "\n",
    "        for i in range(len(diameters)):\n",
    "            diameters[i] /= sum(labels == i)\n",
    "\n",
    "    elif method == 'farthest':\n",
    "        for i in range(0, len(labels) - 1):\n",
    "            for ii in range(i + 1, len(labels)):\n",
    "                if labels[i] == labels[ii] and distances[i, ii] > diameters[\n",
    "                        labels[i]]:\n",
    "                    diameters[labels[i]] = distances[i, ii]\n",
    "    return diameters\n",
    "\n",
    "def dunn(labels, distances, diameter_method='farthest',\n",
    "         cdist_method='nearest'):\n",
    "    \"\"\"\n",
    "    Dunn index for cluster validation (larger is better).\n",
    "    \n",
    "    .. math:: D = \\\\min_{i = 1 \\\\ldots n_c; j = i + 1\\ldots n_c} \\\\left\\\\lbrace \\\\frac{d \\\\left( c_i,c_j \\\\right)}{\\\\max_{k = 1 \\\\ldots n_c} \\\\left(diam \\\\left(c_k \\\\right) \\\\right)} \\\\right\\\\rbrace\n",
    "    \n",
    "    where :math:`d(c_i,c_j)` represents the distance between\n",
    "    clusters :math:`c_i` and :math:`c_j`, and :math:`diam(c_k)` is the diameter of cluster :math:`c_k`.\n",
    "    Inter-cluster distance can be defined in many ways, such as the distance between cluster centroids or between their closest elements. Cluster diameter can be defined as the mean distance between all elements in the cluster, between all elements to the cluster centroid, or as the distance between the two furthest elements.\n",
    "    The higher the value of the resulting Dunn index, the better the clustering\n",
    "    result is considered, since higher values indicate that clusters are\n",
    "    compact (small :math:`diam(c_k)`) and far apart (large :math:`d \\\\left( c_i,c_j \\\\right)`).\n",
    "    :param labels: a list containing cluster labels for each of the n elements\n",
    "    :param distances: an n x n numpy.array containing the pairwise distances between elements\n",
    "    :param diameter_method: see :py:function:`diameter` `method` parameter\n",
    "    :param cdist_method: see :py:function:`diameter` `method` parameter\n",
    "    \n",
    "    .. [Kovacs2005] Kovács, F., Legány, C., & Babos, A. (2005). Cluster validity measurement techniques. 6th International Symposium of Hungarian Researchers on Computational Intelligence.\n",
    "    \"\"\"\n",
    "\n",
    "    labels = LabelEncoder().fit(labels).transform(labels)\n",
    "    \n",
    "    \n",
    "\n",
    "    ic_distances = inter_cluster_distances(labels, distances, cdist_method)\n",
    "    #print(\"IC\",ic_distances)\n",
    "    if len(ic_distances[ic_distances.nonzero()])==0:\n",
    "        min_distance = 0\n",
    "    else:\n",
    "        min_distance = min(ic_distances[ic_distances.nonzero()])\n",
    "    max_diameter = max(diameter(labels, distances, diameter_method))\n",
    "    \n",
    "    \n",
    "\n",
    "    return min_distance / max_diameter"
   ]
  },
  {
   "cell_type": "markdown",
   "metadata": {},
   "source": [
    "# Distancias"
   ]
  },
  {
   "cell_type": "code",
   "execution_count": 3,
   "metadata": {},
   "outputs": [],
   "source": [
    "import pandas as pd\n",
    "import os\n",
    "my_path = os.path.abspath('')\n",
    "my_path = my_path.split('\\\\')\n",
    "my_path_py = \"\\\\\".join(my_path[:-1])\n",
    "\n",
    "features = pd.read_csv(my_path_py+'\\\\2_FeatureBased\\\\FB2_2009al2013.csv', sep=',')"
   ]
  },
  {
   "cell_type": "code",
   "execution_count": 4,
   "metadata": {},
   "outputs": [],
   "source": [
    "#features = features.iloc[:, 1:]\n",
    "listadistrito = features.Distrito.values\n",
    "features = features.drop('Distrito', axis=1)"
   ]
  },
  {
   "cell_type": "code",
   "execution_count": 5,
   "metadata": {},
   "outputs": [
    {
     "data": {
      "text/plain": [
       "200"
      ]
     },
     "execution_count": 5,
     "metadata": {},
     "output_type": "execute_result"
    }
   ],
   "source": [
    "features.shape[0]"
   ]
  },
  {
   "cell_type": "code",
   "execution_count": 6,
   "metadata": {},
   "outputs": [],
   "source": [
    "lista_excluded = features.columns.tolist()\n",
    "#lista_excluded.insert(0, 'None')\n",
    "lista_excluded\n",
    "lista3 = [17, 16, 13, 11, 10, 8, 6, 4]"
   ]
  },
  {
   "cell_type": "code",
   "execution_count": 7,
   "metadata": {},
   "outputs": [],
   "source": [
    "import matplotlib.pyplot as plt\n",
    "import numpy as np\n",
    "from sklearn.metrics import silhouette_score, calinski_harabasz_score, davies_bouldin_score\n",
    "from sklearn.cluster import KMeans, AgglomerativeClustering, DBSCAN\n",
    "n = features.shape[0]\n",
    "\n",
    "#Euclidean\n",
    "f_euclidean_dist = pd.read_csv(my_path_py+'\\\\2_FeatureBased\\\\MatrizEuclidiana_FB_K6.csv', sep=',').to_numpy()\n",
    "#Corr\n",
    "corr_dist = pd.read_csv(my_path_py+'\\\\2_FeatureBased\\\\MatrizPearson_FB_K6.csv', sep=',').to_numpy()\n",
    "\n",
    "#scorr\n",
    "f_scorr_dist = pd.read_csv(my_path_py+'\\\\2_FeatureBased\\\\MatrizSpearman_FB_K6.csv', sep=',').to_numpy()\n",
    "#DTW\n",
    "f_dtw_dist = pd.read_csv(my_path_py+'\\\\2_FeatureBased\\\\MatrizDTW_FB_K6.csv', sep=',').to_numpy()"
   ]
  },
  {
   "cell_type": "code",
   "execution_count": 8,
   "metadata": {},
   "outputs": [
    {
     "name": "stdout",
     "output_type": "stream",
     "text": [
      "KM + euclidian distance: \n",
      "SC:  0.8608449076842872\n",
      "KM + corr distance: \n",
      "SC:  0.6676297567861202\n",
      "KM + scorr distance: \n",
      "SC:  0.5938395092490075\n",
      "KM + dtw distance: \n",
      "SC:  0.8588241791233674\n",
      "-----------------------\n"
     ]
    }
   ],
   "source": [
    "KM_EUCLIDEAN=[]\n",
    "KM_CORRELATION=[]\n",
    "KM_SPEARMAN=[]\n",
    "KM_DTW=[]\n",
    "k=5\n",
    "#Experimentos K-Means\n",
    "km_euc = KMeans(n_clusters=k).fit_predict(f_euclidean_dist)\n",
    "print(\"KM + euclidian distance: \")\n",
    "sil = silhouette_score(f_euclidean_dist, km_euc)\n",
    "print(\"SC: \", sil)\n",
    "KM_EUCLIDEAN.append(sil)\n",
    "\n",
    "km_corr = KMeans(n_clusters=k).fit_predict(corr_dist)\n",
    "print(\"KM + corr distance: \")\n",
    "sil = silhouette_score(corr_dist, km_corr)\n",
    "print(\"SC: \", sil)\n",
    "KM_CORRELATION.append(sil)\n",
    "\n",
    "km_scorr = KMeans(n_clusters=k).fit_predict(f_scorr_dist)\n",
    "print(\"KM + scorr distance: \")\n",
    "sil = silhouette_score(f_scorr_dist, km_scorr)\n",
    "print(\"SC: \", sil)\n",
    "KM_SPEARMAN.append(sil)\n",
    "\n",
    "km_dtw = KMeans(n_clusters=k).fit_predict(f_dtw_dist)\n",
    "print(\"KM + dtw distance: \")\n",
    "sil = silhouette_score(f_dtw_dist, km_dtw)\n",
    "print(\"SC: \", sil)\n",
    "KM_DTW.append(sil)\n",
    "print(\"-----------------------\")"
   ]
  },
  {
   "cell_type": "code",
   "execution_count": 9,
   "metadata": {},
   "outputs": [
    {
     "data": {
      "text/plain": [
       "18"
      ]
     },
     "execution_count": 9,
     "metadata": {},
     "output_type": "execute_result"
    }
   ],
   "source": [
    "features_aux = features.copy()\n",
    "features.shape[1]"
   ]
  },
  {
   "cell_type": "code",
   "execution_count": 11,
   "metadata": {},
   "outputs": [
    {
     "name": "stdout",
     "output_type": "stream",
     "text": [
      "--------------K-MEANS------------------\n",
      "KM + euclidian distance: \n",
      "SC:  0.8614294436424763\n",
      "KM + corr distance: \n",
      "SC:  0.6657680577610273\n",
      "KM + scorr distance: \n",
      "SC:  0.5347834153970298\n",
      "KM + dtw distance: \n",
      "SC:  0.8594121930423203\n",
      "--------------K-MEANS------------------\n",
      "KM + euclidian distance: \n",
      "SC:  0.8614294436424763\n",
      "KM + corr distance: \n",
      "SC:  0.6650659599421266\n",
      "KM + scorr distance: \n",
      "SC:  0.5743448623534693\n",
      "KM + dtw distance: \n",
      "SC:  0.8594121930423203\n",
      "--------------K-MEANS------------------\n",
      "KM + euclidian distance: \n",
      "SC:  0.8614294435622537\n",
      "KM + corr distance: \n",
      "SC:  0.6657671651633956\n",
      "KM + scorr distance: \n",
      "SC:  0.5933057217981568\n",
      "KM + dtw distance: \n",
      "SC:  0.8594125047266215\n",
      "--------------K-MEANS------------------\n",
      "KM + euclidian distance: \n",
      "SC:  0.8614294436424741\n",
      "KM + corr distance: \n",
      "SC:  0.6650659599415344\n",
      "KM + scorr distance: \n",
      "SC:  0.5668333541249523\n",
      "KM + dtw distance: \n",
      "SC:  0.8594127702654465\n",
      "--------------K-MEANS------------------\n",
      "KM + euclidian distance: \n",
      "SC:  0.8614294436389365\n",
      "KM + corr distance: \n",
      "SC:  0.6650659949246938\n",
      "KM + scorr distance: \n",
      "SC:  0.6166470797779017\n",
      "KM + dtw distance: \n",
      "SC:  0.8594127915112786\n",
      "--------------K-MEANS------------------\n",
      "KM + euclidian distance: \n",
      "SC:  0.8614294436129012\n",
      "KM + corr distance: \n",
      "SC:  0.6650670278063412\n",
      "KM + scorr distance: \n",
      "SC:  0.5838181817028164\n",
      "KM + dtw distance: \n",
      "SC:  0.8594150222359613\n",
      "--------------K-MEANS------------------\n",
      "KM + euclidian distance: \n",
      "SC:  0.8569666614171854\n",
      "KM + corr distance: \n",
      "SC:  0.6650624519070836\n",
      "KM + scorr distance: \n",
      "SC:  0.596348515995794\n",
      "KM + dtw distance: \n",
      "SC:  0.8594094813489747\n",
      "--------------K-MEANS------------------\n",
      "KM + euclidian distance: \n",
      "SC:  0.8588570298884796\n",
      "KM + corr distance: \n",
      "SC:  0.665065491482503\n",
      "KM + scorr distance: \n",
      "SC:  0.6147454649679088\n",
      "KM + dtw distance: \n",
      "SC:  0.8594140706648835\n"
     ]
    }
   ],
   "source": [
    "for i in lista3:\n",
    "    features = features_aux.drop(features_aux.columns[i], axis=1)\n",
    "    #Euclidean\n",
    "    f_euclidean_dist = np.zeros((n,n))\n",
    "    for i in range(0,n):\n",
    "        #print(\"i\",i)\n",
    "        for j in range(1,n):\n",
    "            #print(\"j\",j)\n",
    "            f_euclidean_dist[i,j] = euclidean(features.iloc[i].values.flatten(), features.iloc[j].values.flatten())\n",
    "    #Corr\n",
    "    f_corr_dist = np.zeros((n,n))\n",
    "    for i in range(0,n):\n",
    "        #print(\"i\",i)\n",
    "        for j in range(0,n):\n",
    "           # print(\"j\",j)\n",
    "            f_corr_dist[i,j] = corr(features.iloc[i].values.flatten(), features.iloc[j].values.flatten())\n",
    "\n",
    "    #scorr\n",
    "    f_scorr_dist = np.zeros((n,n))\n",
    "    for i in range(0,n):\n",
    "        #print(\"i\",i)\n",
    "        for j in range(0,n):\n",
    "           # print(\"j\",j)\n",
    "            f_scorr_dist[i,j] = scorr(features.iloc[i].values.flatten(), features.iloc[j].values.flatten())\n",
    "    #DTW\n",
    "    f_dtw_dist = np.zeros((n,n))\n",
    "    for i in range(0,n):\n",
    "        #print(\"i\",i)\n",
    "        for j in range(0,n):\n",
    "            # print(\"j\",j)\n",
    "            f_dtw_dist[i,j] = fast_DTW(features.iloc[i].values.flatten(), features.iloc[j].values.flatten())\n",
    "    print(\"--------------K-MEANS------------------\")\n",
    "    #Experimentos K-Means\n",
    "    km_euc = KMeans(n_clusters=k).fit_predict(f_euclidean_dist)\n",
    "    print(\"KM + euclidian distance: \")\n",
    "    sil = silhouette_score(f_euclidean_dist, km_euc)\n",
    "    print(\"SC: \", sil)\n",
    "    KM_EUCLIDEAN.append(sil)\n",
    "\n",
    "    km_corr = KMeans(n_clusters=k).fit_predict(f_corr_dist)\n",
    "    print(\"KM + corr distance: \")\n",
    "    sil = silhouette_score(f_corr_dist, km_corr)\n",
    "    print(\"SC: \", sil)\n",
    "    KM_CORRELATION.append(sil)\n",
    "\n",
    "    km_scorr = KMeans(n_clusters=k).fit_predict(f_scorr_dist)\n",
    "    print(\"KM + scorr distance: \")\n",
    "    sil = silhouette_score(f_scorr_dist, km_scorr)\n",
    "    print(\"SC: \", sil)\n",
    "    KM_SPEARMAN.append(sil)\n",
    "\n",
    "    km_dtw = KMeans(n_clusters=k).fit_predict(f_dtw_dist)\n",
    "    print(\"KM + dtw distance: \")\n",
    "    sil = silhouette_score(f_dtw_dist, km_dtw)\n",
    "    print(\"SC: \", sil)\n",
    "    KM_DTW.append(sil)"
   ]
  },
  {
   "cell_type": "code",
   "execution_count": 26,
   "metadata": {},
   "outputs": [],
   "source": [
    "KM_EUCLIDEAN.sort(reverse=False)"
   ]
  },
  {
   "cell_type": "code",
   "execution_count": 57,
   "metadata": {},
   "outputs": [
    {
     "data": {
      "text/plain": [
       "[0.8569666614171854,\n",
       " 0.8588570298884796,\n",
       " 0.8608449076842872,\n",
       " 0.8614294435622537,\n",
       " 0.8614294436129012,\n",
       " 0.8614294436389365,\n",
       " 0.8614294436424741,\n",
       " 0.8614294436424763,\n",
       " 0.8614294436424763]"
      ]
     },
     "execution_count": 57,
     "metadata": {},
     "output_type": "execute_result"
    }
   ],
   "source": [
    "KM_EUCLIDEAN"
   ]
  },
  {
   "cell_type": "code",
   "execution_count": 40,
   "metadata": {},
   "outputs": [],
   "source": [
    "import math \n",
    "\n",
    "KM_EUCLIDEAN_log = []\n",
    "for i in KM_EUCLIDEAN:\n",
    "    KM_EUCLIDEAN_log.append(math.log(i*10))"
   ]
  },
  {
   "cell_type": "code",
   "execution_count": 54,
   "metadata": {},
   "outputs": [
    {
     "data": {
      "image/png": "[encoded data removed]",
      "text/plain": [
       "<Figure size 720x288 with 1 Axes>"
      ]
     },
     "metadata": {
      "needs_background": "light"
     },
     "output_type": "display_data"
    }
   ],
   "source": [
    "import matplotlib.pyplot as plt\n",
    "\n",
    "plt.figure(figsize=[10,4])\n",
    "ax = plt.axes()\n",
    "ax.plot(list(range(len(KM_EUCLIDEAN_log))), KM_EUCLIDEAN_log, linewidth=2, marker='o')\n",
    "ax.set(ylim=(2.148, 2.154),\n",
    "       xlabel='Atributos removidos', ylabel='Log(Sil Score*10)',\n",
    "       #title='Sil vs N de atributos removidos');\n",
    "      );\n",
    "ax.grid(True)\n",
    "ax.set_yscale('log')\n",
    "plt.savefig(my_path_py + '\\\\Pictures\\\\SilScore_EliminacionF.png')\n"
   ]
  },
  {
   "cell_type": "code",
   "execution_count": 14,
   "metadata": {},
   "outputs": [
    {
     "data": {
      "image/png": "[encoded data removed]",
      "text/plain": [
       "<Figure size 432x288 with 1 Axes>"
      ]
     },
     "metadata": {
      "needs_background": "light"
     },
     "output_type": "display_data"
    }
   ],
   "source": [
    "ax = plt.axes()\n",
    "ax.plot(list(range(len(KM_DTW))), KM_DTW, linewidth=2, marker='o')\n",
    "ax.set(xlim=(0, 10), ylim=(0.5, 1),\n",
    "       xlabel='Atributos removidos', ylabel='Puntaje Silhouette',\n",
    "       title='Sil vs N de atributos removidos');"
   ]
  },
  {
   "cell_type": "code",
   "execution_count": 55,
   "metadata": {},
   "outputs": [
    {
     "data": {
      "image/png": "[encoded data removed]",
      "text/plain": [
       "<Figure size 432x288 with 1 Axes>"
      ]
     },
     "metadata": {
      "needs_background": "light"
     },
     "output_type": "display_data"
    }
   ],
   "source": [
    "ax = plt.axes()\n",
    "ax.plot(list(range(len(KM_CORRELATION))), KM_CORRELATION, linewidth=2, marker='o')\n",
    "ax.set(xlim=(0, 10), ylim=(0.5, 1),\n",
    "       xlabel='Atributos removidos', ylabel='Puntaje Silhouette',\n",
    "       title='Sil vs N de atributos removidos');"
   ]
  },
  {
   "cell_type": "code",
   "execution_count": 56,
   "metadata": {},
   "outputs": [
    {
     "data": {
      "image/png": "[encoded data removed]",
      "text/plain": [
       "<Figure size 432x288 with 1 Axes>"
      ]
     },
     "metadata": {
      "needs_background": "light"
     },
     "output_type": "display_data"
    }
   ],
   "source": [
    "ax = plt.axes()\n",
    "ax.plot(list(range(len(KM_SPEARMAN))), KM_SPEARMAN, linewidth=2, marker='o')\n",
    "ax.set(xlim=(0, 10), ylim=(0.5, 1),\n",
    "       xlabel='Atributos removidos', ylabel='Puntaje Silhouette',\n",
    "       title='Sil vs N de atributos removidos');"
   ]
  },
  {
   "cell_type": "code",
   "execution_count": null,
   "metadata": {},
   "outputs": [],
   "source": []
  }
 ],
 "metadata": {
  "kernelspec": {
   "display_name": "Python 3",
   "language": "python",
   "name": "python3"
  },
  "language_info": {
   "codemirror_mode": {
    "name": "ipython",
    "version": 3
   },
   "file_extension": ".py",
   "mimetype": "text/x-python",
   "name": "python",
   "nbconvert_exporter": "python",
   "pygments_lexer": "ipython3",
   "version": "3.8.5"
  },
  "widgets": {
   "application/vnd.jupyter.widget-state+json": {
    "state": {},
    "version_major": 2,
    "version_minor": 0
   }
  }
 },
 "nbformat": 4,
 "nbformat_minor": 4
}
