{
 "cells": [
  {
   "cell_type": "code",
   "execution_count": 1,
   "metadata": {},
   "outputs": [],
   "source": [
    "import pandas as pd\n"
   ]
  },
  {
   "cell_type": "code",
   "execution_count": 2,
   "metadata": {},
   "outputs": [],
   "source": [
    "sil = pd.read_csv('SilhoutteScore_FeatureSelection.csv', sep=',')\n",
    "sil = sil.drop(columns=['Unnamed: 0'])\n",
    "chz = pd.read_csv('CHZScore_FeatureSelection.csv', sep=',')\n",
    "chz = chz.drop(columns=['Unnamed: 0'])\n",
    "dunn = pd.read_csv('DUNN_FeatureSelection.csv', sep=',')\n",
    "dunn = dunn.drop(columns=['Unnamed: 0'])\n",
    "dav = pd.read_csv('Davies_FeatureSelection.csv', sep=',')\n",
    "dav = dav.drop(columns=['Unnamed: 0'])"
   ]
  },
  {
   "cell_type": "code",
   "execution_count": 3,
   "metadata": {},
   "outputs": [],
   "source": [
    "todosf = sil[sil['Excluded metric'] == 'None']\n",
    "todosf = todosf.drop('Excluded metric', axis=1)"
   ]
  },
  {
   "cell_type": "code",
   "execution_count": 4,
   "metadata": {},
   "outputs": [],
   "source": [
    "scores = pd.read_csv('Scores_FeatureBased_Unsupervised.csv', sep=',')\n",
    "scores = scores.drop('Unnamed: 0', axis=1)"
   ]
  },
  {
   "cell_type": "code",
   "execution_count": 10,
   "metadata": {},
   "outputs": [
    {
     "data": {
      "text/html": [
       "<div>\n",
       "<style scoped>\n",
       "    .dataframe tbody tr th:only-of-type {\n",
       "        vertical-align: middle;\n",
       "    }\n",
       "\n",
       "    .dataframe tbody tr th {\n",
       "        vertical-align: top;\n",
       "    }\n",
       "\n",
       "    .dataframe thead th {\n",
       "        text-align: right;\n",
       "    }\n",
       "</style>\n",
       "<table border=\"1\" class=\"dataframe\">\n",
       "  <thead>\n",
       "    <tr style=\"text-align: right;\">\n",
       "      <th></th>\n",
       "      <th>Metrica</th>\n",
       "      <th>HAC All Features</th>\n",
       "      <th>HAC FS Unsupervised</th>\n",
       "      <th>KM All Features</th>\n",
       "      <th>KM FS Unsupervised</th>\n",
       "      <th>DB All Features</th>\n",
       "      <th>DB FS Unsupervised</th>\n",
       "    </tr>\n",
       "  </thead>\n",
       "  <tbody>\n",
       "    <tr>\n",
       "      <th>0</th>\n",
       "      <td>Euclidean Distance</td>\n",
       "      <td>0.831921</td>\n",
       "      <td>0.831921</td>\n",
       "      <td>0.831921</td>\n",
       "      <td>0.831921</td>\n",
       "      <td>0.131739</td>\n",
       "      <td>0.131739</td>\n",
       "    </tr>\n",
       "    <tr>\n",
       "      <th>1</th>\n",
       "      <td>Pearson Correlation</td>\n",
       "      <td>0.623625</td>\n",
       "      <td>0.652646</td>\n",
       "      <td>0.637812</td>\n",
       "      <td>0.629871</td>\n",
       "      <td>0.402963</td>\n",
       "      <td>0.377648</td>\n",
       "    </tr>\n",
       "    <tr>\n",
       "      <th>2</th>\n",
       "      <td>Spearman Correlation</td>\n",
       "      <td>0.641162</td>\n",
       "      <td>0.455196</td>\n",
       "      <td>0.641162</td>\n",
       "      <td>0.474285</td>\n",
       "      <td>0.603897</td>\n",
       "      <td>0.649751</td>\n",
       "    </tr>\n",
       "    <tr>\n",
       "      <th>3</th>\n",
       "      <td>Dynamic Time Warping</td>\n",
       "      <td>0.827613</td>\n",
       "      <td>0.827630</td>\n",
       "      <td>0.827613</td>\n",
       "      <td>0.827630</td>\n",
       "      <td>-0.134314</td>\n",
       "      <td>-0.134378</td>\n",
       "    </tr>\n",
       "  </tbody>\n",
       "</table>\n",
       "</div>"
      ],
      "text/plain": [
       "                Metrica  HAC All Features  HAC FS Unsupervised  \\\n",
       "0    Euclidean Distance          0.831921             0.831921   \n",
       "1   Pearson Correlation          0.623625             0.652646   \n",
       "2  Spearman Correlation          0.641162             0.455196   \n",
       "3  Dynamic Time Warping          0.827613             0.827630   \n",
       "\n",
       "   KM All Features  KM FS Unsupervised  DB All Features  DB FS Unsupervised  \n",
       "0         0.831921            0.831921         0.131739            0.131739  \n",
       "1         0.637812            0.629871         0.402963            0.377648  \n",
       "2         0.641162            0.474285         0.603897            0.649751  \n",
       "3         0.827613            0.827630        -0.134314           -0.134378  "
      ]
     },
     "execution_count": 10,
     "metadata": {},
     "output_type": "execute_result"
    }
   ],
   "source": [
    "compara = pd.DataFrame()\n",
    "compara['Metrica'] = scores['METRICA']\n",
    "lista_aux = []\n",
    "\n",
    "for i in list(range(4)):\n",
    "    lista_aux.append(todosf.iloc[0,i])\n",
    "compara['HAC All Features'] = lista_aux \n",
    "compara['HAC FS Unsupervised'] = scores['SIL - HAC']\n",
    "\n",
    "lista_aux = []\n",
    "for i in list(range(4)):\n",
    "    lista_aux.append(todosf.iloc[0,4+i])\n",
    "compara['KM All Features'] = lista_aux \n",
    "compara['KM FS Unsupervised'] = scores['SIL - KM']\n",
    "\n",
    "lista_aux = []\n",
    "for i in list(range(4)):\n",
    "    lista_aux.append(todosf.iloc[0,8+i])  \n",
    "compara['DB All Features'] = lista_aux \n",
    "compara['DB FS Unsupervised'] = scores['SIL - DB']\n",
    "\n",
    "compara"
   ]
  },
  {
   "cell_type": "code",
   "execution_count": null,
   "metadata": {},
   "outputs": [],
   "source": []
  }
 ],
 "metadata": {
  "kernelspec": {
   "display_name": "Python 3",
   "language": "python",
   "name": "python3"
  },
  "language_info": {
   "codemirror_mode": {
    "name": "ipython",
    "version": 3
   },
   "file_extension": ".py",
   "mimetype": "text/x-python",
   "name": "python",
   "nbconvert_exporter": "python",
   "pygments_lexer": "ipython3",
   "version": "3.8.5"
  }
 },
 "nbformat": 4,
 "nbformat_minor": 4
}
